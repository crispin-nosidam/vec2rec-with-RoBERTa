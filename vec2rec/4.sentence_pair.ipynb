{
 "cells": [
  {
   "cell_type": "markdown",
   "metadata": {},
   "source": [
    "# Similarity Classification Using Sentence Pair Comparison with RoBERTa\n",
    "We have generated the labelled dataset from the previous notebook create_label.ipynb.\n",
    "<br>The datasets are split into training set and the validation set and put into variables train_df and eval_df respectively.\n",
    "\n",
    "[simpletransformer](https://simpletransformers.ai/) is a wrapper to Huggingface's transformer library which helps to standardize many of the training tasks and has a nice integration with Wegihts and Bias (WandB) visualization.\n",
    "\n",
    "The task of finding the candidate from the resume is essentially [GLUE](https://gluebenchmark.com/) task [Semantic Textual Similarity Benchmark (STS-B)]\n",
    "\n",
    "In here I am using the **ClassificationModel** with _regression=**True**_ which is suitable for providing a single value, in this case the similarity of two sentences.\n",
    "\n",
    "Instead of the original BERT for the pretrained model, I chose RoBERTa which uses the same engine but a different training method and more training time.\n",
    "<br>It performs reasonably well even with a trimmed-down training/eval set to allow this runnable for the project submission.\n",
    "<br>Comparatively, the original BERT base pretrained model (bert-base-cased) has a limited pretrained vocab and left lots of tokens marked as unknown \\[UNK\\]. Instead of using the BERT large I have picked the RoBERTa base (roberta-base) instead, which has a vocab of over 50k and covered most of the words used."
   ]
  },
  {
   "cell_type": "code",
   "execution_count": 1,
   "metadata": {},
   "outputs": [
    {
     "name": "stdout",
     "output_type": "stream",
     "text": [
      "Requirement already satisfied: transformers==3.0.2 in d:\\programdata\\anaconda3\\envs\\vec2rec-with-roberta\\lib\\site-packages (3.0.2)\n",
      "Requirement already satisfied: sacremoses in d:\\programdata\\anaconda3\\envs\\vec2rec-with-roberta\\lib\\site-packages (from transformers==3.0.2) (0.0.43)\n",
      "Requirement already satisfied: sentencepiece!=0.1.92 in d:\\programdata\\anaconda3\\envs\\vec2rec-with-roberta\\lib\\site-packages (from transformers==3.0.2) (0.1.91)\n",
      "Requirement already satisfied: packaging in d:\\programdata\\anaconda3\\envs\\vec2rec-with-roberta\\lib\\site-packages (from transformers==3.0.2) (20.4)\n",
      "Requirement already satisfied: numpy in d:\\programdata\\anaconda3\\envs\\vec2rec-with-roberta\\lib\\site-packages (from transformers==3.0.2) (1.19.1)\n",
      "Requirement already satisfied: tokenizers==0.8.1.rc1 in d:\\programdata\\anaconda3\\envs\\vec2rec-with-roberta\\lib\\site-packages (from transformers==3.0.2) (0.8.1rc1)\n",
      "Requirement already satisfied: requests in d:\\programdata\\anaconda3\\envs\\vec2rec-with-roberta\\lib\\site-packages (from transformers==3.0.2) (2.24.0)\n",
      "Requirement already satisfied: tqdm>=4.27 in d:\\programdata\\anaconda3\\envs\\vec2rec-with-roberta\\lib\\site-packages (from transformers==3.0.2) (4.48.2)\n",
      "Requirement already satisfied: filelock in d:\\programdata\\anaconda3\\envs\\vec2rec-with-roberta\\lib\\site-packages (from transformers==3.0.2) (3.0.12)\n",
      "Requirement already satisfied: regex!=2019.12.17 in d:\\programdata\\anaconda3\\envs\\vec2rec-with-roberta\\lib\\site-packages (from transformers==3.0.2) (2020.7.14)\n",
      "Requirement already satisfied: click in d:\\programdata\\anaconda3\\envs\\vec2rec-with-roberta\\lib\\site-packages (from sacremoses->transformers==3.0.2) (7.1.2)\n",
      "Requirement already satisfied: six in d:\\programdata\\anaconda3\\envs\\vec2rec-with-roberta\\lib\\site-packages (from sacremoses->transformers==3.0.2) (1.15.0)\n",
      "Requirement already satisfied: joblib in d:\\programdata\\anaconda3\\envs\\vec2rec-with-roberta\\lib\\site-packages (from sacremoses->transformers==3.0.2) (0.16.0)\n",
      "Requirement already satisfied: pyparsing>=2.0.2 in d:\\programdata\\anaconda3\\envs\\vec2rec-with-roberta\\lib\\site-packages (from packaging->transformers==3.0.2) (2.4.7)\n",
      "Requirement already satisfied: urllib3!=1.25.0,!=1.25.1,<1.26,>=1.21.1 in d:\\programdata\\anaconda3\\envs\\vec2rec-with-roberta\\lib\\site-packages (from requests->transformers==3.0.2) (1.25.10)\n",
      "Requirement already satisfied: certifi>=2017.4.17 in d:\\programdata\\anaconda3\\envs\\vec2rec-with-roberta\\lib\\site-packages (from requests->transformers==3.0.2) (2020.6.20)\n",
      "Requirement already satisfied: idna<3,>=2.5 in d:\\programdata\\anaconda3\\envs\\vec2rec-with-roberta\\lib\\site-packages (from requests->transformers==3.0.2) (2.10)\n",
      "Requirement already satisfied: chardet<4,>=3.0.2 in d:\\programdata\\anaconda3\\envs\\vec2rec-with-roberta\\lib\\site-packages (from requests->transformers==3.0.2) (3.0.4)\n"
     ]
    }
   ],
   "source": [
    "# simpletransformers only works with this version\n",
    "!pip install transformers==3.0.2"
   ]
  },
  {
   "cell_type": "code",
   "execution_count": 2,
   "metadata": {},
   "outputs": [],
   "source": [
    "# Read back the training and eval set we have created in create_label.ipynb.\n",
    "import pandas as pd\n",
    "suffix = \"_submit\"\n",
    "train_df = pd.read_excel(f\"../data/train_df{suffix}.xlsx\")\n",
    "eval_df = pd.read_excel(f\"../data/eval_df{suffix}.xlsx\")"
   ]
  },
  {
   "cell_type": "code",
   "execution_count": 3,
   "metadata": {},
   "outputs": [
    {
     "data": {
      "text/html": [
       "<div>\n",
       "<style scoped>\n",
       "    .dataframe tbody tr th:only-of-type {\n",
       "        vertical-align: middle;\n",
       "    }\n",
       "\n",
       "    .dataframe tbody tr th {\n",
       "        vertical-align: top;\n",
       "    }\n",
       "\n",
       "    .dataframe thead th {\n",
       "        text-align: right;\n",
       "    }\n",
       "</style>\n",
       "<table border=\"1\" class=\"dataframe\">\n",
       "  <thead>\n",
       "    <tr style=\"text-align: right;\">\n",
       "      <th></th>\n",
       "      <th>Unnamed: 0</th>\n",
       "      <th>title_job</th>\n",
       "      <th>text_a</th>\n",
       "      <th>title_res</th>\n",
       "      <th>text_b</th>\n",
       "      <th>labels</th>\n",
       "    </tr>\n",
       "  </thead>\n",
       "  <tbody>\n",
       "    <tr>\n",
       "      <th>0</th>\n",
       "      <td>0</td>\n",
       "      <td>c/ c++ software engineer</td>\n",
       "      <td>LTX Credence Armenia LLC is looking for Softwa...</td>\n",
       "      <td>c,c++ developer</td>\n",
       "      <td>Languages Known: C, C++, Data Structures, \\nJa...</td>\n",
       "      <td>4.319074</td>\n",
       "    </tr>\n",
       "    <tr>\n",
       "      <th>1</th>\n",
       "      <td>4</td>\n",
       "      <td>c/ c++ software engineer</td>\n",
       "      <td>LTX Credence Armenia LLC is looking for Softwa...</td>\n",
       "      <td>c,c++ developer</td>\n",
       "      <td>Languages Known: C, C++, Data Structures, \\nJa...</td>\n",
       "      <td>4.319074</td>\n",
       "    </tr>\n",
       "    <tr>\n",
       "      <th>2</th>\n",
       "      <td>5</td>\n",
       "      <td>c/ c++ software engineer</td>\n",
       "      <td>Dom Daniel Armenia is looking for dynamic self...</td>\n",
       "      <td>c,c++ developer</td>\n",
       "      <td>Languages Known: C, C++, Data Structures, \\nJa...</td>\n",
       "      <td>4.319074</td>\n",
       "    </tr>\n",
       "    <tr>\n",
       "      <th>3</th>\n",
       "      <td>6</td>\n",
       "      <td>c/ c++ software engineer</td>\n",
       "      <td>LTX Credence Armenia LLC is looking for Softwa...</td>\n",
       "      <td>c,c++ developer</td>\n",
       "      <td>Languages Known: C, C++, Data Structures, \\nJa...</td>\n",
       "      <td>4.319074</td>\n",
       "    </tr>\n",
       "    <tr>\n",
       "      <th>4</th>\n",
       "      <td>10</td>\n",
       "      <td>java/j2ee developer</td>\n",
       "      <td>PointSource is seeking full time J2EE Develope...</td>\n",
       "      <td>sr. java / j2ee developer</td>\n",
       "      <td>Responsibilities: \\n• Involved in Requirements...</td>\n",
       "      <td>4.280726</td>\n",
       "    </tr>\n",
       "    <tr>\n",
       "      <th>...</th>\n",
       "      <td>...</td>\n",
       "      <td>...</td>\n",
       "      <td>...</td>\n",
       "      <td>...</td>\n",
       "      <td>...</td>\n",
       "      <td>...</td>\n",
       "    </tr>\n",
       "    <tr>\n",
       "      <th>3839</th>\n",
       "      <td>7611</td>\n",
       "      <td>flash/ as3 developer</td>\n",
       "      <td>NY based social and mobile games startup is ge...</td>\n",
       "      <td>developer &amp; solution analyst</td>\n",
       "      <td>Domain Banking \\nTechnology MVC, C#.net, JQuer...</td>\n",
       "      <td>1.575380</td>\n",
       "    </tr>\n",
       "    <tr>\n",
       "      <th>3840</th>\n",
       "      <td>7613</td>\n",
       "      <td>unix systems administrator</td>\n",
       "      <td>Administration of Corporate Unix servers Plan...</td>\n",
       "      <td>senior developer/ business analyst</td>\n",
       "      <td>12-Sep-2012 Present Senior Developer/ Business...</td>\n",
       "      <td>0.273131</td>\n",
       "    </tr>\n",
       "    <tr>\n",
       "      <th>3841</th>\n",
       "      <td>7614</td>\n",
       "      <td>unix systems administrator</td>\n",
       "      <td>Administration of corporate Unix Solaris Linu...</td>\n",
       "      <td>senior developer/ business analyst</td>\n",
       "      <td>12-Sep-2012 Present Senior Developer/ Business...</td>\n",
       "      <td>0.273131</td>\n",
       "    </tr>\n",
       "    <tr>\n",
       "      <th>3842</th>\n",
       "      <td>7615</td>\n",
       "      <td>unix systems administrator</td>\n",
       "      <td>ArmenTel is seeking for candidates to fulfill ...</td>\n",
       "      <td>senior developer/ business analyst</td>\n",
       "      <td>12-Sep-2012 Present Senior Developer/ Business...</td>\n",
       "      <td>0.273131</td>\n",
       "    </tr>\n",
       "    <tr>\n",
       "      <th>3843</th>\n",
       "      <td>7616</td>\n",
       "      <td>unix systems administrator</td>\n",
       "      <td>ArmenTel is looking for candidates to fulfill ...</td>\n",
       "      <td>senior developer/ business analyst</td>\n",
       "      <td>12-Sep-2012 Present Senior Developer/ Business...</td>\n",
       "      <td>0.273131</td>\n",
       "    </tr>\n",
       "  </tbody>\n",
       "</table>\n",
       "<p>3844 rows × 6 columns</p>\n",
       "</div>"
      ],
      "text/plain": [
       "      Unnamed: 0                   title_job  \\\n",
       "0              0    c/ c++ software engineer   \n",
       "1              4    c/ c++ software engineer   \n",
       "2              5    c/ c++ software engineer   \n",
       "3              6    c/ c++ software engineer   \n",
       "4             10         java/j2ee developer   \n",
       "...          ...                         ...   \n",
       "3839        7611        flash/ as3 developer   \n",
       "3840        7613  unix systems administrator   \n",
       "3841        7614  unix systems administrator   \n",
       "3842        7615  unix systems administrator   \n",
       "3843        7616  unix systems administrator   \n",
       "\n",
       "                                                 text_a  \\\n",
       "0     LTX Credence Armenia LLC is looking for Softwa...   \n",
       "1     LTX Credence Armenia LLC is looking for Softwa...   \n",
       "2     Dom Daniel Armenia is looking for dynamic self...   \n",
       "3     LTX Credence Armenia LLC is looking for Softwa...   \n",
       "4     PointSource is seeking full time J2EE Develope...   \n",
       "...                                                 ...   \n",
       "3839  NY based social and mobile games startup is ge...   \n",
       "3840   Administration of Corporate Unix servers Plan...   \n",
       "3841   Administration of corporate Unix Solaris Linu...   \n",
       "3842  ArmenTel is seeking for candidates to fulfill ...   \n",
       "3843  ArmenTel is looking for candidates to fulfill ...   \n",
       "\n",
       "                               title_res  \\\n",
       "0                        c,c++ developer   \n",
       "1                        c,c++ developer   \n",
       "2                        c,c++ developer   \n",
       "3                        c,c++ developer   \n",
       "4              sr. java / j2ee developer   \n",
       "...                                  ...   \n",
       "3839        developer & solution analyst   \n",
       "3840  senior developer/ business analyst   \n",
       "3841  senior developer/ business analyst   \n",
       "3842  senior developer/ business analyst   \n",
       "3843  senior developer/ business analyst   \n",
       "\n",
       "                                                 text_b    labels  \n",
       "0     Languages Known: C, C++, Data Structures, \\nJa...  4.319074  \n",
       "1     Languages Known: C, C++, Data Structures, \\nJa...  4.319074  \n",
       "2     Languages Known: C, C++, Data Structures, \\nJa...  4.319074  \n",
       "3     Languages Known: C, C++, Data Structures, \\nJa...  4.319074  \n",
       "4     Responsibilities: \\n• Involved in Requirements...  4.280726  \n",
       "...                                                 ...       ...  \n",
       "3839  Domain Banking \\nTechnology MVC, C#.net, JQuer...  1.575380  \n",
       "3840  12-Sep-2012 Present Senior Developer/ Business...  0.273131  \n",
       "3841  12-Sep-2012 Present Senior Developer/ Business...  0.273131  \n",
       "3842  12-Sep-2012 Present Senior Developer/ Business...  0.273131  \n",
       "3843  12-Sep-2012 Present Senior Developer/ Business...  0.273131  \n",
       "\n",
       "[3844 rows x 6 columns]"
      ]
     },
     "execution_count": 3,
     "metadata": {},
     "output_type": "execute_result"
    }
   ],
   "source": [
    "train_df"
   ]
  },
  {
   "cell_type": "code",
   "execution_count": 4,
   "metadata": {},
   "outputs": [
    {
     "data": {
      "text/plain": [
       "(1914, 6)"
      ]
     },
     "execution_count": 4,
     "metadata": {},
     "output_type": "execute_result"
    }
   ],
   "source": [
    "eval_df.shape"
   ]
  },
  {
   "cell_type": "code",
   "execution_count": 5,
   "metadata": {},
   "outputs": [
    {
     "name": "stdout",
     "output_type": "stream",
     "text": [
      "Successfully logged in to Weights & Biases!\n"
     ]
    },
    {
     "name": "stderr",
     "output_type": "stream",
     "text": [
      "wandb: Appending key for api.wandb.ai to your netrc file: C:\\Users\\kerkermui/.netrc\n"
     ]
    },
    {
     "data": {
      "text/html": [
       "\n",
       "                Logging results to <a href=\"https://wandb.com\" target=\"_blank\">Weights & Biases</a> <a href=\"https://docs.wandb.com/integrations/jupyter.html\" target=\"_blank\">(Documentation)</a>.<br/>\n",
       "                Project page: <a href=\"https://app.wandb.ai/crispin/vec2rec-roberta\" target=\"_blank\">https://app.wandb.ai/crispin/vec2rec-roberta</a><br/>\n",
       "                Run page: <a href=\"https://app.wandb.ai/crispin/vec2rec-roberta/runs/2ub2w7hf\" target=\"_blank\">https://app.wandb.ai/crispin/vec2rec-roberta/runs/2ub2w7hf</a><br/>\n",
       "            "
      ],
      "text/plain": [
       "<IPython.core.display.HTML object>"
      ]
     },
     "metadata": {},
     "output_type": "display_data"
    },
    {
     "data": {
      "text/plain": [
       "W&B Run: https://app.wandb.ai/crispin/vec2rec-roberta/runs/2ub2w7hf"
      ]
     },
     "execution_count": 5,
     "metadata": {},
     "output_type": "execute_result"
    }
   ],
   "source": [
    "!wandb login 20427a748e4feb47468643e4770a018a2152cc0c\n",
    "import wandb\n",
    "id = wandb.util.generate_id()\n",
    "wandb.init(project='vec2rec-roberta', id=id, resume=\"allow\")"
   ]
  },
  {
   "cell_type": "code",
   "execution_count": 6,
   "metadata": {},
   "outputs": [
    {
     "name": "stderr",
     "output_type": "stream",
     "text": [
      "Some weights of the model checkpoint at roberta-base were not used when initializing RobertaForSequenceClassification: ['lm_head.bias', 'lm_head.dense.weight', 'lm_head.dense.bias', 'lm_head.layer_norm.weight', 'lm_head.layer_norm.bias', 'lm_head.decoder.weight']\n",
      "- This IS expected if you are initializing RobertaForSequenceClassification from the checkpoint of a model trained on another task or with another architecture (e.g. initializing a BertForSequenceClassification model from a BertForPretraining model).\n",
      "- This IS NOT expected if you are initializing RobertaForSequenceClassification from the checkpoint of a model that you expect to be exactly identical (initializing a BertForSequenceClassification model from a BertForSequenceClassification model).\n",
      "Some weights of RobertaForSequenceClassification were not initialized from the model checkpoint at roberta-base and are newly initialized: ['classifier.dense.weight', 'classifier.dense.bias', 'classifier.out_proj.weight', 'classifier.out_proj.bias']\n",
      "You should probably TRAIN this model on a down-stream task to be able to use it for predictions and inference.\n"
     ]
    },
    {
     "data": {
      "text/plain": [
       "ClassificationArgs(adam_epsilon=1e-08, best_model_dir='outputs/best_model', cache_dir='cache_dir/', custom_layer_parameters=[], custom_parameter_groups=[], train_custom_parameters_only=False, config={}, dataloader_num_workers=6, do_lower_case=False, early_stopping_consider_epochs=True, early_stopping_delta=0.001, early_stopping_metric='eval_loss', early_stopping_metric_minimize=True, early_stopping_patience=3, encoding=None, eval_batch_size=8, evaluate_during_training=True, evaluate_during_training_silent=True, evaluate_during_training_steps=200, evaluate_during_training_verbose=False, fp16=True, gradient_accumulation_steps=1, learning_rate=4e-05, local_rank=-1, logging_steps=50, manual_seed=None, max_grad_norm=1.0, max_seq_length=512, multiprocessing_chunksize=500, n_gpu=1, no_cache=False, no_save=False, num_train_epochs=5, output_dir='outputs/', overwrite_output_dir=True, process_count=6, reprocess_input_data=True, save_best_model=True, save_eval_checkpoints=False, save_model_every_epoch=True, save_steps=False, save_optimizer_and_scheduler=True, silent=False, tensorboard_dir=None, train_batch_size=6, use_cached_eval_features=False, use_early_stopping=True, use_multiprocessing=True, wandb_kwargs={'id': '2ub2w7hf', 'resume': True}, wandb_project='vec2rec-roberta', warmup_ratio=0.06, warmup_steps=0, weight_decay=0, labels_list=[0], labels_map={}, lazy_delimiter='\\t', lazy_labels_column=1, lazy_loading=False, lazy_loading_start_line=1, lazy_text_a_column=None, lazy_text_b_column=None, lazy_text_column=0, regression=True, sliding_window=False, stride=0.8, tie_value=1)"
      ]
     },
     "execution_count": 6,
     "metadata": {},
     "output_type": "execute_result"
    }
   ],
   "source": [
    "'''\n",
    "Initialize the model. Points of note:\n",
    "1) class ClassificationModel is selected with roberta-base as the pretrained model.\n",
    "2) It will take in evaluation data to determine / save the best model under outputs/best_model, happens every 200 steps.\n",
    "3) The model is trained on GPU. If run on Kaggle GPUs, it can achieve train_batch_size of 16. My home PC can only use 6.\n",
    "4) The max_seq_length determines the max length of the sentence pairs, based on previous statistics calculated 512 is enough.\n",
    "5) The epoch is set to 5 which is often enough for larger datasets. It will also use the evaluation data performance to\n",
    "   determine whether it can be stopped if there are no additional drops in the loss function. Given the small value of epochs\n",
    "   this is also set small to avoid it from stopping prematurely.\n",
    "6) The learning rate not shown here takes the default of 4e-5. However the model will also automatically adjust lr by default.\n",
    "7) WandB is configured to plot the progress of the training (shown below).\n",
    "'''\n",
    "from simpletransformers.classification import ClassificationModel\n",
    "train_args = {\n",
    "    'reprocess_input_data': True,\n",
    "    'evaluate_during_training': True,\n",
    "    'evaluate_during_training_steps': 200,\n",
    "    'max_seq_length': 512,\n",
    "    'num_train_epochs': 5,\n",
    "    'train_batch_size': 6,\n",
    "    #'train_batch_size': 16,\n",
    "    'wandb_project': 'vec2rec-roberta',\n",
    "    'wandb_kwargs':{\"id\":id, \"resume\":True},\n",
    "    #'no-cache':True,\n",
    "    #'no_save':True,\n",
    "    #'save_model_every_epoch':False,\n",
    "    'save_eval_checkpoints':False,\n",
    "    'save_steps':False,\n",
    "    #'best_model_dir':\"/kaggle/tmp/outputs/best_model\"\n",
    "    #'output_dir':\"/kaggle/tmp/outputs/\",\n",
    "    'overwrite_output_dir':True,\n",
    "    'use_early_stopping':True,\n",
    "    'early_stopping_delta':0.001,\n",
    "    'early_stopping_consider_epochs':True,\n",
    "    'regression': True,\n",
    "}\n",
    "model = ClassificationModel('roberta', 'roberta-base', num_labels=1, args=train_args, use_cuda=True)\n",
    "model.args"
   ]
  },
  {
   "cell_type": "code",
   "execution_count": 7,
   "metadata": {},
   "outputs": [],
   "source": [
    "# The Pearson and Spearman correlations are metrics used for STS-B\n",
    "# https://gluebenchmark.com/tasks\n",
    "from scipy.stats import pearsonr, spearmanr\n",
    "\n",
    "def pearson_corr(preds, labels):\n",
    "    return pearsonr(preds, labels)[0]\n",
    "\n",
    "def spearman_corr(preds, labels):\n",
    "    return spearmanr(preds, labels)[0]"
   ]
  },
  {
   "cell_type": "code",
   "execution_count": 8,
   "metadata": {},
   "outputs": [
    {
     "name": "stdout",
     "output_type": "stream",
     "text": [
      "2020-08-07 21:02:13.308315+08:00\n"
     ]
    }
   ],
   "source": [
    "import pytz\n",
    "from datetime import datetime\n",
    "\n",
    "print(datetime.now(pytz.timezone('Hongkong')))"
   ]
  },
  {
   "cell_type": "code",
   "execution_count": 9,
   "metadata": {
    "scrolled": false
   },
   "outputs": [
    {
     "data": {
      "text/html": [
       "<iframe src=\"https://app.wandb.ai/crispin/vec2rec-roberta/runs/2ub2w7hf?jupyter=true&state=paused\" style=\"border:none;width:100%;height:420px\">\n",
       "                </iframe>"
      ],
      "text/plain": [
       "<wandb.jupyter.Run at 0x22f80d18bc8>"
      ]
     },
     "metadata": {},
     "output_type": "display_data"
    },
    {
     "data": {
      "application/vnd.jupyter.widget-view+json": {
       "model_id": "9b7e4ed71ee84e26841a324964afeda1",
       "version_major": 2,
       "version_minor": 0
      },
      "text/plain": [
       "HBox(children=(FloatProgress(value=0.0, max=3844.0), HTML(value='')))"
      ]
     },
     "metadata": {},
     "output_type": "display_data"
    },
    {
     "name": "stdout",
     "output_type": "stream",
     "text": [
      "\n"
     ]
    },
    {
     "data": {
      "application/vnd.jupyter.widget-view+json": {
       "model_id": "345277cd41b9413e972535667444924b",
       "version_major": 2,
       "version_minor": 0
      },
      "text/plain": [
       "HBox(children=(FloatProgress(value=0.0, description='Epoch', max=5.0, style=ProgressStyle(description_width='i…"
      ]
     },
     "metadata": {},
     "output_type": "display_data"
    },
    {
     "data": {
      "text/html": [
       "\n",
       "                Logging results to <a href=\"https://wandb.com\" target=\"_blank\">Weights & Biases</a> <a href=\"https://docs.wandb.com/integrations/jupyter.html\" target=\"_blank\">(Documentation)</a>.<br/>\n",
       "                Project page: <a href=\"https://app.wandb.ai/crispin/vec2rec-roberta\" target=\"_blank\">https://app.wandb.ai/crispin/vec2rec-roberta</a><br/>\n",
       "                Run page: <a href=\"https://app.wandb.ai/crispin/vec2rec-roberta/runs/2ub2w7hf\" target=\"_blank\">https://app.wandb.ai/crispin/vec2rec-roberta/runs/2ub2w7hf</a><br/>\n",
       "            "
      ],
      "text/plain": [
       "<IPython.core.display.HTML object>"
      ]
     },
     "metadata": {},
     "output_type": "display_data"
    },
    {
     "data": {
      "application/vnd.jupyter.widget-view+json": {
       "model_id": "1ebe3b89ed6a4786aaeb4026dd0bcd09",
       "version_major": 2,
       "version_minor": 0
      },
      "text/plain": [
       "HBox(children=(FloatProgress(value=0.0, description='Running Epoch 0 of 5', max=641.0, style=ProgressStyle(des…"
      ]
     },
     "metadata": {},
     "output_type": "display_data"
    },
    {
     "name": "stderr",
     "output_type": "stream",
     "text": [
      "D:\\ProgramData\\Anaconda3\\envs\\vec2rec-with-RoBERTa\\lib\\site-packages\\torch\\optim\\lr_scheduler.py:123: UserWarning: Detected call of `lr_scheduler.step()` before `optimizer.step()`. In PyTorch 1.1.0 and later, you should call them in the opposite order: `optimizer.step()` before `lr_scheduler.step()`.  Failure to do this will result in PyTorch skipping the first value of the learning rate schedule. See more details at https://pytorch.org/docs/stable/optim.html#how-to-adjust-learning-rate\n",
      "  \"https://pytorch.org/docs/stable/optim.html#how-to-adjust-learning-rate\", UserWarning)\n",
      "D:\\ProgramData\\Anaconda3\\envs\\vec2rec-with-RoBERTa\\lib\\site-packages\\torch\\optim\\lr_scheduler.py:231: UserWarning: To get the last learning rate computed by the scheduler, please use `get_last_lr()`.\n",
      "  warnings.warn(\"To get the last learning rate computed by the scheduler, \"\n",
      "D:\\ProgramData\\Anaconda3\\envs\\vec2rec-with-RoBERTa\\lib\\site-packages\\torch\\optim\\lr_scheduler.py:200: UserWarning: Please also save or load the state of the optimzer when saving or loading the scheduler.\n",
      "  warnings.warn(SAVE_STATE_WARNING, UserWarning)\n"
     ]
    },
    {
     "name": "stdout",
     "output_type": "stream",
     "text": [
      "\n"
     ]
    },
    {
     "data": {
      "application/vnd.jupyter.widget-view+json": {
       "model_id": "67df863f2d2249c2ae4108d81fd4ffa3",
       "version_major": 2,
       "version_minor": 0
      },
      "text/plain": [
       "HBox(children=(FloatProgress(value=0.0, description='Running Epoch 1 of 5', max=641.0, style=ProgressStyle(des…"
      ]
     },
     "metadata": {},
     "output_type": "display_data"
    },
    {
     "name": "stdout",
     "output_type": "stream",
     "text": [
      "\n"
     ]
    },
    {
     "data": {
      "application/vnd.jupyter.widget-view+json": {
       "model_id": "be9013d3e7bf4ec6a774b1a07afad90a",
       "version_major": 2,
       "version_minor": 0
      },
      "text/plain": [
       "HBox(children=(FloatProgress(value=0.0, description='Running Epoch 2 of 5', max=641.0, style=ProgressStyle(des…"
      ]
     },
     "metadata": {},
     "output_type": "display_data"
    },
    {
     "name": "stdout",
     "output_type": "stream",
     "text": [
      "\n"
     ]
    },
    {
     "data": {
      "application/vnd.jupyter.widget-view+json": {
       "model_id": "364b92e9e04047d6930e6c6e7f0a9b13",
       "version_major": 2,
       "version_minor": 0
      },
      "text/plain": [
       "HBox(children=(FloatProgress(value=0.0, description='Running Epoch 3 of 5', max=641.0, style=ProgressStyle(des…"
      ]
     },
     "metadata": {},
     "output_type": "display_data"
    },
    {
     "name": "stdout",
     "output_type": "stream",
     "text": [
      "\n"
     ]
    },
    {
     "data": {
      "application/vnd.jupyter.widget-view+json": {
       "model_id": "5c1a358da686423da602800103b832ad",
       "version_major": 2,
       "version_minor": 0
      },
      "text/plain": [
       "HBox(children=(FloatProgress(value=0.0, description='Running Epoch 4 of 5', max=641.0, style=ProgressStyle(des…"
      ]
     },
     "metadata": {},
     "output_type": "display_data"
    },
    {
     "name": "stdout",
     "output_type": "stream",
     "text": [
      "\n",
      "\n",
      "Wall time: 33min 36s\n"
     ]
    }
   ],
   "source": [
    "%%time\n",
    "%%wandb\n",
    "# The model is trained and timed here with statistics shown in WandB websites displayed. The sample run took around 33 mins.\n",
    "model.train_model(train_df, eval_df=eval_df, pearson_corr=pearson_corr, spearman_corr=spearman_corr)"
   ]
  },
  {
   "cell_type": "code",
   "execution_count": 10,
   "metadata": {},
   "outputs": [
    {
     "data": {
      "application/vnd.jupyter.widget-view+json": {
       "model_id": "80d4a5aca03a4ab3bbaed4b9fe0381dc",
       "version_major": 2,
       "version_minor": 0
      },
      "text/plain": [
       "HBox(children=(FloatProgress(value=0.0, max=1914.0), HTML(value='')))"
      ]
     },
     "metadata": {},
     "output_type": "display_data"
    },
    {
     "name": "stdout",
     "output_type": "stream",
     "text": [
      "\n"
     ]
    },
    {
     "data": {
      "application/vnd.jupyter.widget-view+json": {
       "model_id": "dd233006aeaf46a0919d23dc8c5befb4",
       "version_major": 2,
       "version_minor": 0
      },
      "text/plain": [
       "HBox(children=(FloatProgress(value=0.0, description='Running Evaluation', max=240.0, style=ProgressStyle(descr…"
      ]
     },
     "metadata": {},
     "output_type": "display_data"
    },
    {
     "name": "stdout",
     "output_type": "stream",
     "text": [
      "\n"
     ]
    }
   ],
   "source": [
    "# Get the final results on the eval dataset. Given this is not a discrete value classification, we can ignore the wrong_predictions\n",
    "result, model_outputs, wrong_predictions = model.eval_model(eval_df, pearson_corr=pearson_corr, spearman_corr=spearman_corr)"
   ]
  },
  {
   "cell_type": "code",
   "execution_count": 11,
   "metadata": {},
   "outputs": [
    {
     "data": {
      "text/plain": [
       "{'pearson_corr': 0.9704873199597329,\n",
       " 'spearman_corr': 0.9384291351353189,\n",
       " 'eval_loss': 0.04246755579870296}"
      ]
     },
     "execution_count": 11,
     "metadata": {},
     "output_type": "execute_result"
    }
   ],
   "source": [
    "# The final loss is 0.042 with both correlations higher than 94% which is quite good given the small dataset\n",
    "result"
   ]
  },
  {
   "cell_type": "code",
   "execution_count": 12,
   "metadata": {},
   "outputs": [
    {
     "name": "stdout",
     "output_type": "stream",
     "text": [
      "2020-08-07 21:36:34.327369+08:00\n"
     ]
    }
   ],
   "source": [
    "import pytz\n",
    "from datetime import datetime\n",
    "\n",
    "print(datetime.now(pytz.timezone('Hongkong')))"
   ]
  },
  {
   "cell_type": "code",
   "execution_count": 13,
   "metadata": {},
   "outputs": [
    {
     "data": {
      "text/html": [
       "<div>\n",
       "<style scoped>\n",
       "    .dataframe tbody tr th:only-of-type {\n",
       "        vertical-align: middle;\n",
       "    }\n",
       "\n",
       "    .dataframe tbody tr th {\n",
       "        vertical-align: top;\n",
       "    }\n",
       "\n",
       "    .dataframe thead th {\n",
       "        text-align: right;\n",
       "    }\n",
       "</style>\n",
       "<table border=\"1\" class=\"dataframe\">\n",
       "  <thead>\n",
       "    <tr style=\"text-align: right;\">\n",
       "      <th></th>\n",
       "      <th>0</th>\n",
       "    </tr>\n",
       "  </thead>\n",
       "  <tbody>\n",
       "    <tr>\n",
       "      <th>count</th>\n",
       "      <td>1914.000000</td>\n",
       "    </tr>\n",
       "    <tr>\n",
       "      <th>mean</th>\n",
       "      <td>2.197480</td>\n",
       "    </tr>\n",
       "    <tr>\n",
       "      <th>std</th>\n",
       "      <td>0.831456</td>\n",
       "    </tr>\n",
       "    <tr>\n",
       "      <th>min</th>\n",
       "      <td>0.101427</td>\n",
       "    </tr>\n",
       "    <tr>\n",
       "      <th>25%</th>\n",
       "      <td>2.189659</td>\n",
       "    </tr>\n",
       "    <tr>\n",
       "      <th>50%</th>\n",
       "      <td>2.401755</td>\n",
       "    </tr>\n",
       "    <tr>\n",
       "      <th>75%</th>\n",
       "      <td>2.632547</td>\n",
       "    </tr>\n",
       "    <tr>\n",
       "      <th>max</th>\n",
       "      <td>4.170128</td>\n",
       "    </tr>\n",
       "  </tbody>\n",
       "</table>\n",
       "</div>"
      ],
      "text/plain": [
       "                 0\n",
       "count  1914.000000\n",
       "mean      2.197480\n",
       "std       0.831456\n",
       "min       0.101427\n",
       "25%       2.189659\n",
       "50%       2.401755\n",
       "75%       2.632547\n",
       "max       4.170128"
      ]
     },
     "execution_count": 13,
     "metadata": {},
     "output_type": "execute_result"
    }
   ],
   "source": [
    "pd.DataFrame(model_outputs).describe()"
   ]
  },
  {
   "cell_type": "code",
   "execution_count": 17,
   "metadata": {},
   "outputs": [
    {
     "data": {
      "text/html": [
       "<div>\n",
       "<style scoped>\n",
       "    .dataframe tbody tr th:only-of-type {\n",
       "        vertical-align: middle;\n",
       "    }\n",
       "\n",
       "    .dataframe tbody tr th {\n",
       "        vertical-align: top;\n",
       "    }\n",
       "\n",
       "    .dataframe thead th {\n",
       "        text-align: right;\n",
       "    }\n",
       "</style>\n",
       "<table border=\"1\" class=\"dataframe\">\n",
       "  <thead>\n",
       "    <tr style=\"text-align: right;\">\n",
       "      <th></th>\n",
       "      <th>title_job</th>\n",
       "      <th>text_a</th>\n",
       "      <th>title_res</th>\n",
       "      <th>text_b</th>\n",
       "      <th>labels</th>\n",
       "      <th>predict</th>\n",
       "      <th>error</th>\n",
       "    </tr>\n",
       "  </thead>\n",
       "  <tbody>\n",
       "    <tr>\n",
       "      <th>0</th>\n",
       "      <td>c/ c++ software engineer</td>\n",
       "      <td>LTX Credence Armenia LLC is looking for Softwa...</td>\n",
       "      <td>c,c++ developer</td>\n",
       "      <td>Languages Known: C, C++, Data Structures, \\nJa...</td>\n",
       "      <td>4.319074</td>\n",
       "      <td>4.170128</td>\n",
       "      <td>0.148946</td>\n",
       "    </tr>\n",
       "    <tr>\n",
       "      <th>1</th>\n",
       "      <td>c/ c++ software engineer</td>\n",
       "      <td>LTX Credence Armenia LLC is looking for Softwa...</td>\n",
       "      <td>c,c++ developer</td>\n",
       "      <td>Languages Known: C, C++, Data Structures, \\nJa...</td>\n",
       "      <td>4.319074</td>\n",
       "      <td>4.169966</td>\n",
       "      <td>0.149108</td>\n",
       "    </tr>\n",
       "    <tr>\n",
       "      <th>2</th>\n",
       "      <td>c/ c++ software engineer</td>\n",
       "      <td>LTX Credence Armenia LLC is looking for Softwa...</td>\n",
       "      <td>c++ developer</td>\n",
       "      <td>Atlanta, USA Aug 2011 - Sep 2012 \\nProject Nam...</td>\n",
       "      <td>4.108096</td>\n",
       "      <td>4.111215</td>\n",
       "      <td>0.003119</td>\n",
       "    </tr>\n",
       "    <tr>\n",
       "      <th>3</th>\n",
       "      <td>c/ c++ software engineer</td>\n",
       "      <td>LTX Credence Armenia LLC is looking for Softwa...</td>\n",
       "      <td>c++ developer</td>\n",
       "      <td>Atlanta, USA Aug 2011 - Sep 2012 \\nProject Nam...</td>\n",
       "      <td>4.108096</td>\n",
       "      <td>4.111654</td>\n",
       "      <td>0.003558</td>\n",
       "    </tr>\n",
       "    <tr>\n",
       "      <th>4</th>\n",
       "      <td>c/ c++ software engineer</td>\n",
       "      <td>Dom Daniel Armenia is looking for dynamic self...</td>\n",
       "      <td>c++ developer</td>\n",
       "      <td>Environment: CPP, Linux, JavaScript, GIT , RTC...</td>\n",
       "      <td>4.108096</td>\n",
       "      <td>4.066742</td>\n",
       "      <td>0.041354</td>\n",
       "    </tr>\n",
       "    <tr>\n",
       "      <th>...</th>\n",
       "      <td>...</td>\n",
       "      <td>...</td>\n",
       "      <td>...</td>\n",
       "      <td>...</td>\n",
       "      <td>...</td>\n",
       "      <td>...</td>\n",
       "      <td>...</td>\n",
       "    </tr>\n",
       "    <tr>\n",
       "      <th>1909</th>\n",
       "      <td>java intern</td>\n",
       "      <td>Internship opportunities are currently availab...</td>\n",
       "      <td>associate software developer</td>\n",
       "      <td>• Worked in the Feature Development of SAP Ana...</td>\n",
       "      <td>0.387010</td>\n",
       "      <td>0.346939</td>\n",
       "      <td>0.040071</td>\n",
       "    </tr>\n",
       "    <tr>\n",
       "      <th>1910</th>\n",
       "      <td>java intern</td>\n",
       "      <td>Internship opportunities are currently availab...</td>\n",
       "      <td>associate software developer</td>\n",
       "      <td>LPU UMS is a smart home grown web-based ERP (E...</td>\n",
       "      <td>0.387010</td>\n",
       "      <td>0.349583</td>\n",
       "      <td>0.037427</td>\n",
       "    </tr>\n",
       "    <tr>\n",
       "      <th>1911</th>\n",
       "      <td>java intern</td>\n",
       "      <td>Internship opportunities are currently availab...</td>\n",
       "      <td>associate software developer</td>\n",
       "      <td>• Businesses to Riders Group Project– Django +...</td>\n",
       "      <td>0.387010</td>\n",
       "      <td>0.352929</td>\n",
       "      <td>0.034081</td>\n",
       "    </tr>\n",
       "    <tr>\n",
       "      <th>1912</th>\n",
       "      <td>graphic designer / customer service operator</td>\n",
       "      <td>Time to Print salon of operative printing is l...</td>\n",
       "      <td>senior developer/ business analyst</td>\n",
       "      <td>12-Sep-2012 Present Senior Developer/ Business...</td>\n",
       "      <td>1.577018</td>\n",
       "      <td>0.899014</td>\n",
       "      <td>0.678004</td>\n",
       "    </tr>\n",
       "    <tr>\n",
       "      <th>1913</th>\n",
       "      <td>java intern</td>\n",
       "      <td>Internship opportunities are currently availab...</td>\n",
       "      <td>product development as per</td>\n",
       "      <td>Joining Date 02.08.2013 Relieving Date 06.09.2...</td>\n",
       "      <td>0.541718</td>\n",
       "      <td>0.400672</td>\n",
       "      <td>0.141047</td>\n",
       "    </tr>\n",
       "  </tbody>\n",
       "</table>\n",
       "<p>1914 rows × 7 columns</p>\n",
       "</div>"
      ],
      "text/plain": [
       "                                         title_job  \\\n",
       "0                         c/ c++ software engineer   \n",
       "1                         c/ c++ software engineer   \n",
       "2                         c/ c++ software engineer   \n",
       "3                         c/ c++ software engineer   \n",
       "4                         c/ c++ software engineer   \n",
       "...                                            ...   \n",
       "1909                                   java intern   \n",
       "1910                                   java intern   \n",
       "1911                                   java intern   \n",
       "1912  graphic designer / customer service operator   \n",
       "1913                                   java intern   \n",
       "\n",
       "                                                 text_a  \\\n",
       "0     LTX Credence Armenia LLC is looking for Softwa...   \n",
       "1     LTX Credence Armenia LLC is looking for Softwa...   \n",
       "2     LTX Credence Armenia LLC is looking for Softwa...   \n",
       "3     LTX Credence Armenia LLC is looking for Softwa...   \n",
       "4     Dom Daniel Armenia is looking for dynamic self...   \n",
       "...                                                 ...   \n",
       "1909  Internship opportunities are currently availab...   \n",
       "1910  Internship opportunities are currently availab...   \n",
       "1911  Internship opportunities are currently availab...   \n",
       "1912  Time to Print salon of operative printing is l...   \n",
       "1913  Internship opportunities are currently availab...   \n",
       "\n",
       "                               title_res  \\\n",
       "0                        c,c++ developer   \n",
       "1                        c,c++ developer   \n",
       "2                          c++ developer   \n",
       "3                          c++ developer   \n",
       "4                          c++ developer   \n",
       "...                                  ...   \n",
       "1909        associate software developer   \n",
       "1910        associate software developer   \n",
       "1911        associate software developer   \n",
       "1912  senior developer/ business analyst   \n",
       "1913          product development as per   \n",
       "\n",
       "                                                 text_b    labels   predict  \\\n",
       "0     Languages Known: C, C++, Data Structures, \\nJa...  4.319074  4.170128   \n",
       "1     Languages Known: C, C++, Data Structures, \\nJa...  4.319074  4.169966   \n",
       "2     Atlanta, USA Aug 2011 - Sep 2012 \\nProject Nam...  4.108096  4.111215   \n",
       "3     Atlanta, USA Aug 2011 - Sep 2012 \\nProject Nam...  4.108096  4.111654   \n",
       "4     Environment: CPP, Linux, JavaScript, GIT , RTC...  4.108096  4.066742   \n",
       "...                                                 ...       ...       ...   \n",
       "1909  • Worked in the Feature Development of SAP Ana...  0.387010  0.346939   \n",
       "1910  LPU UMS is a smart home grown web-based ERP (E...  0.387010  0.349583   \n",
       "1911  • Businesses to Riders Group Project– Django +...  0.387010  0.352929   \n",
       "1912  12-Sep-2012 Present Senior Developer/ Business...  1.577018  0.899014   \n",
       "1913  Joining Date 02.08.2013 Relieving Date 06.09.2...  0.541718  0.400672   \n",
       "\n",
       "         error  \n",
       "0     0.148946  \n",
       "1     0.149108  \n",
       "2     0.003119  \n",
       "3     0.003558  \n",
       "4     0.041354  \n",
       "...        ...  \n",
       "1909  0.040071  \n",
       "1910  0.037427  \n",
       "1911  0.034081  \n",
       "1912  0.678004  \n",
       "1913  0.141047  \n",
       "\n",
       "[1914 rows x 7 columns]"
      ]
     },
     "execution_count": 17,
     "metadata": {},
     "output_type": "execute_result"
    }
   ],
   "source": [
    "# Here we calculate the per row error in the eval dataset into the compare column\n",
    "compare_df = pd.concat([eval_df.loc[:, \"title_job\":\"labels\"], pd.DataFrame(model_outputs, index=eval_df.index, columns=[\"predict\"])], axis=1)\n",
    "compare_df[\"error\"] = abs(compare_df.labels - compare_df.predict)\n",
    "compare_df"
   ]
  },
  {
   "cell_type": "code",
   "execution_count": 18,
   "metadata": {},
   "outputs": [
    {
     "name": "stdout",
     "output_type": "stream",
     "text": [
      "0.041848985454064035\n",
      "0.07132642155234832\n"
     ]
    }
   ],
   "source": [
    "# The eval loss above is essentially the mean_squared_error, while we can also calculate the mean_absolute error\n",
    "# In this case we can see that for all of the eval set on average we have an error of 0.064 on a 5 point scale, which is not bad.\n",
    "from sklearn.metrics import mean_absolute_error, mean_squared_error\n",
    "\n",
    "print(mean_squared_error(compare_df.labels, compare_df.predict))\n",
    "print(mean_absolute_error(compare_df.labels, compare_df.predict))"
   ]
  },
  {
   "cell_type": "code",
   "execution_count": 19,
   "metadata": {},
   "outputs": [
    {
     "data": {
      "text/plain": [
       "count    1914.000000\n",
       "mean        0.071326\n",
       "std         0.191783\n",
       "min         0.000004\n",
       "25%         0.008940\n",
       "50%         0.018791\n",
       "75%         0.040119\n",
       "max         2.470064\n",
       "Name: error, dtype: float64"
      ]
     },
     "execution_count": 19,
     "metadata": {},
     "output_type": "execute_result"
    }
   ],
   "source": [
    "compare_df.error.describe()"
   ]
  },
  {
   "cell_type": "code",
   "execution_count": 20,
   "metadata": {},
   "outputs": [
    {
     "data": {
      "text/plain": [
       "(-1.0, 0.5]    1856\n",
       "(0.5, 1.0]       34\n",
       "(1.0, 2.0]       22\n",
       "(2.0, 3.0]        2\n",
       "(4.0, 6.0]        0\n",
       "(3.0, 4.0]        0\n",
       "Name: error, dtype: int64"
      ]
     },
     "execution_count": 20,
     "metadata": {},
     "output_type": "execute_result"
    }
   ],
   "source": [
    "# Only 70 samples have a score error > 0.5\n",
    "pd.cut(compare_df.error, bins=[-1,0.5,1,2,3,4,6], right=True).value_counts()"
   ]
  },
  {
   "cell_type": "code",
   "execution_count": 21,
   "metadata": {
    "scrolled": true
   },
   "outputs": [
    {
     "data": {
      "text/html": [
       "<div>\n",
       "<style scoped>\n",
       "    .dataframe tbody tr th:only-of-type {\n",
       "        vertical-align: middle;\n",
       "    }\n",
       "\n",
       "    .dataframe tbody tr th {\n",
       "        vertical-align: top;\n",
       "    }\n",
       "\n",
       "    .dataframe thead th {\n",
       "        text-align: right;\n",
       "    }\n",
       "</style>\n",
       "<table border=\"1\" class=\"dataframe\">\n",
       "  <thead>\n",
       "    <tr style=\"text-align: right;\">\n",
       "      <th></th>\n",
       "      <th>title_job</th>\n",
       "      <th>text_a</th>\n",
       "      <th>title_res</th>\n",
       "      <th>text_b</th>\n",
       "      <th>labels</th>\n",
       "      <th>predict</th>\n",
       "      <th>error</th>\n",
       "    </tr>\n",
       "  </thead>\n",
       "  <tbody>\n",
       "    <tr>\n",
       "      <th>0</th>\n",
       "      <td>c/ c++ software engineer</td>\n",
       "      <td>LTX Credence Armenia LLC is looking for Softwa...</td>\n",
       "      <td>c,c++ developer</td>\n",
       "      <td>Languages Known: C, C++, Data Structures, \\nJa...</td>\n",
       "      <td>4.319074</td>\n",
       "      <td>4.170128</td>\n",
       "      <td>0.148946</td>\n",
       "    </tr>\n",
       "    <tr>\n",
       "      <th>1</th>\n",
       "      <td>c/ c++ software engineer</td>\n",
       "      <td>LTX Credence Armenia LLC is looking for Softwa...</td>\n",
       "      <td>c,c++ developer</td>\n",
       "      <td>Languages Known: C, C++, Data Structures, \\nJa...</td>\n",
       "      <td>4.319074</td>\n",
       "      <td>4.169966</td>\n",
       "      <td>0.149108</td>\n",
       "    </tr>\n",
       "    <tr>\n",
       "      <th>2</th>\n",
       "      <td>c/ c++ software engineer</td>\n",
       "      <td>LTX Credence Armenia LLC is looking for Softwa...</td>\n",
       "      <td>c++ developer</td>\n",
       "      <td>Atlanta, USA Aug 2011 - Sep 2012 \\nProject Nam...</td>\n",
       "      <td>4.108096</td>\n",
       "      <td>4.111215</td>\n",
       "      <td>0.003119</td>\n",
       "    </tr>\n",
       "    <tr>\n",
       "      <th>3</th>\n",
       "      <td>c/ c++ software engineer</td>\n",
       "      <td>LTX Credence Armenia LLC is looking for Softwa...</td>\n",
       "      <td>c++ developer</td>\n",
       "      <td>Atlanta, USA Aug 2011 - Sep 2012 \\nProject Nam...</td>\n",
       "      <td>4.108096</td>\n",
       "      <td>4.111654</td>\n",
       "      <td>0.003558</td>\n",
       "    </tr>\n",
       "    <tr>\n",
       "      <th>4</th>\n",
       "      <td>c/ c++ software engineer</td>\n",
       "      <td>Dom Daniel Armenia is looking for dynamic self...</td>\n",
       "      <td>c++ developer</td>\n",
       "      <td>Environment: CPP, Linux, JavaScript, GIT , RTC...</td>\n",
       "      <td>4.108096</td>\n",
       "      <td>4.066742</td>\n",
       "      <td>0.041354</td>\n",
       "    </tr>\n",
       "    <tr>\n",
       "      <th>...</th>\n",
       "      <td>...</td>\n",
       "      <td>...</td>\n",
       "      <td>...</td>\n",
       "      <td>...</td>\n",
       "      <td>...</td>\n",
       "      <td>...</td>\n",
       "      <td>...</td>\n",
       "    </tr>\n",
       "    <tr>\n",
       "      <th>1908</th>\n",
       "      <td>java intern</td>\n",
       "      <td>Internship opportunities are currently availab...</td>\n",
       "      <td>associate software developer</td>\n",
       "      <td>Worked on building Andhra Pradesh district por...</td>\n",
       "      <td>0.387010</td>\n",
       "      <td>0.341872</td>\n",
       "      <td>0.045138</td>\n",
       "    </tr>\n",
       "    <tr>\n",
       "      <th>1909</th>\n",
       "      <td>java intern</td>\n",
       "      <td>Internship opportunities are currently availab...</td>\n",
       "      <td>associate software developer</td>\n",
       "      <td>• Worked in the Feature Development of SAP Ana...</td>\n",
       "      <td>0.387010</td>\n",
       "      <td>0.346939</td>\n",
       "      <td>0.040071</td>\n",
       "    </tr>\n",
       "    <tr>\n",
       "      <th>1910</th>\n",
       "      <td>java intern</td>\n",
       "      <td>Internship opportunities are currently availab...</td>\n",
       "      <td>associate software developer</td>\n",
       "      <td>LPU UMS is a smart home grown web-based ERP (E...</td>\n",
       "      <td>0.387010</td>\n",
       "      <td>0.349583</td>\n",
       "      <td>0.037427</td>\n",
       "    </tr>\n",
       "    <tr>\n",
       "      <th>1911</th>\n",
       "      <td>java intern</td>\n",
       "      <td>Internship opportunities are currently availab...</td>\n",
       "      <td>associate software developer</td>\n",
       "      <td>• Businesses to Riders Group Project– Django +...</td>\n",
       "      <td>0.387010</td>\n",
       "      <td>0.352929</td>\n",
       "      <td>0.034081</td>\n",
       "    </tr>\n",
       "    <tr>\n",
       "      <th>1913</th>\n",
       "      <td>java intern</td>\n",
       "      <td>Internship opportunities are currently availab...</td>\n",
       "      <td>product development as per</td>\n",
       "      <td>Joining Date 02.08.2013 Relieving Date 06.09.2...</td>\n",
       "      <td>0.541718</td>\n",
       "      <td>0.400672</td>\n",
       "      <td>0.141047</td>\n",
       "    </tr>\n",
       "  </tbody>\n",
       "</table>\n",
       "<p>1856 rows × 7 columns</p>\n",
       "</div>"
      ],
      "text/plain": [
       "                     title_job  \\\n",
       "0     c/ c++ software engineer   \n",
       "1     c/ c++ software engineer   \n",
       "2     c/ c++ software engineer   \n",
       "3     c/ c++ software engineer   \n",
       "4     c/ c++ software engineer   \n",
       "...                        ...   \n",
       "1908               java intern   \n",
       "1909               java intern   \n",
       "1910               java intern   \n",
       "1911               java intern   \n",
       "1913               java intern   \n",
       "\n",
       "                                                 text_a  \\\n",
       "0     LTX Credence Armenia LLC is looking for Softwa...   \n",
       "1     LTX Credence Armenia LLC is looking for Softwa...   \n",
       "2     LTX Credence Armenia LLC is looking for Softwa...   \n",
       "3     LTX Credence Armenia LLC is looking for Softwa...   \n",
       "4     Dom Daniel Armenia is looking for dynamic self...   \n",
       "...                                                 ...   \n",
       "1908  Internship opportunities are currently availab...   \n",
       "1909  Internship opportunities are currently availab...   \n",
       "1910  Internship opportunities are currently availab...   \n",
       "1911  Internship opportunities are currently availab...   \n",
       "1913  Internship opportunities are currently availab...   \n",
       "\n",
       "                         title_res  \\\n",
       "0                  c,c++ developer   \n",
       "1                  c,c++ developer   \n",
       "2                    c++ developer   \n",
       "3                    c++ developer   \n",
       "4                    c++ developer   \n",
       "...                            ...   \n",
       "1908  associate software developer   \n",
       "1909  associate software developer   \n",
       "1910  associate software developer   \n",
       "1911  associate software developer   \n",
       "1913    product development as per   \n",
       "\n",
       "                                                 text_b    labels   predict  \\\n",
       "0     Languages Known: C, C++, Data Structures, \\nJa...  4.319074  4.170128   \n",
       "1     Languages Known: C, C++, Data Structures, \\nJa...  4.319074  4.169966   \n",
       "2     Atlanta, USA Aug 2011 - Sep 2012 \\nProject Nam...  4.108096  4.111215   \n",
       "3     Atlanta, USA Aug 2011 - Sep 2012 \\nProject Nam...  4.108096  4.111654   \n",
       "4     Environment: CPP, Linux, JavaScript, GIT , RTC...  4.108096  4.066742   \n",
       "...                                                 ...       ...       ...   \n",
       "1908  Worked on building Andhra Pradesh district por...  0.387010  0.341872   \n",
       "1909  • Worked in the Feature Development of SAP Ana...  0.387010  0.346939   \n",
       "1910  LPU UMS is a smart home grown web-based ERP (E...  0.387010  0.349583   \n",
       "1911  • Businesses to Riders Group Project– Django +...  0.387010  0.352929   \n",
       "1913  Joining Date 02.08.2013 Relieving Date 06.09.2...  0.541718  0.400672   \n",
       "\n",
       "         error  \n",
       "0     0.148946  \n",
       "1     0.149108  \n",
       "2     0.003119  \n",
       "3     0.003558  \n",
       "4     0.041354  \n",
       "...        ...  \n",
       "1908  0.045138  \n",
       "1909  0.040071  \n",
       "1910  0.037427  \n",
       "1911  0.034081  \n",
       "1913  0.141047  \n",
       "\n",
       "[1856 rows x 7 columns]"
      ]
     },
     "execution_count": 21,
     "metadata": {},
     "output_type": "execute_result"
    }
   ],
   "source": [
    "compare_df[compare_df.error < 0.5]"
   ]
  },
  {
   "cell_type": "code",
   "execution_count": 22,
   "metadata": {
    "scrolled": true
   },
   "outputs": [
    {
     "name": "stdout",
     "output_type": "stream",
     "text": [
      "(24, 7)\n"
     ]
    },
    {
     "data": {
      "text/html": [
       "<div>\n",
       "<style scoped>\n",
       "    .dataframe tbody tr th:only-of-type {\n",
       "        vertical-align: middle;\n",
       "    }\n",
       "\n",
       "    .dataframe tbody tr th {\n",
       "        vertical-align: top;\n",
       "    }\n",
       "\n",
       "    .dataframe thead th {\n",
       "        text-align: right;\n",
       "    }\n",
       "</style>\n",
       "<table border=\"1\" class=\"dataframe\">\n",
       "  <thead>\n",
       "    <tr style=\"text-align: right;\">\n",
       "      <th></th>\n",
       "      <th>title_job</th>\n",
       "      <th>text_a</th>\n",
       "      <th>title_res</th>\n",
       "      <th>text_b</th>\n",
       "      <th>labels</th>\n",
       "      <th>predict</th>\n",
       "      <th>error</th>\n",
       "    </tr>\n",
       "  </thead>\n",
       "  <tbody>\n",
       "    <tr>\n",
       "      <th>7</th>\n",
       "      <td>senior software developer/ technical leader</td>\n",
       "      <td>As Senior Software Developer Technical Leader the incumbent has to lead and work with developers and participate in the design and development projects he has to work with Architecture team in the organization understand product roadmaps and assume key role in the development of these products  BS MS in Computer Science Information Services or related field Minimum of 10 year extensive development experience Experience as Technical Leader on in Linux OS with in depth knowledge of software development processes Deep technical and professional skills readiness to learn new technologies Extensive programming experience with standard management and instrumentation API Ability to work independently as well as with other members in the group preferably in leadership role Ability to write technical and functional specifications and present them to the other team members and occasionally to the management thorough understanding of software development processes and methodologies and knowledge of complete product development life cycle Strong inter personal skills ability to work both independently and as part of global team and thrive on technical challenges Excellent communication and writing skills and experience in writing product specifications and technical documentation Good communication skills in English language Enthusiastic and self motivated Good team player</td>\n",
       "      <td>technical lead, developer</td>\n",
       "      <td>for 2013 aimed at Life and Pensions products, intended to bring about changes in projection rates, to be effective from January, 2014. \\n \\nRole Technical lead, Developer \\nResponsibilities \\n- Writing Technical Specification document using Class Diagrams and Sequence Diagrams \\n \\n- Technical lead to guide developers through the development, unit and integration testing, UAT phases of the project \\n \\n- Review and upgrade of code developed by team members \\n \\n- Coordinating with onsite coordinator in project testing and project implementation phases \\n \\n- Ensuring quality of deliverables to be compliant with AEGON standard and Integrated Quality Management System standard of Tata Consultancy Services, through Internal and External Quality Assurance checks \\n \\nSolution Environment Java/J2EE (Spring framework v2.5.6), SQL, Rational Application Developer, Rational Clearcase, TOAD</td>\n",
       "      <td>4.100830</td>\n",
       "      <td>2.552578</td>\n",
       "      <td>1.548252</td>\n",
       "    </tr>\n",
       "    <tr>\n",
       "      <th>8</th>\n",
       "      <td>senior software developer/ technical leader</td>\n",
       "      <td>As Senior Software Developer Technical Leader the incumbent has to lead and work with developers and participate in the design and development projects he has to work with Architecture team in the organization understand product roadmaps and assume key role in the development of these products  BS MS in Computer Science Information Services or related field Minimum of 10 year extensive development experience Experience as Technical Leader on in Linux OS with in depth knowledge of software development processes Deep technical and professional skills readiness to learn new technologies Extensive programming experience with standard management and instrumentation API Ability to work independently as well as with other members in the group preferably in leadership role Ability to write technical and functional specifications and present them to the other team members and occasionally to the management thorough understanding of software development processes and methodologies and knowledge of complete product development life cycle Strong inter personal skills ability to work both independently and as part of global team and thrive on technical challenges Excellent communication and writing skills and experience in writing product specifications and technical documentation Good communication skills in English language Enthusiastic and self motivated Good team player</td>\n",
       "      <td>technical lead, developer</td>\n",
       "      <td>Kolkata, India \\nCustomer Grameen Phone, Bangladesh \\nPeriod December 2014 - March 2016 \\nDescription \\nGrameen Phone (GP) is a telecommunication service provider in Bangladesh. Currently, the project is carrying out various Change Requests to the existing product, to name a few - Bargen - credit control information handling, Prepaid to postpaid migration - migrating existing GP prepaid plans to postpaid plans, Report segregation based on prepaid or postpaid plan rather than generating single consolidated reports, etc. \\n \\nRole Technical Lead, Developer \\nResponsibilities \\n- Writing Technical Specification document from Requirement Specification Document, using Class Diagrams and sequence Diagrams \\n \\n- Development of the new requirements using Spring MVC framework and Spring Batch, unit and integration testing, providing support during UAT phase of the project. \\n \\n- Using Tortoise SVN for version controlling. Using Oracle as RDBMS. Using Apache Maven to build projects and create requisite jars \\n \\n- Interaction with functional and business users on a daily basis to provide and obtain project status updates and feedback, defect fixing and support during User Acceptance Testing and Regression Testing \\n \\n- Ensuring quality of deliverables to be compliant with project standards \\n \\nSolution Environment \\nJava/J2EE (Spring framework v2.5.6, Spring Batch, Add-on Application development), Apache Maven 3.2.3, SQL Developer, TOAD for Oracle 9.7, Eclipse Luna, Tortoise SVN, Oxygen XML and XSLT Developer</td>\n",
       "      <td>4.100830</td>\n",
       "      <td>2.594522</td>\n",
       "      <td>1.506308</td>\n",
       "    </tr>\n",
       "    <tr>\n",
       "      <th>21</th>\n",
       "      <td>senior software developer/ technical leader</td>\n",
       "      <td>As Senior Software Developer Technical Leader the incumbent has to lead and work with developers and participate in the design and development projects he has to work with Architecture team in the organization understand product roadmaps and assume key role in the development of these products  BS MS in Computer Science Information Services or related field Minimum of 10 year extensive development experience Experience as Technical Leader on in Linux OS with in depth knowledge of software development processes Deep technical and professional skills readiness to learn new technologies Extensive programming experience with standard management and instrumentation API Ability to work independently as well as with other members in the group preferably in leadership role Ability to write technical and functional specifications and present them to the other team members and occasionally to the management thorough understanding of software development processes and methodologies and knowledge of complete product development life cycle Strong inter personal skills ability to work both independently and as part of global team and thrive on technical challenges Excellent communication and writing skills and experience in writing product specifications and technical documentation Good communication skills in English language Enthusiastic and self motivated Good team player</td>\n",
       "      <td>technical lead (full stack developer)</td>\n",
       "      <td>Currently I am working as PHP/ Nodejs/React Technical Lead and my work responsibilities are to understand project requirements, Make Technical Documents, Scrum Planning, Daily Weekly Task Management, Database Planning, Development/staging/Production environment management, Server Management, Code Deployment, Code Review, Find glitches in developed projects and improve performance, Core structure and library development.</td>\n",
       "      <td>3.637809</td>\n",
       "      <td>2.603215</td>\n",
       "      <td>1.034594</td>\n",
       "    </tr>\n",
       "    <tr>\n",
       "      <th>219</th>\n",
       "      <td>graphic designer (web/print)</td>\n",
       "      <td>This position reports to Marketing Manager and is part of Marketing Department team Design and prepare advertsing materials for web and print including online banners magazine ads brochures booklets flyers etc Create graphic elements for web sites Design and produce branding elements such as logos promotional materials etc Written and spoken English language knowledge Minimum 23 years of experience designing and producing online and print content which may include web sites banners print advertisements Ability to hand code Knowledge of HTML CSS _javascript Software skills include but are not limited to Macromedia Dreamweaver MX Flash MX Adobe Photoshop CS Illustrator CS comfortable working on PC platform Optional skills highly desired understanding of animation for web InDesign CS or Quark Express experience with pre press Awareness of and ability to design for cross browser platform compatibility and compliance with web standards Highly self motivated conceptual thinker with strong sense of typography and graphic design Ability to work under pressure with grace and to provide quick turnaround Online portfolio preferred</td>\n",
       "      <td>ui/ux designer, front end developer &amp; graphic designer</td>\n",
       "      <td>Experience in the Following) \\n• Graphic Designing (Social Media Posting) \\n• Logo Designing. \\n• Company Branding (Brochure, Visiting Card &amp; Flayer etc) \\n• UI/UX Designer. \\nSome of the live website \\n \\nhttp://www.gabrielmotorcycles.com/ \\nwww.legendsecurity.in \\nwww.safehandsskinclinic.com \\nwww.theunspokenagreements.com \\nhttp://orgstead.com/ \\nhttp://sbam.in/ \\n \\nDesigning Portfolio \\n \\nhttps://www.behance.net/maheshshelf7d5 \\n \\nI hereby state that the particulars given above are true to the best of my knowledge and belief. \\nPlace: Pune.</td>\n",
       "      <td>2.979291</td>\n",
       "      <td>1.718794</td>\n",
       "      <td>1.260497</td>\n",
       "    </tr>\n",
       "    <tr>\n",
       "      <th>262</th>\n",
       "      <td>technical specialist/ team leader for quality improvement</td>\n",
       "      <td>Abt Associates is seeking Technical Specialist Team Leader for Quality Improvement for USAID funded project in Armenia that aims to strengthen the Armenian health system and improve the quality of health services with particular focus on primary health care maternal and child health reproductive health family planning and tuberculosis services The Technical Specialist Team Leader will provide leadership management strategic direction and technical assistance to improve the quality of clinical services in Armenia Manage team to plan and implement quality improvement activities including Provide technical assistance to help inform and refine quality improvement strategies including introducing evidence based medicine principles clinical practice guidelines quality assurance and quality improvement strategies at national marz and health facility levels Build on and enhance achievements in facility level quality improvement and health information systems as well as work in improving family medicine training programs Provide technical assistance to develop capacity building approaches and training packages for training institutions and health care professionals Provide input to draft laws policies strategies and regulations as required Provide technical assistance to the Ministry of Health to introduce workforce planning tools and mechanisms Conduct policy dialogue with key counterparts and stakeholder organizations to jointly agree on strategies and implement activities in way that increases local ownership and sustainability Maintain excellent relationships and promote effective collaboration with health sector organizations institutions as well as donors development partners and other USAID projects Provide support to international and regional consultants providing short term technical assistance on the project Develop capacity building strategies for counterpart organizations as appropriate Providing strong technical and managerial leadership for all quality improvement component activities and supervise team of dedicated professionals including project staff and local consultants as needed Contribute to project reporting including workplans quarterly and annual progress reports and progress against Performance Management Plan MD and Master degree preferred in Public Health Health Administration Public Policy Medicine Nursing or Quality years of relevant professional experience working in quality assurance workforce optimization and preparation quality improvement quality monitoring and evaluation and training Ability to design strategies involving organizations and local governments Knowledge of technical assistance and or training capacity building to local governments Experience in contributing to programmatic and technical reports Excellent facilitation networking negotiation and coordination skills Excellent organizational skills and highly developed written oral and interpersonal communication skills Fluency in English and Armenian</td>\n",
       "      <td>technical lead, developer</td>\n",
       "      <td>for 2013 aimed at Life and Pensions products, intended to bring about changes in projection rates, to be effective from January, 2014. \\n \\nRole Technical lead, Developer \\nResponsibilities \\n- Writing Technical Specification document using Class Diagrams and Sequence Diagrams \\n \\n- Technical lead to guide developers through the development, unit and integration testing, UAT phases of the project \\n \\n- Review and upgrade of code developed by team members \\n \\n- Coordinating with onsite coordinator in project testing and project implementation phases \\n \\n- Ensuring quality of deliverables to be compliant with AEGON standard and Integrated Quality Management System standard of Tata Consultancy Services, through Internal and External Quality Assurance checks \\n \\nSolution Environment Java/J2EE (Spring framework v2.5.6), SQL, Rational Application Developer, Rational Clearcase, TOAD</td>\n",
       "      <td>2.912010</td>\n",
       "      <td>1.565183</td>\n",
       "      <td>1.346827</td>\n",
       "    </tr>\n",
       "    <tr>\n",
       "      <th>263</th>\n",
       "      <td>technical specialist/ team leader for quality improvement</td>\n",
       "      <td>Abt Associates is seeking Technical Specialist Team Leader for Quality Improvement for USAID funded project in Armenia that aims to strengthen the Armenian health system and improve the quality of health services with particular focus on NCD prevention maternal and child health reproductive health family planning emergency care and tuberculosis services The Technical Specialist Team Leader for Quality Improvement will provide leadership management strategic direction and technical assistance to improve the quality of clinical services in Armenia Manage and supervise team of dedicated professionals responsible for the implementation of quality improvement activities including provision of technical assistance to inform and refine quality improvement strategies including introduction of evidence based medicine principles clinical practice guidelines quality assurance and quality improvement strategies at national marz and health facility levels Build on and enhance achievements in facility level quality improvement and health information systems specifically tackling NCD prevention issues MCH RH emergency care etc Provide technical assistance to develop capacity building approaches and training packages for training institutions and health care professionals Provide inputs to draft laws policies strategies and regulations as required Provide technical assistance to the Ministry of Health to introduce workforce planning tools and mechanisms Maintain strong and cohesive collaboration with other teams of the project as well as international organizations MOH and other key counterparts to jointly agree on strategies and implement activities in way that increases local ownership and sustainability Maintain excellent relationships and promote effective collaboration with health sector organizations institutions as well as donors development partners and other USAID projects Develop provide overall technical guidance inputs and ongoing support in all technical deliverables pertinent to the QI QA component activities of the project per project SOW and programmatic strategies Provide technical support and leadership on planned STTAs for the QI QA component of the project including drafting SOWs maintaining communication and relevant paperwork Prepare project reports including workplans quarterly and annual progress reports and progress against Performance Management Plan MD and Master Degree preferred in Public Health Health Administration Public Policy Medicine or HealthCare Quality At least years of relevant professional experience working in quality assurance workforce optimization and preparation quality improvement quality monitoring and evaluation and health services performance improvement training Ability to design strategies involving organizations and local governments Comprehensive knowledge of technical assistance programs and or training capacity building to local governments At least years of extensive managerial experience in coordinating and leading international health programs and initiatives Experience in contributing to programmatic and technical reports Excellent leadership managerial networking negotiation and coordination skills Readiness for assuming responsibility making decisions and promoting them among stakeholders Excellent organizational and time management skills and highly developed written oral and interpersonal communication skills Fluency in English Armenian languages knowledge of Russian is desirable</td>\n",
       "      <td>technical lead, developer</td>\n",
       "      <td>for 2013 aimed at Life and Pensions products, intended to bring about changes in projection rates, to be effective from January, 2014. \\n \\nRole Technical lead, Developer \\nResponsibilities \\n- Writing Technical Specification document using Class Diagrams and Sequence Diagrams \\n \\n- Technical lead to guide developers through the development, unit and integration testing, UAT phases of the project \\n \\n- Review and upgrade of code developed by team members \\n \\n- Coordinating with onsite coordinator in project testing and project implementation phases \\n \\n- Ensuring quality of deliverables to be compliant with AEGON standard and Integrated Quality Management System standard of Tata Consultancy Services, through Internal and External Quality Assurance checks \\n \\nSolution Environment Java/J2EE (Spring framework v2.5.6), SQL, Rational Application Developer, Rational Clearcase, TOAD</td>\n",
       "      <td>2.912010</td>\n",
       "      <td>1.532186</td>\n",
       "      <td>1.379824</td>\n",
       "    </tr>\n",
       "    <tr>\n",
       "      <th>445</th>\n",
       "      <td>technical specialist/ team leader for quality improvement</td>\n",
       "      <td>Abt Associates is seeking Technical Specialist Team Leader for Quality Improvement for USAID funded project in Armenia that aims to strengthen the Armenian health system and improve the quality of health services with particular focus on NCD prevention maternal and child health reproductive health family planning emergency care and tuberculosis services The Technical Specialist Team Leader for Quality Improvement will provide leadership management strategic direction and technical assistance to improve the quality of clinical services in Armenia Manage and supervise team of dedicated professionals responsible for the implementation of quality improvement activities including provision of technical assistance to inform and refine quality improvement strategies including introduction of evidence based medicine principles clinical practice guidelines quality assurance and quality improvement strategies at national marz and health facility levels Build on and enhance achievements in facility level quality improvement and health information systems specifically tackling NCD prevention issues MCH RH emergency care etc Provide technical assistance to develop capacity building approaches and training packages for training institutions and health care professionals Provide inputs to draft laws policies strategies and regulations as required Provide technical assistance to the Ministry of Health to introduce workforce planning tools and mechanisms Maintain strong and cohesive collaboration with other teams of the project as well as international organizations MOH and other key counterparts to jointly agree on strategies and implement activities in way that increases local ownership and sustainability Maintain excellent relationships and promote effective collaboration with health sector organizations institutions as well as donors development partners and other USAID projects Develop provide overall technical guidance inputs and ongoing support in all technical deliverables pertinent to the QI QA component activities of the project per project SOW and programmatic strategies Provide technical support and leadership on planned STTAs for the QI QA component of the project including drafting SOWs maintaining communication and relevant paperwork Prepare project reports including workplans quarterly and annual progress reports and progress against Performance Management Plan MD and Master Degree preferred in Public Health Health Administration Public Policy Medicine or HealthCare Quality At least years of relevant professional experience working in quality assurance workforce optimization and preparation quality improvement quality monitoring and evaluation and health services performance improvement training Ability to design strategies involving organizations and local governments Comprehensive knowledge of technical assistance programs and or training capacity building to local governments At least years of extensive managerial experience in coordinating and leading international health programs and initiatives Experience in contributing to programmatic and technical reports Excellent leadership managerial networking negotiation and coordination skills Readiness for assuming responsibility making decisions and promoting them among stakeholders Excellent organizational and time management skills and highly developed written oral and interpersonal communication skills Fluency in English Armenian languages knowledge of Russian is desirable</td>\n",
       "      <td>technical lead (full stack developer)</td>\n",
       "      <td>• Understand project requirements with seniors. \\n• Make technical documents like wireframe, detail document, flow document. \\n• Database planning. \\n• Scrum planning and timeline preparation. \\n• Make weekly/daily plan and distribute tasks among team members. \\n• EC2 linux server setup and monitoring. \\n• Project core structure library development. \\n• Git code review. \\n• React development and training.</td>\n",
       "      <td>2.708381</td>\n",
       "      <td>1.469448</td>\n",
       "      <td>1.238933</td>\n",
       "    </tr>\n",
       "    <tr>\n",
       "      <th>514</th>\n",
       "      <td>technical specialist/ team leader for quality improvement</td>\n",
       "      <td>Abt Associates is seeking Technical Specialist Team Leader for Quality Improvement for USAID funded project in Armenia that aims to strengthen the Armenian health system and improve the quality of health services with particular focus on primary health care maternal and child health reproductive health family planning and tuberculosis services The Technical Specialist Team Leader will provide leadership management strategic direction and technical assistance to improve the quality of clinical services in Armenia Manage team to plan and implement quality improvement activities including Provide technical assistance to help inform and refine quality improvement strategies including introducing evidence based medicine principles clinical practice guidelines quality assurance and quality improvement strategies at national marz and health facility levels Build on and enhance achievements in facility level quality improvement and health information systems as well as work in improving family medicine training programs Provide technical assistance to develop capacity building approaches and training packages for training institutions and health care professionals Provide input to draft laws policies strategies and regulations as required Provide technical assistance to the Ministry of Health to introduce workforce planning tools and mechanisms Conduct policy dialogue with key counterparts and stakeholder organizations to jointly agree on strategies and implement activities in way that increases local ownership and sustainability Maintain excellent relationships and promote effective collaboration with health sector organizations institutions as well as donors development partners and other USAID projects Provide support to international and regional consultants providing short term technical assistance on the project Develop capacity building strategies for counterpart organizations as appropriate Providing strong technical and managerial leadership for all quality improvement component activities and supervise team of dedicated professionals including project staff and local consultants as needed Contribute to project reporting including workplans quarterly and annual progress reports and progress against Performance Management Plan MD and Master degree preferred in Public Health Health Administration Public Policy Medicine Nursing or Quality years of relevant professional experience working in quality assurance workforce optimization and preparation quality improvement quality monitoring and evaluation and training Ability to design strategies involving organizations and local governments Knowledge of technical assistance and or training capacity building to local governments Experience in contributing to programmatic and technical reports Excellent facilitation networking negotiation and coordination skills Excellent organizational skills and highly developed written oral and interpersonal communication skills Fluency in English and Armenian</td>\n",
       "      <td>analyst, technical lead, developer</td>\n",
       "      <td>Kolkata, India \\nCustomer AEGON UK \\nPeriod July 2013 - September 2013 \\nDescription \\nAdviser Tracker is a new application aimed to provide a financial adviser with a quick, read only view of the customer's policy status. The details are fetched from PEGA systems through connection to SQL server. The application was built on Spring MVC framework. \\n \\nRole Analyst, Technical lead, Developer \\nResponsibilities \\n- Creating the prototype application and discussion with clients to ensure the completeness of requirement gathering. Creating Business specification document from this understanding \\n \\n- Effort estimation of the project by analyzing the project requirements \\n \\n- Preparing Technical Specification Document using Class Diagrams and Sequence Diagrams \\n \\n- Designing and developing the new application using Spring MVC framework \\n \\n- Develop the functionalities based on Technical Specification Document \\n \\n- Interaction with developers to guide them through development and unit testing, system testing and UAT phases of the project \\n \\n- Performance/stress testing of the application created \\n \\n- Preparing project handover document to be provided to production support team, for the new application created \\n \\nSolution Environment J2EE (Spring MVC v2.5.6), SQL, Rational Application Developer, Rational Clearcase, SQL Server</td>\n",
       "      <td>2.605642</td>\n",
       "      <td>1.455677</td>\n",
       "      <td>1.149965</td>\n",
       "    </tr>\n",
       "    <tr>\n",
       "      <th>591</th>\n",
       "      <td>coop tech/ precision analog hw design engineer</td>\n",
       "      <td>This is an opportunity to work closely with engineers in the analog design group whose focus is to design precision programmable Analog and RF instrumentation for LTXC semiconductor test equipment portion of time will be spent in state of the art development lab running the systems using the latest in test equipment Realize data collection and analysis using custom coded tools Write programs to collect and analyze data Debug new printed circuit boards Prototype and test new design ideas Responsible for schematic entry Characterize and verify new instrument designs Responsible for printed circuit board layout Handle the component selection for new designs 4th year university student Good knowledge of English language Knowledge of analog mixed Signal Design using the following components Discrete Standard Logic CPLD DAC ADCs Voltage Regulators and Op Amps Some hardware experience including familiarity with electronic test equipment such as DMM oscilloscopes signal generators and logic analyzers is desired Programming experience in or is plus</td>\n",
       "      <td>technical architect and technical project manager</td>\n",
       "      <td>NOIDA (25 Jan 2008 - 25 December 2015) \\nServed various positions, including Technical team leader, Technical Architect and Technical Project Manager.</td>\n",
       "      <td>2.493492</td>\n",
       "      <td>0.567435</td>\n",
       "      <td>1.926057</td>\n",
       "    </tr>\n",
       "    <tr>\n",
       "      <th>754</th>\n",
       "      <td>senior ios developer for video apps</td>\n",
       "      <td>Arts Armenia is looking for motivated and experienced candidate to take over the position of Senior iOS Developer Responsible for iOS mobile development Participate in technical discussions attend meetings standups and follow the Agile process for development Implement debug test and enhance critical mobile application features Ensure high quality of implementation via code reviews and unit testing Provide timely feedback to PM on product requirements Collaborate with QA on bug fixes and test case reviews Technology wise with knowledge of Objective and Proficient on the level of tweaking with XCode and XCodebuild Understanding of networking protocols such as TCP IP and UDP Unicast and Multicast Knowledge of HTTP request processing is expected Versed in Restful API and XML JSON data serialization Understanding of HTTPS and basic security mechanisms Knowledge of encryption methods DES AES etc is big plus Well versed in multi threading programming and knowledge of basic techniques of code optimization Knowledge of Video Technologies AVFoundation and or ffmpeg in particular Open GL and Sensor Blending for Android is big bonus Ability to understand and produce Cocoa Cocoa Touch Objective and Carbon style code as well as hybrid model Personality wise inquisitive and quick to discover and understand new technologies Ability to identify and quickly resolve most of the problems without external supervision merely using available information sources Google StackOverflow forums developer community pages etc Justifiably proud of code you write and technical approaches you employ Ability to do good job with minimal supervision and capable of making and justifying project wide architectural decisions Ability to deal well with clients on the social level and explain things to non experts in simple and understandable way</td>\n",
       "      <td>osb/soa developer</td>\n",
       "      <td>Description: This is a big telecommunication domain project and we are working to deliver best services to the Client to grow their business. The project involved the design and development of various integrations using OSB, SOA/BPEL for providing services to consumers. \\n❖ Responsibilities: \\n✓ Responsible for Integration service development using Oracle fusion Middleware 11g and 12c. \\n✓ Responsible for creating Service Design documents. \\n✓ Migrating integration services from Oracle SOA 11g to 12c. \\n✓ Exposer of Integrating with many external systems like: iCRM, Siebel CRM, FX 3.0 and FX 1.2, NMS, POSIDEX, OM systems using JMS queues, solace Queues, AQ's, MQ's, DB's, FTP, SOAP and HTTP(REST) etc. \\n✓ Worked on different adapters like DB adapter, File Adapter, FTP, Adapter, JMS Adapter. \\n✓ Created/implemented many reusable utilities to provide out of the box functionality in OSB 11g: like, Encryption/Decryption, Base conversion, Siebel session pool, DVM implementation in OSB, Excel Processing, Error Handling Frameworks etc. \\n✓ Exposer of developing and designing REST and SOAP interfaces. \\n✓ Integration testing support. \\n✓ Release notes preparation and provide production support. \\n \\n❖ Environment: Java 1.6, Eclipse 3.4, Oracle SOA, OSB (Oracle service Bus), Oracle SOA (BPEL), WebLogic Server, GIT, Jenkins, XML, XQuery, Solace Queues, JMS, SQL.</td>\n",
       "      <td>2.450995</td>\n",
       "      <td>1.351133</td>\n",
       "      <td>1.099862</td>\n",
       "    </tr>\n",
       "    <tr>\n",
       "      <th>1262</th>\n",
       "      <td>coop tech/ precision analog hw design engineer</td>\n",
       "      <td>This is an opportunity to work closely with engineers in the analog design group whose focus is to design precision programmable Analog and RF instrumentation for LTXC semiconductor test equipment portion of time will be spent in state of the art development lab running the systems using the latest in test equipment Realize data collection and analysis using custom coded tools Write programs to collect and analyze data Debug new printed circuit boards Prototype and test new design ideas Responsible for schematic entry Characterize and verify new instrument designs Responsible for printed circuit board layout Handle the component selection for new designs 4th year university student Good knowledge of English language Knowledge of analog mixed Signal Design using the following components Discrete Standard Logic CPLD DAC ADCs Voltage Regulators and Op Amps Some hardware experience including familiarity with electronic test equipment such as DMM oscilloscopes signal generators and logic analyzers is desired Programming experience in or is plus</td>\n",
       "      <td>technical lead (full stack developer)</td>\n",
       "      <td>• Understand project requirements with seniors. \\n• Make technical documents like wireframe, detail document, flow document. \\n• Database planning. \\n• Scrum planning and timeline preparation. \\n• Make weekly/daily plan and distribute tasks among team members. \\n• EC2 linux server setup and monitoring. \\n• Project core structure library development. \\n• Git code review. \\n• React development and training.</td>\n",
       "      <td>2.304605</td>\n",
       "      <td>1.256229</td>\n",
       "      <td>1.048376</td>\n",
       "    </tr>\n",
       "    <tr>\n",
       "      <th>1504</th>\n",
       "      <td>angularjs developer</td>\n",
       "      <td>Develop test and maintain websites and applications in AngularJS Read understand and modify the existing code Participate in project planning Excellent knowledge of AngularJS At least years of experience with AngularJS Knowledge of HTML5 and CSS3 Knowledge of Sass Good knowledge of the English language</td>\n",
       "      <td>3 months internship + 3 months full time</td>\n",
       "      <td>Worked on MVC based project under the guidance of Senior Developer. \\nLearned to write organized and Reusable code. \\n \\nㅡ \\n \\nProjects Resortapp Website / Shirish Productions \\nResort App Website was basically built to capture the customer data and it also allows the customers to rate their experience through it \\nAdmin will handle the customer details and can offer discounts through \\nEmailer based on the customer visits that has been captured through the website \\nPHP, Mailer, JavaScript, CSS, Bootstrap \\nRoles And Responsibilities: I was responsible for both Frontend and Backend Development. \\n \\nShivmandir Art Festival/ Shirish Productions \\nShivmandir Art Festival is a single web page was basically built for the customers to visit the Art festival. \\nHTML5, CSS, JavaScript \\nRoles And Responsibilities: I was responsible for User Interface Design \\nbased on UX provided. \\n \\nEmailer/Shirish Productions \\nSleepyHead emailer. \\n \\nBluebot / Shirish Productions \\nRoles And Responsibilities: I was responsible for correcting \\nresponsiveness of existing website based on the provided UX Design. \\nHTML5, CSS. \\n \\nThe Cakes Lady / Shirish Productions \\nThis site was under construction. I worked on developing one web page on this site. \\nHTML5, CSS, Bootstrap \\n \\nㅡ</td>\n",
       "      <td>0.448863</td>\n",
       "      <td>2.349809</td>\n",
       "      <td>1.900947</td>\n",
       "    </tr>\n",
       "    <tr>\n",
       "      <th>1564</th>\n",
       "      <td>junior erlang programmer</td>\n",
       "      <td>Smart Tech is seeking young talented programmers to join its ErLang developers team Learn and become proficient Support existing projects Optimize and develop existing projects Take part in new projects development Experience under nix development Experience in web programming Basic knowledge in networking cryptography Familiarity with standard development tools as vim make Maximum years of experience is acceptable for this position more experienced candidates will be over qualified Will to learn ErLang and work under it Ability to learn fast Ability to work under stress</td>\n",
       "      <td>trainee software engineer</td>\n",
       "      <td>in SSLC model examination in Coimbatore by Kovai Aram Trust. \\nWon Second place in the Quiz competition conducted by AJK college of Arts and Science. \\nSecured Consolation prize in District level drawing competition in Varnajalam 2101 conducted by Suryan \\nFM. \\n \\nACTIVITIES \\nAttended two days workshop on PHP and MYSQL at SVS College of Engineering. \\nAttended one day workshop on Hands on Training on Deep Learning using Kerasand Theano at SVS \\nCollege of Engineering. \\nORACLE ACADEMY Course Completion on JAVA FUNDAMENTALS and JAVA PROGRAMMING. \\nParticipated in Code Book, Whirlpool, MasterKey, Protocolist, Secure Shell in Government College of Technology. \\nParticipated in Code Debugging, Technical Quiz, Treasure Hunt, Gaming in Nehru Institute of Engineering \\nAnd Technology.</td>\n",
       "      <td>1.065064</td>\n",
       "      <td>2.331486</td>\n",
       "      <td>1.266421</td>\n",
       "    </tr>\n",
       "    <tr>\n",
       "      <th>1565</th>\n",
       "      <td>junior erlang programmer</td>\n",
       "      <td>Smart Tech is seeking young talented programmers to join its ErLang developers team Learn and become proficient Support existing projects Optimize and develop existing projects Take part in new projects development Experience under nix development Experience in web programming Basic knowledge in networking cryptography Familiarity with standard development tools as vim make Maximum years of experience is acceptable for this position more experienced candidates will be over qualified Will to learn ErLang and work under it Ability to learn fast Ability to work under stress</td>\n",
       "      <td>trainee software engineer</td>\n",
       "      <td>Period: August 2017 to January 2018 \\nRoles &amp; Responsibilities • Complete responsibility for in-house and client website development \\nprojects. \\n• Designed Responsive Layouts with Editing images and updating the content. \\n• Designed and integrated dashboard admin template. \\n• Testing the application and redesigning the User Interface. \\n• Worked on Adobe Photoshop for designing portal layouts. \\nScripting Language: Python, CSS/HTML \\nDatabase: MySQL \\nTool: Wordpress</td>\n",
       "      <td>1.065064</td>\n",
       "      <td>2.379995</td>\n",
       "      <td>1.314931</td>\n",
       "    </tr>\n",
       "    <tr>\n",
       "      <th>1566</th>\n",
       "      <td>junior erlang programmer</td>\n",
       "      <td>Smart Tech is seeking young talented programmers to join its ErLang developers team Learn and become proficient Support existing projects Optimize and develop existing projects Take part in new projects development Experience under nix development Experience in web programming Basic knowledge in networking cryptography Familiarity with standard development tools as vim make Maximum years of experience is acceptable for this position more experienced candidates will be over qualified Will to learn ErLang and work under it Ability to learn fast Ability to work under stress</td>\n",
       "      <td>trainee software engineer</td>\n",
       "      <td>Domain Medical Transcription \\nTechnology SQL Server 2008, C#.NET and Ms-Word \\nProject Description \\nThis System used by medical transcription companies to distribute voice files \\nautomatically among employees, transcription and proofreading of distributed files and generating feedback and audits for transcribed documents. Includes macros developed in word and excel like gender checks, auto phrases, populating patient details and implementing validations as per the client's request for user convenience, reducing error rate and smooth transition of workflow while transcribing documents.</td>\n",
       "      <td>1.065064</td>\n",
       "      <td>2.160540</td>\n",
       "      <td>1.095476</td>\n",
       "    </tr>\n",
       "    <tr>\n",
       "      <th>1568</th>\n",
       "      <td>senior c++, c# developer</td>\n",
       "      <td>Smart Tech is looking for highly motivated people for the position of Senior Developer to join its software development process  years of experience in and Net Good knowledge of Net Framework Knowledge in Networking Multi Threading WCF and MSSQL Knowledge in Boost POCO DirectShow COM and Windows Media is welcomed Good English and Russian languages skills Team player</td>\n",
       "      <td>sr. java / j2ee developer</td>\n",
       "      <td>Responsibilities: \\n• Involved in Analysis, Design, Development, UAT and Production phases of the application. \\n• Implemented navigation layer using Spring MVC components like dispatch servlets, controllers, view resolver components. \\n• Implemented business components as Spring Beans, configures using Dependency Injection and annotations. \\n• Designed and developed a REST-ful style Web Services layer to interface with a RPG and DB2 system. \\n• Worked on Core Java (Multi-Threading, Collections of type Generics, Templates) and used the core packages. \\n• Used JSP, HTML5,CSS,JQuery, JavaScript, JSON and Ajax to develop the UI layer of the application. \\n• Worked on ExtJS4.2.1 for user interface widgets with high performance scalable grids, trees and menus. \\n• Participated in development of a well responsive single page application using AngularJS. \\n• Developed Single-page Angular JS application with solid UI framework during my application. \\n• Developed the Persistence Layer using Hibernate 2.5 with JPA. \\n• Used Spring ORM/JDBC layers for integrating Hibernate/JPA and also for regular JDBC calls. \\n• Used Hibernate in persistence layer and developed POJO's, Data Access Object (DAO) to handle all database operations. \\n• Developed several Web Service stubs using AXIS 2.0 engine, SOAP UI, JAX-RPC, Documentliteral. \\n• Used Business Delegate, Singleton, Front Controller, Factory and DAO design patterns \\n• Implemented logger for debugging using Log4j. \\n• Utilized MongoDB database management system for keeping user generated data. \\n• Developed few stored procedures, triggers and sequences. \\n• Extensively used dynamic SQL, PL/SQL packages, Procedures and Database Triggers. \\n• Involved in onsite-offshore coordination, agile methodology includes daily SCRUM meetings,iteration, planning, etc. \\n• Involved in build and deployment of multiple modules of web based applications using Maven and Jenkins on JBoss. \\n• Involved in implementation of large scale Linux deployments. \\n• Used GIT as version management tool. \\n• Used ANT for building the EAR file. \\n \\nEnvironment: Java SE 7,8, J2EE 5, Core Java, AngularJS, JSP,JSON, CSS3, HTML5 ,jQuery, Spring MVC/ DI/ORM/JDBC, ANT, Log4J, JavaScript, ExtJS, JSF, Ajax, Mongo DB, Oracle10g, Hibernate/JPA ,JBoss, My Eclipse, Unix, CVS, Jenkins, Maven, Axis 2.0, DB2,Junit,RESTWeb Services, GIT.</td>\n",
       "      <td>1.216258</td>\n",
       "      <td>2.811906</td>\n",
       "      <td>1.595648</td>\n",
       "    </tr>\n",
       "    <tr>\n",
       "      <th>1598</th>\n",
       "      <td>software co-op engineer</td>\n",
       "      <td>In conjunction with the student university and in accordance with Virage Logic Engineering Co Op Program the incumbent will receive various trainings and assignments in software development area thus acquiring real life experience The candidate will be involved in software QA process particularly Analysis and elimination of FlexeLint Purify and compile time issues and warnings Automated test development for batch mode and GUI based tools The candidate will participate in software development process particularly Batch mode application and library development using and Tcl languages GUI based application development using and Java languages  First year MS student Basic scripting skills knowledge of Unix Shells Tcl Basic knowledge of and STL Ability to search and study documentation Basic knowledge of object oriented programming Ability to quickly study and apply new tools and methodologies Good English language communication skills Team working capability Desired Skills Pro active can do mentality self motivated and assertive personality Multitasking and organizational skills Written and verbal English language communication skills Good team interaction skills with engineers and other support staff Hard working reliable personality</td>\n",
       "      <td>senior developer/ business analyst</td>\n",
       "      <td>12-Sep-2012 Present Senior Developer/ Business Analyst \\n \\nAwards/Recognition \\n• Hero of the Program' - 2018 \\n• Best Team award' - 2015 \\n• Applause Badge Award' -2016, 2017 \\n \\nProject Experience:</td>\n",
       "      <td>1.574870</td>\n",
       "      <td>2.660714</td>\n",
       "      <td>1.085844</td>\n",
       "    </tr>\n",
       "    <tr>\n",
       "      <th>1603</th>\n",
       "      <td>junior database administrator</td>\n",
       "      <td>Synergy Armenia is looking for junior database administrator DBA with good knowledge of ORACLE who will be responsible for the performance integrity and security of database Additional role requirements are likely to include planning development and troubleshooting Ensure that data remains consistent across the database Ensure that data is clearly defined Ensure that users access data concurrently in form that suits their needs Ensure provision for data security and recovery control that all data are retrievable in an emergency Ensure that DBA roles are increasingly identified by the databases the processes they administer and the capabilities of the database management system DBMS in use Establish the needs of users and monitor user access and security Monitor performance and manage parameters to provide fast query responses to front end users Consider both back end organization of data and front end accessibility for end users Install and test new versions of the DBMS Write database documentation including data standards procedures and definitions for the data dictionary metadata Control access permissions and privileges Ensure that storage archiving back up and recovery procedures are functioning correctly Work closely with IT project managers database programmers and Java developers Communicate regularly with technical applications and operational staff to ensure database integrity and security Commission and install new applications and customize existing applications in order to make them fit for purpose to years of IT operation experience with strong understanding of database structures theories principles and practices to years of Microsoft SQL Server experience Understanding of and experience with server client computing and relational database environments Experience with data management and data processing flowcharting techniques Knowledge of reporting and query tools and practices Good understanding of the organization goals and objectives Good interpersonal written and oral communication skills Technical documentation skills Ability to present ideas in user friendly language Self motivated and directed with keen attention to detail Ability to prioritize and execute tasks in high pressure environment Experience with working in team oriented and collaborative environment RDBMS Oracle optional MSSQL Bachelor degree</td>\n",
       "      <td>development assistant, developer</td>\n",
       "      <td>• Taught 20+ students on the basics on JAVA, R, Python and gave hands-on demonstration. \\n• Conducted workshops, seminars to educate the people giving them basics of Hadoop and its working and the different \\ntechniques to harness the value of data.</td>\n",
       "      <td>0.429807</td>\n",
       "      <td>1.481428</td>\n",
       "      <td>1.051621</td>\n",
       "    </tr>\n",
       "    <tr>\n",
       "      <th>1612</th>\n",
       "      <td>senior software developer/ technical leader</td>\n",
       "      <td>As Senior Software Developer Technical Leader the incumbent has to lead and work with developers and participate in the design and development projects he has to work with Architecture team in the organization understand product roadmaps and assume key role in the development of these products  BS MS in Computer Science Information Services or related field Minimum of 10 year extensive development experience Experience as Technical Leader on in Linux OS with in depth knowledge of software development processes Deep technical and professional skills readiness to learn new technologies Extensive programming experience with standard management and instrumentation API Ability to work independently as well as with other members in the group preferably in leadership role Ability to write technical and functional specifications and present them to the other team members and occasionally to the management thorough understanding of software development processes and methodologies and knowledge of complete product development life cycle Strong inter personal skills ability to work both independently and as part of global team and thrive on technical challenges Excellent communication and writing skills and experience in writing product specifications and technical documentation Good communication skills in English language Enthusiastic and self motivated Good team player</td>\n",
       "      <td>dba</td>\n",
       "      <td>support in the HA production environment. Created and managed \\nresources profiles, restricted access with respective privileges. Mentored database storage structure like redo log files, data files, tablespaces.</td>\n",
       "      <td>0.193961</td>\n",
       "      <td>2.347433</td>\n",
       "      <td>2.153472</td>\n",
       "    </tr>\n",
       "    <tr>\n",
       "      <th>1613</th>\n",
       "      <td>senior software developer/ technical leader</td>\n",
       "      <td>As Senior Software Developer Technical Leader the incumbent has to lead and work with developers and participate in the design and development projects he has to work with Architecture team in the organization understand product roadmaps and assume key role in the development of these products  BS MS in Computer Science Information Services or related field Minimum of 10 year extensive development experience Experience as Technical Leader on in Linux OS with in depth knowledge of software development processes Deep technical and professional skills readiness to learn new technologies Extensive programming experience with standard management and instrumentation API Ability to work independently as well as with other members in the group preferably in leadership role Ability to write technical and functional specifications and present them to the other team members and occasionally to the management thorough understanding of software development processes and methodologies and knowledge of complete product development life cycle Strong inter personal skills ability to work both independently and as part of global team and thrive on technical challenges Excellent communication and writing skills and experience in writing product specifications and technical documentation Good communication skills in English language Enthusiastic and self motivated Good team player</td>\n",
       "      <td>dba</td>\n",
       "      <td>regular activity), Oracle RAC (configuration), patch installation, test code generation for NFT environment support of load runner to test system performance with high volume data using PL/SQL. \\nSpecial achievements: Generated all unit test cases for complete pl/sql application with the help of Quest Oracle code tester. \\n \\nOur client RSA is the premier provider of security solutions for business acceleration. As the chosen security partner of more than 90 percent of the Fortune 500, RSA helps the world's leading organizations succeed by solving their most complex and sensitive security challenges. Our developed product RSA Go ID Authentication Service (Go ID v2.0.0.2) is a network-based authentication service that allows users to protect their online accounts with the same proven one-time password technology that has helped secure corporate networks around the world. From world-class customer service and fulfillment to distribution and provisioning, Go ID provides the business processes required to help organizations service and protect their online users. \\n \\nResponsibilities \\n• Implementation of Oracle Wallet, database vault, TDE, CDC, Complex query tuning, over all DB performance enhancement, shell scripting, documentation &amp; designing, planning for application compatible schema structure \\n• Major involvement for designed data ware house schema structure based on client supporting business requirement as a DBA. \\n• Implemented Data Guard \\n• Performed all aspects of database administration including installs, builds, upgrades, object sizing, object creation, backup/recovery, patches, monitoring, export/imports and SQL loader. \\n• Complex query writing \\n• Procedure writing \\n• Database stress testing \\n• Involved in the installation, maintenance and troubleshooting of RAC on VMware, Single Instance Databases and OEM. \\n• Involved in the Design of Production Database design, Backup Strategies using RMAN, and Configuring Oracle Streams.</td>\n",
       "      <td>0.193961</td>\n",
       "      <td>2.664025</td>\n",
       "      <td>2.470064</td>\n",
       "    </tr>\n",
       "    <tr>\n",
       "      <th>1632</th>\n",
       "      <td>senior database administrator/ dba (oracle)</td>\n",
       "      <td>The incumbent will be responsible for performing database maintenance technical support supporting on going application development installation and upgrades of related applications Ensure Oracle systems uninterrupted availability Be responsible for installation tuning optimizing and troubleshooting Oracle instances Be responsible for SQL Loader Imports Exports Backup and Recovery strategies monitoring and implementation Lead server and PC configuration in reference to SQL Net Prepare SQL queries and reports years of Oracle Database Administration experience years of Technical Support experience Strong proven experience in PL SQL Knowledge of tuning and troubleshooting Oracle instances Tuning and troubleshooting Oracle instances in clustered environment is big plus Ability to install Oracle on Linux UNIX Ability to write and optimize code in PL SQL Experience in configuring and maintaining highly scalable environments Strong Knowledge of Oracle Backup Recovery Methodologies and Strategies Good UNIX Administration skills Oracle Certifications in 8i or higher is big plus Knowledge of Microsoft Windows 2000 2003 is preferred Solid knowledge of networking principles Good organizational skills Excellent communication troubleshooting written and oral skills Ability to work off hours during weekends and holidays to meet deadlines Ability to ramp up quickly on new technology or new project Degree in Computer Sciences or relevant experience Proficient with the fundamentals of Oracle server from an administration perspective Proficient with Designer 2000 Enterprise Manager Developer 2000 and OAS Experience in SQL and PL SQL Windows 95 98 NT UNIX and PERL Experience in Business Objects FTP Designer 2000 Enterprise Manager Telnet SQL Navigator Developer 2000 and OAS</td>\n",
       "      <td>technical lead (full stack developer)</td>\n",
       "      <td>Currently I am working as PHP/ Nodejs/React Technical Lead and my work responsibilities are to understand project requirements, Make Technical Documents, Scrum Planning, Daily Weekly Task Management, Database Planning, Development/staging/Production environment management, Server Management, Code Deployment, Code Review, Find glitches in developed projects and improve performance, Core structure and library development.</td>\n",
       "      <td>0.790144</td>\n",
       "      <td>1.928301</td>\n",
       "      <td>1.138157</td>\n",
       "    </tr>\n",
       "    <tr>\n",
       "      <th>1633</th>\n",
       "      <td>senior database administrator/ dba (oracle)</td>\n",
       "      <td>The incumbent will be responsible for performing database maintenance technical support supporting on going application development installation and upgrades of related applications Ensure Oracle systems uninterrupted availability Be responsible for installation tuning optimizing and troubleshooting Oracle instances Be responsible for SQL Loader Imports Exports Backup and Recovery strategies monitoring and implementation Lead server and PC configuration in reference to SQL Net Prepare SQL queries and reports years of Oracle Database Administration experience years of Technical Support experience Strong proven experience in PL SQL Knowledge of tuning and troubleshooting Oracle instances Tuning and troubleshooting Oracle instances in clustered environment is big plus Ability to install Oracle on Linux UNIX Ability to write and optimize code in PL SQL Experience in configuring and maintaining highly scalable environments Strong Knowledge of Oracle Backup Recovery Methodologies and Strategies Good UNIX Administration skills Oracle Certifications in 8i or higher is big plus Knowledge of Microsoft Windows 2000 2003 is preferred Solid knowledge of networking principles Good organizational skills Excellent communication troubleshooting written and oral skills Ability to work off hours during weekends and holidays to meet deadlines Ability to ramp up quickly on new technology or new project Degree in Computer Sciences or relevant experience Proficient with the fundamentals of Oracle server from an administration perspective Proficient with Designer 2000 Enterprise Manager Developer 2000 and OAS Experience in SQL and PL SQL Windows 95 98 NT UNIX and PERL Experience in Business Objects FTP Designer 2000 Enterprise Manager Telnet SQL Navigator Developer 2000 and OAS</td>\n",
       "      <td>technical lead (full stack developer)</td>\n",
       "      <td>• Understand project requirements with seniors. \\n• Make technical documents like wireframe, detail document, flow document. \\n• Database planning. \\n• Scrum planning and timeline preparation. \\n• Make weekly/daily plan and distribute tasks among team members. \\n• EC2 linux server setup and monitoring. \\n• Project core structure library development. \\n• Git code review. \\n• React development and training.</td>\n",
       "      <td>0.790144</td>\n",
       "      <td>1.870664</td>\n",
       "      <td>1.080520</td>\n",
       "    </tr>\n",
       "    <tr>\n",
       "      <th>1654</th>\n",
       "      <td>senior database administrator/ dba (oracle)</td>\n",
       "      <td>The incumbent will be responsible for performing database maintenance technical support supporting on going application development installation and upgrades of related applications Ensure Oracle systems uninterrupted availability Be responsible for installation tuning optimizing and troubleshooting Oracle instances Be responsible for SQL Loader Imports Exports Backup and Recovery strategies monitoring and implementation Lead server and PC configuration in reference to SQL Net Prepare SQL queries and reports years of Oracle Database Administration experience years of Technical Support experience Strong proven experience in PL SQL Knowledge of tuning and troubleshooting Oracle instances Tuning and troubleshooting Oracle instances in clustered environment is big plus Ability to install Oracle on Linux UNIX Ability to write and optimize code in PL SQL Experience in configuring and maintaining highly scalable environments Strong Knowledge of Oracle Backup Recovery Methodologies and Strategies Good UNIX Administration skills Oracle Certifications in 8i or higher is big plus Knowledge of Microsoft Windows 2000 2003 is preferred Solid knowledge of networking principles Good organizational skills Excellent communication troubleshooting written and oral skills Ability to work off hours during weekends and holidays to meet deadlines Ability to ramp up quickly on new technology or new project Degree in Computer Sciences or relevant experience Proficient with the fundamentals of Oracle server from an administration perspective Proficient with Designer 2000 Enterprise Manager Developer 2000 and OAS Experience in SQL and PL SQL Windows 95 98 NT UNIX and PERL Experience in Business Objects FTP Designer 2000 Enterprise Manager Telnet SQL Navigator Developer 2000 and OAS</td>\n",
       "      <td>sr. software associate</td>\n",
       "      <td>• Technologies/Tools: AngularJS, JavaScript, HTML, Bootstrap, CSS, Java \\n• Project Synopsis: This project is combination of lots of E-learning activities, made for Oxford University students. \\nThis is developed using AngularJS for frontend and Java at backend. Course modules have backend connectivity \\nwith RESTful services. Templates have the varieties like static, video based, audio based, match the pair, drag and drop, etc. Third party plug-ins also used to make app more robust and flexible.</td>\n",
       "      <td>0.651347</td>\n",
       "      <td>1.994155</td>\n",
       "      <td>1.342808</td>\n",
       "    </tr>\n",
       "    <tr>\n",
       "      <th>1791</th>\n",
       "      <td>c++/ delphi software engineer</td>\n",
       "      <td>Fast Credit Ltd is looking for Delphi Software Engineer to be engaged in long term projects Write and test code according to technical documentation Support maintain and document software functionality Stay organized to achieve mission and purpose goals and objectives Work hard towards self development Bachelors degree in Computer Sciences or related discipline Over years of work Delphi programming experience Good knowledge of SQL language Good knowledge of technical English language Development experience in Windows environment with STL threads and sockets Development experience of GUI programming with Builder or Delphi Familiarity with Design Patterns is plus Familiarity with databases Oracle MS SQL is big plus Familiarity with hardware is plus</td>\n",
       "      <td>internship for 6 months and training</td>\n",
       "      <td>To identify, which customers will make a specific transaction in the future, irrespective of the amount of money transacted. I developed an ML model to identify Santander Customer Transaction EDA and Prediction using 10 different features (MSE,RMSE , R2 score, skew and kurtosis etc.) of the cell in question and after that, I did some work on three different model, train a model and predict the target value for the test set, then prepare a submission.– Training's auc: (0.951424) and CV score:( 0.90022 ).</td>\n",
       "      <td>0.268095</td>\n",
       "      <td>1.817595</td>\n",
       "      <td>1.549500</td>\n",
       "    </tr>\n",
       "  </tbody>\n",
       "</table>\n",
       "</div>"
      ],
      "text/plain": [
       "                                                      title_job  \\\n",
       "7                   senior software developer/ technical leader   \n",
       "8                   senior software developer/ technical leader   \n",
       "21                  senior software developer/ technical leader   \n",
       "219                                graphic designer (web/print)   \n",
       "262   technical specialist/ team leader for quality improvement   \n",
       "263   technical specialist/ team leader for quality improvement   \n",
       "445   technical specialist/ team leader for quality improvement   \n",
       "514   technical specialist/ team leader for quality improvement   \n",
       "591              coop tech/ precision analog hw design engineer   \n",
       "754                         senior ios developer for video apps   \n",
       "1262             coop tech/ precision analog hw design engineer   \n",
       "1504                                        angularjs developer   \n",
       "1564                                   junior erlang programmer   \n",
       "1565                                   junior erlang programmer   \n",
       "1566                                   junior erlang programmer   \n",
       "1568                                   senior c++, c# developer   \n",
       "1598                                    software co-op engineer   \n",
       "1603                              junior database administrator   \n",
       "1612                senior software developer/ technical leader   \n",
       "1613                senior software developer/ technical leader   \n",
       "1632                senior database administrator/ dba (oracle)   \n",
       "1633                senior database administrator/ dba (oracle)   \n",
       "1654                senior database administrator/ dba (oracle)   \n",
       "1791                              c++/ delphi software engineer   \n",
       "\n",
       "                                                                                                                                                                                                                                                                                                                                                                                                                                                                                                                                                                                                                                                                                                                                                                                                                                                                                                                                                                                                                                                                                                                                                                                                                                                                                                                                                                                                                                                                                                                                                                                                                                                                                                                                                                                                                                                                                                                                                                                                                                                                                                                                                                                                                                                                                                                                                                                                                                                                                                                                                                                                                                                                                                                                                                                                                                                                                                                                                                                                                                                                                                                                                                                                                                                                                                                                                                                                                                                                                                                                                                                                                                text_a  \\\n",
       "7                                                                                                                                                                                                                                                                                                                                                                                                                                                                                                                                                                                                                                                                                                                                                                                                                                                                                                                                                                                                                                                                                                                                                                                                                                                                                                                                                                                                                                                                                                                                                                                                                                                                                                                                                                                                                                                                                                                                                                                                                                                                                                                                                                                              As Senior Software Developer Technical Leader the incumbent has to lead and work with developers and participate in the design and development projects he has to work with Architecture team in the organization understand product roadmaps and assume key role in the development of these products  BS MS in Computer Science Information Services or related field Minimum of 10 year extensive development experience Experience as Technical Leader on in Linux OS with in depth knowledge of software development processes Deep technical and professional skills readiness to learn new technologies Extensive programming experience with standard management and instrumentation API Ability to work independently as well as with other members in the group preferably in leadership role Ability to write technical and functional specifications and present them to the other team members and occasionally to the management thorough understanding of software development processes and methodologies and knowledge of complete product development life cycle Strong inter personal skills ability to work both independently and as part of global team and thrive on technical challenges Excellent communication and writing skills and experience in writing product specifications and technical documentation Good communication skills in English language Enthusiastic and self motivated Good team player   \n",
       "8                                                                                                                                                                                                                                                                                                                                                                                                                                                                                                                                                                                                                                                                                                                                                                                                                                                                                                                                                                                                                                                                                                                                                                                                                                                                                                                                                                                                                                                                                                                                                                                                                                                                                                                                                                                                                                                                                                                                                                                                                                                                                                                                                                                              As Senior Software Developer Technical Leader the incumbent has to lead and work with developers and participate in the design and development projects he has to work with Architecture team in the organization understand product roadmaps and assume key role in the development of these products  BS MS in Computer Science Information Services or related field Minimum of 10 year extensive development experience Experience as Technical Leader on in Linux OS with in depth knowledge of software development processes Deep technical and professional skills readiness to learn new technologies Extensive programming experience with standard management and instrumentation API Ability to work independently as well as with other members in the group preferably in leadership role Ability to write technical and functional specifications and present them to the other team members and occasionally to the management thorough understanding of software development processes and methodologies and knowledge of complete product development life cycle Strong inter personal skills ability to work both independently and as part of global team and thrive on technical challenges Excellent communication and writing skills and experience in writing product specifications and technical documentation Good communication skills in English language Enthusiastic and self motivated Good team player   \n",
       "21                                                                                                                                                                                                                                                                                                                                                                                                                                                                                                                                                                                                                                                                                                                                                                                                                                                                                                                                                                                                                                                                                                                                                                                                                                                                                                                                                                                                                                                                                                                                                                                                                                                                                                                                                                                                                                                                                                                                                                                                                                                                                                                                                                                             As Senior Software Developer Technical Leader the incumbent has to lead and work with developers and participate in the design and development projects he has to work with Architecture team in the organization understand product roadmaps and assume key role in the development of these products  BS MS in Computer Science Information Services or related field Minimum of 10 year extensive development experience Experience as Technical Leader on in Linux OS with in depth knowledge of software development processes Deep technical and professional skills readiness to learn new technologies Extensive programming experience with standard management and instrumentation API Ability to work independently as well as with other members in the group preferably in leadership role Ability to write technical and functional specifications and present them to the other team members and occasionally to the management thorough understanding of software development processes and methodologies and knowledge of complete product development life cycle Strong inter personal skills ability to work both independently and as part of global team and thrive on technical challenges Excellent communication and writing skills and experience in writing product specifications and technical documentation Good communication skills in English language Enthusiastic and self motivated Good team player   \n",
       "219                                                                                                                                                                                                                                                                                                                                                                                                                                                                                                                                                                                                                                                                                                                                                                                                                                                                                                                                                                                                                                                                                                                                                                                                                                                                                                                                                                                                                                                                                                                                                                                                                                                                                                                                                                                                                                                                                                                                                                                                                                                                                                                                                                                                                                                                                                                                                                                                                                                  This position reports to Marketing Manager and is part of Marketing Department team Design and prepare advertsing materials for web and print including online banners magazine ads brochures booklets flyers etc Create graphic elements for web sites Design and produce branding elements such as logos promotional materials etc Written and spoken English language knowledge Minimum 23 years of experience designing and producing online and print content which may include web sites banners print advertisements Ability to hand code Knowledge of HTML CSS _javascript Software skills include but are not limited to Macromedia Dreamweaver MX Flash MX Adobe Photoshop CS Illustrator CS comfortable working on PC platform Optional skills highly desired understanding of animation for web InDesign CS or Quark Express experience with pre press Awareness of and ability to design for cross browser platform compatibility and compliance with web standards Highly self motivated conceptual thinker with strong sense of typography and graphic design Ability to work under pressure with grace and to provide quick turnaround Online portfolio preferred   \n",
       "262                                                                                                                                                                                                                                                                                                                                                                                                                                                                                                                    Abt Associates is seeking Technical Specialist Team Leader for Quality Improvement for USAID funded project in Armenia that aims to strengthen the Armenian health system and improve the quality of health services with particular focus on primary health care maternal and child health reproductive health family planning and tuberculosis services The Technical Specialist Team Leader will provide leadership management strategic direction and technical assistance to improve the quality of clinical services in Armenia Manage team to plan and implement quality improvement activities including Provide technical assistance to help inform and refine quality improvement strategies including introducing evidence based medicine principles clinical practice guidelines quality assurance and quality improvement strategies at national marz and health facility levels Build on and enhance achievements in facility level quality improvement and health information systems as well as work in improving family medicine training programs Provide technical assistance to develop capacity building approaches and training packages for training institutions and health care professionals Provide input to draft laws policies strategies and regulations as required Provide technical assistance to the Ministry of Health to introduce workforce planning tools and mechanisms Conduct policy dialogue with key counterparts and stakeholder organizations to jointly agree on strategies and implement activities in way that increases local ownership and sustainability Maintain excellent relationships and promote effective collaboration with health sector organizations institutions as well as donors development partners and other USAID projects Provide support to international and regional consultants providing short term technical assistance on the project Develop capacity building strategies for counterpart organizations as appropriate Providing strong technical and managerial leadership for all quality improvement component activities and supervise team of dedicated professionals including project staff and local consultants as needed Contribute to project reporting including workplans quarterly and annual progress reports and progress against Performance Management Plan MD and Master degree preferred in Public Health Health Administration Public Policy Medicine Nursing or Quality years of relevant professional experience working in quality assurance workforce optimization and preparation quality improvement quality monitoring and evaluation and training Ability to design strategies involving organizations and local governments Knowledge of technical assistance and or training capacity building to local governments Experience in contributing to programmatic and technical reports Excellent facilitation networking negotiation and coordination skills Excellent organizational skills and highly developed written oral and interpersonal communication skills Fluency in English and Armenian   \n",
       "263   Abt Associates is seeking Technical Specialist Team Leader for Quality Improvement for USAID funded project in Armenia that aims to strengthen the Armenian health system and improve the quality of health services with particular focus on NCD prevention maternal and child health reproductive health family planning emergency care and tuberculosis services The Technical Specialist Team Leader for Quality Improvement will provide leadership management strategic direction and technical assistance to improve the quality of clinical services in Armenia Manage and supervise team of dedicated professionals responsible for the implementation of quality improvement activities including provision of technical assistance to inform and refine quality improvement strategies including introduction of evidence based medicine principles clinical practice guidelines quality assurance and quality improvement strategies at national marz and health facility levels Build on and enhance achievements in facility level quality improvement and health information systems specifically tackling NCD prevention issues MCH RH emergency care etc Provide technical assistance to develop capacity building approaches and training packages for training institutions and health care professionals Provide inputs to draft laws policies strategies and regulations as required Provide technical assistance to the Ministry of Health to introduce workforce planning tools and mechanisms Maintain strong and cohesive collaboration with other teams of the project as well as international organizations MOH and other key counterparts to jointly agree on strategies and implement activities in way that increases local ownership and sustainability Maintain excellent relationships and promote effective collaboration with health sector organizations institutions as well as donors development partners and other USAID projects Develop provide overall technical guidance inputs and ongoing support in all technical deliverables pertinent to the QI QA component activities of the project per project SOW and programmatic strategies Provide technical support and leadership on planned STTAs for the QI QA component of the project including drafting SOWs maintaining communication and relevant paperwork Prepare project reports including workplans quarterly and annual progress reports and progress against Performance Management Plan MD and Master Degree preferred in Public Health Health Administration Public Policy Medicine or HealthCare Quality At least years of relevant professional experience working in quality assurance workforce optimization and preparation quality improvement quality monitoring and evaluation and health services performance improvement training Ability to design strategies involving organizations and local governments Comprehensive knowledge of technical assistance programs and or training capacity building to local governments At least years of extensive managerial experience in coordinating and leading international health programs and initiatives Experience in contributing to programmatic and technical reports Excellent leadership managerial networking negotiation and coordination skills Readiness for assuming responsibility making decisions and promoting them among stakeholders Excellent organizational and time management skills and highly developed written oral and interpersonal communication skills Fluency in English Armenian languages knowledge of Russian is desirable   \n",
       "445   Abt Associates is seeking Technical Specialist Team Leader for Quality Improvement for USAID funded project in Armenia that aims to strengthen the Armenian health system and improve the quality of health services with particular focus on NCD prevention maternal and child health reproductive health family planning emergency care and tuberculosis services The Technical Specialist Team Leader for Quality Improvement will provide leadership management strategic direction and technical assistance to improve the quality of clinical services in Armenia Manage and supervise team of dedicated professionals responsible for the implementation of quality improvement activities including provision of technical assistance to inform and refine quality improvement strategies including introduction of evidence based medicine principles clinical practice guidelines quality assurance and quality improvement strategies at national marz and health facility levels Build on and enhance achievements in facility level quality improvement and health information systems specifically tackling NCD prevention issues MCH RH emergency care etc Provide technical assistance to develop capacity building approaches and training packages for training institutions and health care professionals Provide inputs to draft laws policies strategies and regulations as required Provide technical assistance to the Ministry of Health to introduce workforce planning tools and mechanisms Maintain strong and cohesive collaboration with other teams of the project as well as international organizations MOH and other key counterparts to jointly agree on strategies and implement activities in way that increases local ownership and sustainability Maintain excellent relationships and promote effective collaboration with health sector organizations institutions as well as donors development partners and other USAID projects Develop provide overall technical guidance inputs and ongoing support in all technical deliverables pertinent to the QI QA component activities of the project per project SOW and programmatic strategies Provide technical support and leadership on planned STTAs for the QI QA component of the project including drafting SOWs maintaining communication and relevant paperwork Prepare project reports including workplans quarterly and annual progress reports and progress against Performance Management Plan MD and Master Degree preferred in Public Health Health Administration Public Policy Medicine or HealthCare Quality At least years of relevant professional experience working in quality assurance workforce optimization and preparation quality improvement quality monitoring and evaluation and health services performance improvement training Ability to design strategies involving organizations and local governments Comprehensive knowledge of technical assistance programs and or training capacity building to local governments At least years of extensive managerial experience in coordinating and leading international health programs and initiatives Experience in contributing to programmatic and technical reports Excellent leadership managerial networking negotiation and coordination skills Readiness for assuming responsibility making decisions and promoting them among stakeholders Excellent organizational and time management skills and highly developed written oral and interpersonal communication skills Fluency in English Armenian languages knowledge of Russian is desirable   \n",
       "514                                                                                                                                                                                                                                                                                                                                                                                                                                                                                                                    Abt Associates is seeking Technical Specialist Team Leader for Quality Improvement for USAID funded project in Armenia that aims to strengthen the Armenian health system and improve the quality of health services with particular focus on primary health care maternal and child health reproductive health family planning and tuberculosis services The Technical Specialist Team Leader will provide leadership management strategic direction and technical assistance to improve the quality of clinical services in Armenia Manage team to plan and implement quality improvement activities including Provide technical assistance to help inform and refine quality improvement strategies including introducing evidence based medicine principles clinical practice guidelines quality assurance and quality improvement strategies at national marz and health facility levels Build on and enhance achievements in facility level quality improvement and health information systems as well as work in improving family medicine training programs Provide technical assistance to develop capacity building approaches and training packages for training institutions and health care professionals Provide input to draft laws policies strategies and regulations as required Provide technical assistance to the Ministry of Health to introduce workforce planning tools and mechanisms Conduct policy dialogue with key counterparts and stakeholder organizations to jointly agree on strategies and implement activities in way that increases local ownership and sustainability Maintain excellent relationships and promote effective collaboration with health sector organizations institutions as well as donors development partners and other USAID projects Provide support to international and regional consultants providing short term technical assistance on the project Develop capacity building strategies for counterpart organizations as appropriate Providing strong technical and managerial leadership for all quality improvement component activities and supervise team of dedicated professionals including project staff and local consultants as needed Contribute to project reporting including workplans quarterly and annual progress reports and progress against Performance Management Plan MD and Master degree preferred in Public Health Health Administration Public Policy Medicine Nursing or Quality years of relevant professional experience working in quality assurance workforce optimization and preparation quality improvement quality monitoring and evaluation and training Ability to design strategies involving organizations and local governments Knowledge of technical assistance and or training capacity building to local governments Experience in contributing to programmatic and technical reports Excellent facilitation networking negotiation and coordination skills Excellent organizational skills and highly developed written oral and interpersonal communication skills Fluency in English and Armenian   \n",
       "591                                                                                                                                                                                                                                                                                                                                                                                                                                                                                                                                                                                                                                                                                                                                                                                                                                                                                                                                                                                                                                                                                                                                                                                                                                                                                                                                                                                                                                                                                                                                                                                                                                                                                                                                                                                                                                                                                                                                                                                                                                                                                                                                                                                                                                                                                                                                                                                                                                                                                                                                    This is an opportunity to work closely with engineers in the analog design group whose focus is to design precision programmable Analog and RF instrumentation for LTXC semiconductor test equipment portion of time will be spent in state of the art development lab running the systems using the latest in test equipment Realize data collection and analysis using custom coded tools Write programs to collect and analyze data Debug new printed circuit boards Prototype and test new design ideas Responsible for schematic entry Characterize and verify new instrument designs Responsible for printed circuit board layout Handle the component selection for new designs 4th year university student Good knowledge of English language Knowledge of analog mixed Signal Design using the following components Discrete Standard Logic CPLD DAC ADCs Voltage Regulators and Op Amps Some hardware experience including familiarity with electronic test equipment such as DMM oscilloscopes signal generators and logic analyzers is desired Programming experience in or is plus   \n",
       "754                                                                                                                                                                                                                                                                                                                                                                                                                                                                                                                                                                                                                                                                                                                                                                                                                                                                                                                                                                                                                                                                                                                                                                                                                                                                                                                                                                                                                                                                                                                                                                                                                                                                                                                       Arts Armenia is looking for motivated and experienced candidate to take over the position of Senior iOS Developer Responsible for iOS mobile development Participate in technical discussions attend meetings standups and follow the Agile process for development Implement debug test and enhance critical mobile application features Ensure high quality of implementation via code reviews and unit testing Provide timely feedback to PM on product requirements Collaborate with QA on bug fixes and test case reviews Technology wise with knowledge of Objective and Proficient on the level of tweaking with XCode and XCodebuild Understanding of networking protocols such as TCP IP and UDP Unicast and Multicast Knowledge of HTTP request processing is expected Versed in Restful API and XML JSON data serialization Understanding of HTTPS and basic security mechanisms Knowledge of encryption methods DES AES etc is big plus Well versed in multi threading programming and knowledge of basic techniques of code optimization Knowledge of Video Technologies AVFoundation and or ffmpeg in particular Open GL and Sensor Blending for Android is big bonus Ability to understand and produce Cocoa Cocoa Touch Objective and Carbon style code as well as hybrid model Personality wise inquisitive and quick to discover and understand new technologies Ability to identify and quickly resolve most of the problems without external supervision merely using available information sources Google StackOverflow forums developer community pages etc Justifiably proud of code you write and technical approaches you employ Ability to do good job with minimal supervision and capable of making and justifying project wide architectural decisions Ability to deal well with clients on the social level and explain things to non experts in simple and understandable way   \n",
       "1262                                                                                                                                                                                                                                                                                                                                                                                                                                                                                                                                                                                                                                                                                                                                                                                                                                                                                                                                                                                                                                                                                                                                                                                                                                                                                                                                                                                                                                                                                                                                                                                                                                                                                                                                                                                                                                                                                                                                                                                                                                                                                                                                                                                                                                                                                                                                                                                                                                                                                                                                   This is an opportunity to work closely with engineers in the analog design group whose focus is to design precision programmable Analog and RF instrumentation for LTXC semiconductor test equipment portion of time will be spent in state of the art development lab running the systems using the latest in test equipment Realize data collection and analysis using custom coded tools Write programs to collect and analyze data Debug new printed circuit boards Prototype and test new design ideas Responsible for schematic entry Characterize and verify new instrument designs Responsible for printed circuit board layout Handle the component selection for new designs 4th year university student Good knowledge of English language Knowledge of analog mixed Signal Design using the following components Discrete Standard Logic CPLD DAC ADCs Voltage Regulators and Op Amps Some hardware experience including familiarity with electronic test equipment such as DMM oscilloscopes signal generators and logic analyzers is desired Programming experience in or is plus   \n",
       "1504                                                                                                                                                                                                                                                                                                                                                                                                                                                                                                                                                                                                                                                                                                                                                                                                                                                                                                                                                                                                                                                                                                                                                                                                                                                                                                                                                                                                                                                                                                                                                                                                                                                                                                                                                                                                                                                                                                                                                                                                                                                                                                                                                                                                                                                                                                                                                                                                                                                                                                                                                                                                                                                                                                                                                                                                                                                                                                                                                                                                                                                                                                                                                                                                                                                                                                                   Develop test and maintain websites and applications in AngularJS Read understand and modify the existing code Participate in project planning Excellent knowledge of AngularJS At least years of experience with AngularJS Knowledge of HTML5 and CSS3 Knowledge of Sass Good knowledge of the English language   \n",
       "1564                                                                                                                                                                                                                                                                                                                                                                                                                                                                                                                                                                                                                                                                                                                                                                                                                                                                                                                                                                                                                                                                                                                                                                                                                                                                                                                                                                                                                                                                                                                                                                                                                                                                                                                                                                                                                                                                                                                                                                                                                                                                                                                                                                                                                                                                                                                                                                                                                                                                                                                                                                                                                                                                                                                                                                                                                                                                                                                                                                                                                                 Smart Tech is seeking young talented programmers to join its ErLang developers team Learn and become proficient Support existing projects Optimize and develop existing projects Take part in new projects development Experience under nix development Experience in web programming Basic knowledge in networking cryptography Familiarity with standard development tools as vim make Maximum years of experience is acceptable for this position more experienced candidates will be over qualified Will to learn ErLang and work under it Ability to learn fast Ability to work under stress   \n",
       "1565                                                                                                                                                                                                                                                                                                                                                                                                                                                                                                                                                                                                                                                                                                                                                                                                                                                                                                                                                                                                                                                                                                                                                                                                                                                                                                                                                                                                                                                                                                                                                                                                                                                                                                                                                                                                                                                                                                                                                                                                                                                                                                                                                                                                                                                                                                                                                                                                                                                                                                                                                                                                                                                                                                                                                                                                                                                                                                                                                                                                                                 Smart Tech is seeking young talented programmers to join its ErLang developers team Learn and become proficient Support existing projects Optimize and develop existing projects Take part in new projects development Experience under nix development Experience in web programming Basic knowledge in networking cryptography Familiarity with standard development tools as vim make Maximum years of experience is acceptable for this position more experienced candidates will be over qualified Will to learn ErLang and work under it Ability to learn fast Ability to work under stress   \n",
       "1566                                                                                                                                                                                                                                                                                                                                                                                                                                                                                                                                                                                                                                                                                                                                                                                                                                                                                                                                                                                                                                                                                                                                                                                                                                                                                                                                                                                                                                                                                                                                                                                                                                                                                                                                                                                                                                                                                                                                                                                                                                                                                                                                                                                                                                                                                                                                                                                                                                                                                                                                                                                                                                                                                                                                                                                                                                                                                                                                                                                                                                 Smart Tech is seeking young talented programmers to join its ErLang developers team Learn and become proficient Support existing projects Optimize and develop existing projects Take part in new projects development Experience under nix development Experience in web programming Basic knowledge in networking cryptography Familiarity with standard development tools as vim make Maximum years of experience is acceptable for this position more experienced candidates will be over qualified Will to learn ErLang and work under it Ability to learn fast Ability to work under stress   \n",
       "1568                                                                                                                                                                                                                                                                                                                                                                                                                                                                                                                                                                                                                                                                                                                                                                                                                                                                                                                                                                                                                                                                                                                                                                                                                                                                                                                                                                                                                                                                                                                                                                                                                                                                                                                                                                                                                                                                                                                                                                                                                                                                                                                                                                                                                                                                                                                                                                                                                                                                                                                                                                                                                                                                                                                                                                                                                                                                                                                                                                                                                                                                                                                                                                                                                                                  Smart Tech is looking for highly motivated people for the position of Senior Developer to join its software development process  years of experience in and Net Good knowledge of Net Framework Knowledge in Networking Multi Threading WCF and MSSQL Knowledge in Boost POCO DirectShow COM and Windows Media is welcomed Good English and Russian languages skills Team player   \n",
       "1598                                                                                                                                                                                                                                                                                                                                                                                                                                                                                                                                                                                                                                                                                                                                                                                                                                                                                                                                                                                                                                                                                                                                                                                                                                                                                                                                                                                                                                                                                                                                                                                                                                                                                                                                                                                                                                                                                                                                                                                                                                                                                                                                                                                                                                                                                                                                In conjunction with the student university and in accordance with Virage Logic Engineering Co Op Program the incumbent will receive various trainings and assignments in software development area thus acquiring real life experience The candidate will be involved in software QA process particularly Analysis and elimination of FlexeLint Purify and compile time issues and warnings Automated test development for batch mode and GUI based tools The candidate will participate in software development process particularly Batch mode application and library development using and Tcl languages GUI based application development using and Java languages  First year MS student Basic scripting skills knowledge of Unix Shells Tcl Basic knowledge of and STL Ability to search and study documentation Basic knowledge of object oriented programming Ability to quickly study and apply new tools and methodologies Good English language communication skills Team working capability Desired Skills Pro active can do mentality self motivated and assertive personality Multitasking and organizational skills Written and verbal English language communication skills Good team interaction skills with engineers and other support staff Hard working reliable personality   \n",
       "1603                                                                                                                                                                                                                                                                                                                                                                                                                                                                                                                                                                                                                                                                                                                                                                                                                                                                                                                                                                                                                                                                                                                                                                    Synergy Armenia is looking for junior database administrator DBA with good knowledge of ORACLE who will be responsible for the performance integrity and security of database Additional role requirements are likely to include planning development and troubleshooting Ensure that data remains consistent across the database Ensure that data is clearly defined Ensure that users access data concurrently in form that suits their needs Ensure provision for data security and recovery control that all data are retrievable in an emergency Ensure that DBA roles are increasingly identified by the databases the processes they administer and the capabilities of the database management system DBMS in use Establish the needs of users and monitor user access and security Monitor performance and manage parameters to provide fast query responses to front end users Consider both back end organization of data and front end accessibility for end users Install and test new versions of the DBMS Write database documentation including data standards procedures and definitions for the data dictionary metadata Control access permissions and privileges Ensure that storage archiving back up and recovery procedures are functioning correctly Work closely with IT project managers database programmers and Java developers Communicate regularly with technical applications and operational staff to ensure database integrity and security Commission and install new applications and customize existing applications in order to make them fit for purpose to years of IT operation experience with strong understanding of database structures theories principles and practices to years of Microsoft SQL Server experience Understanding of and experience with server client computing and relational database environments Experience with data management and data processing flowcharting techniques Knowledge of reporting and query tools and practices Good understanding of the organization goals and objectives Good interpersonal written and oral communication skills Technical documentation skills Ability to present ideas in user friendly language Self motivated and directed with keen attention to detail Ability to prioritize and execute tasks in high pressure environment Experience with working in team oriented and collaborative environment RDBMS Oracle optional MSSQL Bachelor degree   \n",
       "1612                                                                                                                                                                                                                                                                                                                                                                                                                                                                                                                                                                                                                                                                                                                                                                                                                                                                                                                                                                                                                                                                                                                                                                                                                                                                                                                                                                                                                                                                                                                                                                                                                                                                                                                                                                                                                                                                                                                                                                                                                                                                                                                                                                                           As Senior Software Developer Technical Leader the incumbent has to lead and work with developers and participate in the design and development projects he has to work with Architecture team in the organization understand product roadmaps and assume key role in the development of these products  BS MS in Computer Science Information Services or related field Minimum of 10 year extensive development experience Experience as Technical Leader on in Linux OS with in depth knowledge of software development processes Deep technical and professional skills readiness to learn new technologies Extensive programming experience with standard management and instrumentation API Ability to work independently as well as with other members in the group preferably in leadership role Ability to write technical and functional specifications and present them to the other team members and occasionally to the management thorough understanding of software development processes and methodologies and knowledge of complete product development life cycle Strong inter personal skills ability to work both independently and as part of global team and thrive on technical challenges Excellent communication and writing skills and experience in writing product specifications and technical documentation Good communication skills in English language Enthusiastic and self motivated Good team player   \n",
       "1613                                                                                                                                                                                                                                                                                                                                                                                                                                                                                                                                                                                                                                                                                                                                                                                                                                                                                                                                                                                                                                                                                                                                                                                                                                                                                                                                                                                                                                                                                                                                                                                                                                                                                                                                                                                                                                                                                                                                                                                                                                                                                                                                                                                           As Senior Software Developer Technical Leader the incumbent has to lead and work with developers and participate in the design and development projects he has to work with Architecture team in the organization understand product roadmaps and assume key role in the development of these products  BS MS in Computer Science Information Services or related field Minimum of 10 year extensive development experience Experience as Technical Leader on in Linux OS with in depth knowledge of software development processes Deep technical and professional skills readiness to learn new technologies Extensive programming experience with standard management and instrumentation API Ability to work independently as well as with other members in the group preferably in leadership role Ability to write technical and functional specifications and present them to the other team members and occasionally to the management thorough understanding of software development processes and methodologies and knowledge of complete product development life cycle Strong inter personal skills ability to work both independently and as part of global team and thrive on technical challenges Excellent communication and writing skills and experience in writing product specifications and technical documentation Good communication skills in English language Enthusiastic and self motivated Good team player   \n",
       "1632                                                                                                                                                                                                                                                                                                                                                                                                                                                                                                                                                                                                                                                                                                                                                                                                                                                                                                                                                                                                                                                                                                                                                                                                                                                                                                                                                                                                                                                                                                                                                                                                                                                                                                                                                                          The incumbent will be responsible for performing database maintenance technical support supporting on going application development installation and upgrades of related applications Ensure Oracle systems uninterrupted availability Be responsible for installation tuning optimizing and troubleshooting Oracle instances Be responsible for SQL Loader Imports Exports Backup and Recovery strategies monitoring and implementation Lead server and PC configuration in reference to SQL Net Prepare SQL queries and reports years of Oracle Database Administration experience years of Technical Support experience Strong proven experience in PL SQL Knowledge of tuning and troubleshooting Oracle instances Tuning and troubleshooting Oracle instances in clustered environment is big plus Ability to install Oracle on Linux UNIX Ability to write and optimize code in PL SQL Experience in configuring and maintaining highly scalable environments Strong Knowledge of Oracle Backup Recovery Methodologies and Strategies Good UNIX Administration skills Oracle Certifications in 8i or higher is big plus Knowledge of Microsoft Windows 2000 2003 is preferred Solid knowledge of networking principles Good organizational skills Excellent communication troubleshooting written and oral skills Ability to work off hours during weekends and holidays to meet deadlines Ability to ramp up quickly on new technology or new project Degree in Computer Sciences or relevant experience Proficient with the fundamentals of Oracle server from an administration perspective Proficient with Designer 2000 Enterprise Manager Developer 2000 and OAS Experience in SQL and PL SQL Windows 95 98 NT UNIX and PERL Experience in Business Objects FTP Designer 2000 Enterprise Manager Telnet SQL Navigator Developer 2000 and OAS   \n",
       "1633                                                                                                                                                                                                                                                                                                                                                                                                                                                                                                                                                                                                                                                                                                                                                                                                                                                                                                                                                                                                                                                                                                                                                                                                                                                                                                                                                                                                                                                                                                                                                                                                                                                                                                                                                                          The incumbent will be responsible for performing database maintenance technical support supporting on going application development installation and upgrades of related applications Ensure Oracle systems uninterrupted availability Be responsible for installation tuning optimizing and troubleshooting Oracle instances Be responsible for SQL Loader Imports Exports Backup and Recovery strategies monitoring and implementation Lead server and PC configuration in reference to SQL Net Prepare SQL queries and reports years of Oracle Database Administration experience years of Technical Support experience Strong proven experience in PL SQL Knowledge of tuning and troubleshooting Oracle instances Tuning and troubleshooting Oracle instances in clustered environment is big plus Ability to install Oracle on Linux UNIX Ability to write and optimize code in PL SQL Experience in configuring and maintaining highly scalable environments Strong Knowledge of Oracle Backup Recovery Methodologies and Strategies Good UNIX Administration skills Oracle Certifications in 8i or higher is big plus Knowledge of Microsoft Windows 2000 2003 is preferred Solid knowledge of networking principles Good organizational skills Excellent communication troubleshooting written and oral skills Ability to work off hours during weekends and holidays to meet deadlines Ability to ramp up quickly on new technology or new project Degree in Computer Sciences or relevant experience Proficient with the fundamentals of Oracle server from an administration perspective Proficient with Designer 2000 Enterprise Manager Developer 2000 and OAS Experience in SQL and PL SQL Windows 95 98 NT UNIX and PERL Experience in Business Objects FTP Designer 2000 Enterprise Manager Telnet SQL Navigator Developer 2000 and OAS   \n",
       "1654                                                                                                                                                                                                                                                                                                                                                                                                                                                                                                                                                                                                                                                                                                                                                                                                                                                                                                                                                                                                                                                                                                                                                                                                                                                                                                                                                                                                                                                                                                                                                                                                                                                                                                                                                                          The incumbent will be responsible for performing database maintenance technical support supporting on going application development installation and upgrades of related applications Ensure Oracle systems uninterrupted availability Be responsible for installation tuning optimizing and troubleshooting Oracle instances Be responsible for SQL Loader Imports Exports Backup and Recovery strategies monitoring and implementation Lead server and PC configuration in reference to SQL Net Prepare SQL queries and reports years of Oracle Database Administration experience years of Technical Support experience Strong proven experience in PL SQL Knowledge of tuning and troubleshooting Oracle instances Tuning and troubleshooting Oracle instances in clustered environment is big plus Ability to install Oracle on Linux UNIX Ability to write and optimize code in PL SQL Experience in configuring and maintaining highly scalable environments Strong Knowledge of Oracle Backup Recovery Methodologies and Strategies Good UNIX Administration skills Oracle Certifications in 8i or higher is big plus Knowledge of Microsoft Windows 2000 2003 is preferred Solid knowledge of networking principles Good organizational skills Excellent communication troubleshooting written and oral skills Ability to work off hours during weekends and holidays to meet deadlines Ability to ramp up quickly on new technology or new project Degree in Computer Sciences or relevant experience Proficient with the fundamentals of Oracle server from an administration perspective Proficient with Designer 2000 Enterprise Manager Developer 2000 and OAS Experience in SQL and PL SQL Windows 95 98 NT UNIX and PERL Experience in Business Objects FTP Designer 2000 Enterprise Manager Telnet SQL Navigator Developer 2000 and OAS   \n",
       "1791                                                                                                                                                                                                                                                                                                                                                                                                                                                                                                                                                                                                                                                                                                                                                                                                                                                                                                                                                                                                                                                                                                                                                                                                                                                                                                                                                                                                                                                                                                                                                                                                                                                                                                                                                                                                                                                                                                                                                                                                                                                                                                                                                                                                                                                                                                                                                                                                                                                                                                                                                                                                                                                                                                                                                                                                                                              Fast Credit Ltd is looking for Delphi Software Engineer to be engaged in long term projects Write and test code according to technical documentation Support maintain and document software functionality Stay organized to achieve mission and purpose goals and objectives Work hard towards self development Bachelors degree in Computer Sciences or related discipline Over years of work Delphi programming experience Good knowledge of SQL language Good knowledge of technical English language Development experience in Windows environment with STL threads and sockets Development experience of GUI programming with Builder or Delphi Familiarity with Design Patterns is plus Familiarity with databases Oracle MS SQL is big plus Familiarity with hardware is plus   \n",
       "\n",
       "                                                   title_res  \\\n",
       "7                                  technical lead, developer   \n",
       "8                                  technical lead, developer   \n",
       "21                     technical lead (full stack developer)   \n",
       "219   ui/ux designer, front end developer & graphic designer   \n",
       "262                                technical lead, developer   \n",
       "263                                technical lead, developer   \n",
       "445                    technical lead (full stack developer)   \n",
       "514                       analyst, technical lead, developer   \n",
       "591        technical architect and technical project manager   \n",
       "754                                        osb/soa developer   \n",
       "1262                   technical lead (full stack developer)   \n",
       "1504                3 months internship + 3 months full time   \n",
       "1564                               trainee software engineer   \n",
       "1565                               trainee software engineer   \n",
       "1566                               trainee software engineer   \n",
       "1568                               sr. java / j2ee developer   \n",
       "1598                      senior developer/ business analyst   \n",
       "1603                        development assistant, developer   \n",
       "1612                                                     dba   \n",
       "1613                                                     dba   \n",
       "1632                   technical lead (full stack developer)   \n",
       "1633                   technical lead (full stack developer)   \n",
       "1654                                  sr. software associate   \n",
       "1791                    internship for 6 months and training   \n",
       "\n",
       "                                                                                                                                                                                                                                                                                                                                                                                                                                                                                                                                                                                                                                                                                                                                                                                                                                                                                                                                                                                                                                                                                                                                                                                                                                                                                                                                                                                                                                                                                                                                                                                                                                                                                                                                                                                                                                                                                                                                                                                                                                                                                                                                                                                                                                                                                                                                                                                                                                                                 text_b  \\\n",
       "7                                                                                                                                                                                                                                                                                                                                                                                                                                                                                                                                                                                                                                                                                                                                                                                                                                                                                                                                                                                                                                                                                                                                                                                                                                                                                                                                                                                                                                                                                                                                         for 2013 aimed at Life and Pensions products, intended to bring about changes in projection rates, to be effective from January, 2014. \\n \\nRole Technical lead, Developer \\nResponsibilities \\n- Writing Technical Specification document using Class Diagrams and Sequence Diagrams \\n \\n- Technical lead to guide developers through the development, unit and integration testing, UAT phases of the project \\n \\n- Review and upgrade of code developed by team members \\n \\n- Coordinating with onsite coordinator in project testing and project implementation phases \\n \\n- Ensuring quality of deliverables to be compliant with AEGON standard and Integrated Quality Management System standard of Tata Consultancy Services, through Internal and External Quality Assurance checks \\n \\nSolution Environment Java/J2EE (Spring framework v2.5.6), SQL, Rational Application Developer, Rational Clearcase, TOAD   \n",
       "8                                                                                                                                                                                                                                                                                                                                                                                                                                                                                                                                                                                                                                                                                                                                                                                                                                                                              Kolkata, India \\nCustomer Grameen Phone, Bangladesh \\nPeriod December 2014 - March 2016 \\nDescription \\nGrameen Phone (GP) is a telecommunication service provider in Bangladesh. Currently, the project is carrying out various Change Requests to the existing product, to name a few - Bargen - credit control information handling, Prepaid to postpaid migration - migrating existing GP prepaid plans to postpaid plans, Report segregation based on prepaid or postpaid plan rather than generating single consolidated reports, etc. \\n \\nRole Technical Lead, Developer \\nResponsibilities \\n- Writing Technical Specification document from Requirement Specification Document, using Class Diagrams and sequence Diagrams \\n \\n- Development of the new requirements using Spring MVC framework and Spring Batch, unit and integration testing, providing support during UAT phase of the project. \\n \\n- Using Tortoise SVN for version controlling. Using Oracle as RDBMS. Using Apache Maven to build projects and create requisite jars \\n \\n- Interaction with functional and business users on a daily basis to provide and obtain project status updates and feedback, defect fixing and support during User Acceptance Testing and Regression Testing \\n \\n- Ensuring quality of deliverables to be compliant with project standards \\n \\nSolution Environment \\nJava/J2EE (Spring framework v2.5.6, Spring Batch, Add-on Application development), Apache Maven 3.2.3, SQL Developer, TOAD for Oracle 9.7, Eclipse Luna, Tortoise SVN, Oxygen XML and XSLT Developer   \n",
       "21                                                                                                                                                                                                                                                                                                                                                                                                                                                                                                                                                                                                                                                                                                                                                                                                                                                                                                                                                                                                                                                                                                                                                                                                                                                                                                                                                                                                                                                                                                                                                                                                                                                                                                                                                                                                                                                                                                                                                                                                                              Currently I am working as PHP/ Nodejs/React Technical Lead and my work responsibilities are to understand project requirements, Make Technical Documents, Scrum Planning, Daily Weekly Task Management, Database Planning, Development/staging/Production environment management, Server Management, Code Deployment, Code Review, Find glitches in developed projects and improve performance, Core structure and library development.   \n",
       "219                                                                                                                                                                                                                                                                                                                                                                                                                                                                                                                                                                                                                                                                                                                                                                                                                                                                                                                                                                                                                                                                                                                                                                                                                                                                                                                                                                                                                                                                                                                                                                                                                                                                                                                                                                                                                                                                                           Experience in the Following) \\n• Graphic Designing (Social Media Posting) \\n• Logo Designing. \\n• Company Branding (Brochure, Visiting Card & Flayer etc) \\n• UI/UX Designer. \\nSome of the live website \\n \\nhttp://www.gabrielmotorcycles.com/ \\nwww.legendsecurity.in \\nwww.safehandsskinclinic.com \\nwww.theunspokenagreements.com \\nhttp://orgstead.com/ \\nhttp://sbam.in/ \\n \\nDesigning Portfolio \\n \\nhttps://www.behance.net/maheshshelf7d5 \\n \\nI hereby state that the particulars given above are true to the best of my knowledge and belief. \\nPlace: Pune.   \n",
       "262                                                                                                                                                                                                                                                                                                                                                                                                                                                                                                                                                                                                                                                                                                                                                                                                                                                                                                                                                                                                                                                                                                                                                                                                                                                                                                                                                                                                                                                                                                                                       for 2013 aimed at Life and Pensions products, intended to bring about changes in projection rates, to be effective from January, 2014. \\n \\nRole Technical lead, Developer \\nResponsibilities \\n- Writing Technical Specification document using Class Diagrams and Sequence Diagrams \\n \\n- Technical lead to guide developers through the development, unit and integration testing, UAT phases of the project \\n \\n- Review and upgrade of code developed by team members \\n \\n- Coordinating with onsite coordinator in project testing and project implementation phases \\n \\n- Ensuring quality of deliverables to be compliant with AEGON standard and Integrated Quality Management System standard of Tata Consultancy Services, through Internal and External Quality Assurance checks \\n \\nSolution Environment Java/J2EE (Spring framework v2.5.6), SQL, Rational Application Developer, Rational Clearcase, TOAD   \n",
       "263                                                                                                                                                                                                                                                                                                                                                                                                                                                                                                                                                                                                                                                                                                                                                                                                                                                                                                                                                                                                                                                                                                                                                                                                                                                                                                                                                                                                                                                                                                                                       for 2013 aimed at Life and Pensions products, intended to bring about changes in projection rates, to be effective from January, 2014. \\n \\nRole Technical lead, Developer \\nResponsibilities \\n- Writing Technical Specification document using Class Diagrams and Sequence Diagrams \\n \\n- Technical lead to guide developers through the development, unit and integration testing, UAT phases of the project \\n \\n- Review and upgrade of code developed by team members \\n \\n- Coordinating with onsite coordinator in project testing and project implementation phases \\n \\n- Ensuring quality of deliverables to be compliant with AEGON standard and Integrated Quality Management System standard of Tata Consultancy Services, through Internal and External Quality Assurance checks \\n \\nSolution Environment Java/J2EE (Spring framework v2.5.6), SQL, Rational Application Developer, Rational Clearcase, TOAD   \n",
       "445                                                                                                                                                                                                                                                                                                                                                                                                                                                                                                                                                                                                                                                                                                                                                                                                                                                                                                                                                                                                                                                                                                                                                                                                                                                                                                                                                                                                                                                                                                                                                                                                                                                                                                                                                                                                                                                                                                                                                                                                                                            • Understand project requirements with seniors. \\n• Make technical documents like wireframe, detail document, flow document. \\n• Database planning. \\n• Scrum planning and timeline preparation. \\n• Make weekly/daily plan and distribute tasks among team members. \\n• EC2 linux server setup and monitoring. \\n• Project core structure library development. \\n• Git code review. \\n• React development and training.   \n",
       "514                                                                                                                                                                                                                                                                                                                                                                                                                                                                                                                                                                                                                                                                                                                                                                                                                                                                                                                                                                                                                                                        Kolkata, India \\nCustomer AEGON UK \\nPeriod July 2013 - September 2013 \\nDescription \\nAdviser Tracker is a new application aimed to provide a financial adviser with a quick, read only view of the customer's policy status. The details are fetched from PEGA systems through connection to SQL server. The application was built on Spring MVC framework. \\n \\nRole Analyst, Technical lead, Developer \\nResponsibilities \\n- Creating the prototype application and discussion with clients to ensure the completeness of requirement gathering. Creating Business specification document from this understanding \\n \\n- Effort estimation of the project by analyzing the project requirements \\n \\n- Preparing Technical Specification Document using Class Diagrams and Sequence Diagrams \\n \\n- Designing and developing the new application using Spring MVC framework \\n \\n- Develop the functionalities based on Technical Specification Document \\n \\n- Interaction with developers to guide them through development and unit testing, system testing and UAT phases of the project \\n \\n- Performance/stress testing of the application created \\n \\n- Preparing project handover document to be provided to production support team, for the new application created \\n \\nSolution Environment J2EE (Spring MVC v2.5.6), SQL, Rational Application Developer, Rational Clearcase, SQL Server   \n",
       "591                                                                                                                                                                                                                                                                                                                                                                                                                                                                                                                                                                                                                                                                                                                                                                                                                                                                                                                                                                                                                                                                                                                                                                                                                                                                                                                                                                                                                                                                                                                                                                                                                                                                                                                                                                                                                                                                                                                                                                                                                                                                                                                                                                                                                                                                                                              NOIDA (25 Jan 2008 - 25 December 2015) \\nServed various positions, including Technical team leader, Technical Architect and Technical Project Manager.   \n",
       "754                                                                                                                                                                                                                                                                                                                                                                                                                                                                                                                                                                                                                                                                                                                                                                                                                                                                                                                                                                                                                                       Description: This is a big telecommunication domain project and we are working to deliver best services to the Client to grow their business. The project involved the design and development of various integrations using OSB, SOA/BPEL for providing services to consumers. \\n❖ Responsibilities: \\n✓ Responsible for Integration service development using Oracle fusion Middleware 11g and 12c. \\n✓ Responsible for creating Service Design documents. \\n✓ Migrating integration services from Oracle SOA 11g to 12c. \\n✓ Exposer of Integrating with many external systems like: iCRM, Siebel CRM, FX 3.0 and FX 1.2, NMS, POSIDEX, OM systems using JMS queues, solace Queues, AQ's, MQ's, DB's, FTP, SOAP and HTTP(REST) etc. \\n✓ Worked on different adapters like DB adapter, File Adapter, FTP, Adapter, JMS Adapter. \\n✓ Created/implemented many reusable utilities to provide out of the box functionality in OSB 11g: like, Encryption/Decryption, Base conversion, Siebel session pool, DVM implementation in OSB, Excel Processing, Error Handling Frameworks etc. \\n✓ Exposer of developing and designing REST and SOAP interfaces. \\n✓ Integration testing support. \\n✓ Release notes preparation and provide production support. \\n \\n❖ Environment: Java 1.6, Eclipse 3.4, Oracle SOA, OSB (Oracle service Bus), Oracle SOA (BPEL), WebLogic Server, GIT, Jenkins, XML, XQuery, Solace Queues, JMS, SQL.   \n",
       "1262                                                                                                                                                                                                                                                                                                                                                                                                                                                                                                                                                                                                                                                                                                                                                                                                                                                                                                                                                                                                                                                                                                                                                                                                                                                                                                                                                                                                                                                                                                                                                                                                                                                                                                                                                                                                                                                                                                                                                                                                                                           • Understand project requirements with seniors. \\n• Make technical documents like wireframe, detail document, flow document. \\n• Database planning. \\n• Scrum planning and timeline preparation. \\n• Make weekly/daily plan and distribute tasks among team members. \\n• EC2 linux server setup and monitoring. \\n• Project core structure library development. \\n• Git code review. \\n• React development and training.   \n",
       "1504                                                                                                                                                                                                                                                                                                                                                                                                                                                                                                                                                                                                                                                                                                                                                                                                                                                                                                                                                                                                                                                                                                                               Worked on MVC based project under the guidance of Senior Developer. \\nLearned to write organized and Reusable code. \\n \\nㅡ \\n \\nProjects Resortapp Website / Shirish Productions \\nResort App Website was basically built to capture the customer data and it also allows the customers to rate their experience through it \\nAdmin will handle the customer details and can offer discounts through \\nEmailer based on the customer visits that has been captured through the website \\nPHP, Mailer, JavaScript, CSS, Bootstrap \\nRoles And Responsibilities: I was responsible for both Frontend and Backend Development. \\n \\nShivmandir Art Festival/ Shirish Productions \\nShivmandir Art Festival is a single web page was basically built for the customers to visit the Art festival. \\nHTML5, CSS, JavaScript \\nRoles And Responsibilities: I was responsible for User Interface Design \\nbased on UX provided. \\n \\nEmailer/Shirish Productions \\nSleepyHead emailer. \\n \\nBluebot / Shirish Productions \\nRoles And Responsibilities: I was responsible for correcting \\nresponsiveness of existing website based on the provided UX Design. \\nHTML5, CSS. \\n \\nThe Cakes Lady / Shirish Productions \\nThis site was under construction. I worked on developing one web page on this site. \\nHTML5, CSS, Bootstrap \\n \\nㅡ   \n",
       "1564                                                                                                                                                                                                                                                                                                                                                                                                                                                                                                                                                                                                                                                                                                                                                                                                                                                                                                                                                                                                                                                                                                                                                                                                                                                                                                                                                                                                                                                                                                                                                                                                                                             in SSLC model examination in Coimbatore by Kovai Aram Trust. \\nWon Second place in the Quiz competition conducted by AJK college of Arts and Science. \\nSecured Consolation prize in District level drawing competition in Varnajalam 2101 conducted by Suryan \\nFM. \\n \\nACTIVITIES \\nAttended two days workshop on PHP and MYSQL at SVS College of Engineering. \\nAttended one day workshop on Hands on Training on Deep Learning using Kerasand Theano at SVS \\nCollege of Engineering. \\nORACLE ACADEMY Course Completion on JAVA FUNDAMENTALS and JAVA PROGRAMMING. \\nParticipated in Code Book, Whirlpool, MasterKey, Protocolist, Secure Shell in Government College of Technology. \\nParticipated in Code Debugging, Technical Quiz, Treasure Hunt, Gaming in Nehru Institute of Engineering \\nAnd Technology.   \n",
       "1565                                                                                                                                                                                                                                                                                                                                                                                                                                                                                                                                                                                                                                                                                                                                                                                                                                                                                                                                                                                                                                                                                                                                                                                                                                                                                                                                                                                                                                                                                                                                                                                                                                                                                                                                                                                                                                                                                                                                                                        Period: August 2017 to January 2018 \\nRoles & Responsibilities • Complete responsibility for in-house and client website development \\nprojects. \\n• Designed Responsive Layouts with Editing images and updating the content. \\n• Designed and integrated dashboard admin template. \\n• Testing the application and redesigning the User Interface. \\n• Worked on Adobe Photoshop for designing portal layouts. \\nScripting Language: Python, CSS/HTML \\nDatabase: MySQL \\nTool: Wordpress   \n",
       "1566                                                                                                                                                                                                                                                                                                                                                                                                                                                                                                                                                                                                                                                                                                                                                                                                                                                                                                                                                                                                                                                                                                                                                                                                                                                                                                                                                                                                                                                                                                                                                                                                                                                                                                                                                                                                                                                 Domain Medical Transcription \\nTechnology SQL Server 2008, C#.NET and Ms-Word \\nProject Description \\nThis System used by medical transcription companies to distribute voice files \\nautomatically among employees, transcription and proofreading of distributed files and generating feedback and audits for transcribed documents. Includes macros developed in word and excel like gender checks, auto phrases, populating patient details and implementing validations as per the client's request for user convenience, reducing error rate and smooth transition of workflow while transcribing documents.   \n",
       "1568  Responsibilities: \\n• Involved in Analysis, Design, Development, UAT and Production phases of the application. \\n• Implemented navigation layer using Spring MVC components like dispatch servlets, controllers, view resolver components. \\n• Implemented business components as Spring Beans, configures using Dependency Injection and annotations. \\n• Designed and developed a REST-ful style Web Services layer to interface with a RPG and DB2 system. \\n• Worked on Core Java (Multi-Threading, Collections of type Generics, Templates) and used the core packages. \\n• Used JSP, HTML5,CSS,JQuery, JavaScript, JSON and Ajax to develop the UI layer of the application. \\n• Worked on ExtJS4.2.1 for user interface widgets with high performance scalable grids, trees and menus. \\n• Participated in development of a well responsive single page application using AngularJS. \\n• Developed Single-page Angular JS application with solid UI framework during my application. \\n• Developed the Persistence Layer using Hibernate 2.5 with JPA. \\n• Used Spring ORM/JDBC layers for integrating Hibernate/JPA and also for regular JDBC calls. \\n• Used Hibernate in persistence layer and developed POJO's, Data Access Object (DAO) to handle all database operations. \\n• Developed several Web Service stubs using AXIS 2.0 engine, SOAP UI, JAX-RPC, Documentliteral. \\n• Used Business Delegate, Singleton, Front Controller, Factory and DAO design patterns \\n• Implemented logger for debugging using Log4j. \\n• Utilized MongoDB database management system for keeping user generated data. \\n• Developed few stored procedures, triggers and sequences. \\n• Extensively used dynamic SQL, PL/SQL packages, Procedures and Database Triggers. \\n• Involved in onsite-offshore coordination, agile methodology includes daily SCRUM meetings,iteration, planning, etc. \\n• Involved in build and deployment of multiple modules of web based applications using Maven and Jenkins on JBoss. \\n• Involved in implementation of large scale Linux deployments. \\n• Used GIT as version management tool. \\n• Used ANT for building the EAR file. \\n \\nEnvironment: Java SE 7,8, J2EE 5, Core Java, AngularJS, JSP,JSON, CSS3, HTML5 ,jQuery, Spring MVC/ DI/ORM/JDBC, ANT, Log4J, JavaScript, ExtJS, JSF, Ajax, Mongo DB, Oracle10g, Hibernate/JPA ,JBoss, My Eclipse, Unix, CVS, Jenkins, Maven, Axis 2.0, DB2,Junit,RESTWeb Services, GIT.   \n",
       "1598                                                                                                                                                                                                                                                                                                                                                                                                                                                                                                                                                                                                                                                                                                                                                                                                                                                                                                                                                                                                                                                                                                                                                                                                                                                                                                                                                                                                                                                                                                                                                                                                                                                                                                                                                                                                                                                                                                                                                                                                                                                                                                                                                                                                                                                          12-Sep-2012 Present Senior Developer/ Business Analyst \\n \\nAwards/Recognition \\n• Hero of the Program' - 2018 \\n• Best Team award' - 2015 \\n• Applause Badge Award' -2016, 2017 \\n \\nProject Experience:   \n",
       "1603                                                                                                                                                                                                                                                                                                                                                                                                                                                                                                                                                                                                                                                                                                                                                                                                                                                                                                                                                                                                                                                                                                                                                                                                                                                                                                                                                                                                                                                                                                                                                                                                                                                                                                                                                                                                                                                                                                                                                                                                                                                                                                                                                                                                          • Taught 20+ students on the basics on JAVA, R, Python and gave hands-on demonstration. \\n• Conducted workshops, seminars to educate the people giving them basics of Hadoop and its working and the different \\ntechniques to harness the value of data.   \n",
       "1612                                                                                                                                                                                                                                                                                                                                                                                                                                                                                                                                                                                                                                                                                                                                                                                                                                                                                                                                                                                                                                                                                                                                                                                                                                                                                                                                                                                                                                                                                                                                                                                                                                                                                                                                                                                                                                                                                                                                                                                                                                                                                                                                                                                                                                                support in the HA production environment. Created and managed \\nresources profiles, restricted access with respective privileges. Mentored database storage structure like redo log files, data files, tablespaces.   \n",
       "1613                                                                                                                                                                                                                                                                                                                                                                                                           regular activity), Oracle RAC (configuration), patch installation, test code generation for NFT environment support of load runner to test system performance with high volume data using PL/SQL. \\nSpecial achievements: Generated all unit test cases for complete pl/sql application with the help of Quest Oracle code tester. \\n \\nOur client RSA is the premier provider of security solutions for business acceleration. As the chosen security partner of more than 90 percent of the Fortune 500, RSA helps the world's leading organizations succeed by solving their most complex and sensitive security challenges. Our developed product RSA Go ID Authentication Service (Go ID v2.0.0.2) is a network-based authentication service that allows users to protect their online accounts with the same proven one-time password technology that has helped secure corporate networks around the world. From world-class customer service and fulfillment to distribution and provisioning, Go ID provides the business processes required to help organizations service and protect their online users. \\n \\nResponsibilities \\n• Implementation of Oracle Wallet, database vault, TDE, CDC, Complex query tuning, over all DB performance enhancement, shell scripting, documentation & designing, planning for application compatible schema structure \\n• Major involvement for designed data ware house schema structure based on client supporting business requirement as a DBA. \\n• Implemented Data Guard \\n• Performed all aspects of database administration including installs, builds, upgrades, object sizing, object creation, backup/recovery, patches, monitoring, export/imports and SQL loader. \\n• Complex query writing \\n• Procedure writing \\n• Database stress testing \\n• Involved in the installation, maintenance and troubleshooting of RAC on VMware, Single Instance Databases and OEM. \\n• Involved in the Design of Production Database design, Backup Strategies using RMAN, and Configuring Oracle Streams.   \n",
       "1632                                                                                                                                                                                                                                                                                                                                                                                                                                                                                                                                                                                                                                                                                                                                                                                                                                                                                                                                                                                                                                                                                                                                                                                                                                                                                                                                                                                                                                                                                                                                                                                                                                                                                                                                                                                                                                                                                                                                                                                                                            Currently I am working as PHP/ Nodejs/React Technical Lead and my work responsibilities are to understand project requirements, Make Technical Documents, Scrum Planning, Daily Weekly Task Management, Database Planning, Development/staging/Production environment management, Server Management, Code Deployment, Code Review, Find glitches in developed projects and improve performance, Core structure and library development.   \n",
       "1633                                                                                                                                                                                                                                                                                                                                                                                                                                                                                                                                                                                                                                                                                                                                                                                                                                                                                                                                                                                                                                                                                                                                                                                                                                                                                                                                                                                                                                                                                                                                                                                                                                                                                                                                                                                                                                                                                                                                                                                                                                           • Understand project requirements with seniors. \\n• Make technical documents like wireframe, detail document, flow document. \\n• Database planning. \\n• Scrum planning and timeline preparation. \\n• Make weekly/daily plan and distribute tasks among team members. \\n• EC2 linux server setup and monitoring. \\n• Project core structure library development. \\n• Git code review. \\n• React development and training.   \n",
       "1654                                                                                                                                                                                                                                                                                                                                                                                                                                                                                                                                                                                                                                                                                                                                                                                                                                                                                                                                                                                                                                                                                                                                                                                                                                                                                                                                                                                                                                                                                                                                                                                                                                                                                                                                                                                                                                                                                                                                              • Technologies/Tools: AngularJS, JavaScript, HTML, Bootstrap, CSS, Java \\n• Project Synopsis: This project is combination of lots of E-learning activities, made for Oxford University students. \\nThis is developed using AngularJS for frontend and Java at backend. Course modules have backend connectivity \\nwith RESTful services. Templates have the varieties like static, video based, audio based, match the pair, drag and drop, etc. Third party plug-ins also used to make app more robust and flexible.   \n",
       "1791                                                                                                                                                                                                                                                                                                                                                                                                                                                                                                                                                                                                                                                                                                                                                                                                                                                                                                                                                                                                                                                                                                                                                                                                                                                                                                                                                                                                                                                                                                                                                                                                                                                                                                                                                                                                                                                                                                                                       To identify, which customers will make a specific transaction in the future, irrespective of the amount of money transacted. I developed an ML model to identify Santander Customer Transaction EDA and Prediction using 10 different features (MSE,RMSE , R2 score, skew and kurtosis etc.) of the cell in question and after that, I did some work on three different model, train a model and predict the target value for the test set, then prepare a submission.– Training's auc: (0.951424) and CV score:( 0.90022 ).   \n",
       "\n",
       "        labels   predict     error  \n",
       "7     4.100830  2.552578  1.548252  \n",
       "8     4.100830  2.594522  1.506308  \n",
       "21    3.637809  2.603215  1.034594  \n",
       "219   2.979291  1.718794  1.260497  \n",
       "262   2.912010  1.565183  1.346827  \n",
       "263   2.912010  1.532186  1.379824  \n",
       "445   2.708381  1.469448  1.238933  \n",
       "514   2.605642  1.455677  1.149965  \n",
       "591   2.493492  0.567435  1.926057  \n",
       "754   2.450995  1.351133  1.099862  \n",
       "1262  2.304605  1.256229  1.048376  \n",
       "1504  0.448863  2.349809  1.900947  \n",
       "1564  1.065064  2.331486  1.266421  \n",
       "1565  1.065064  2.379995  1.314931  \n",
       "1566  1.065064  2.160540  1.095476  \n",
       "1568  1.216258  2.811906  1.595648  \n",
       "1598  1.574870  2.660714  1.085844  \n",
       "1603  0.429807  1.481428  1.051621  \n",
       "1612  0.193961  2.347433  2.153472  \n",
       "1613  0.193961  2.664025  2.470064  \n",
       "1632  0.790144  1.928301  1.138157  \n",
       "1633  0.790144  1.870664  1.080520  \n",
       "1654  0.651347  1.994155  1.342808  \n",
       "1791  0.268095  1.817595  1.549500  "
      ]
     },
     "execution_count": 22,
     "metadata": {},
     "output_type": "execute_result"
    }
   ],
   "source": [
    "pd.options.display.max_colwidth = None\n",
    "print(compare_df[compare_df.error >= 1].shape)\n",
    "compare_df[compare_df.error >= 1]"
   ]
  }
 ],
 "metadata": {
  "kernelspec": {
   "display_name": "Python 3",
   "language": "python",
   "name": "python3"
  },
  "language_info": {
   "codemirror_mode": {
    "name": "ipython",
    "version": 3
   },
   "file_extension": ".py",
   "mimetype": "text/x-python",
   "name": "python",
   "nbconvert_exporter": "python",
   "pygments_lexer": "ipython3",
   "version": "3.7.8"
  }
 },
 "nbformat": 4,
 "nbformat_minor": 4
}
