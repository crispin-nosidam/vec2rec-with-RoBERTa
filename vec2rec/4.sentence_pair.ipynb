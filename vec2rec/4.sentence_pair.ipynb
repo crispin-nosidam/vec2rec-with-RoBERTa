{
 "cells": [
  {
   "cell_type": "markdown",
   "metadata": {},
   "source": [
    "# Similarity Classification Using Sentence Pair Comparison with RoBERTa\n",
    "We have generated the labelled dataset from the previous notebook create_label.ipynb.\n",
    "<br>The datasets are split into training set and the validation set and put into variables train_df and eval_df respectively.\n",
    "\n",
    "[simpletransformer](https://simpletransformers.ai/) is a wrapper to Huggingface's transformer library which helps to standardize many of the training tasks and has a nice integration with Wegihts and Bias (WandB) visualization.\n",
    "\n",
    "The task of finding the candidate from the resume is essentially [GLUE](https://gluebenchmark.com/) task [Semantic Textual Similarity Benchmark (STS-B)]\n",
    "\n",
    "In here I am using the **ClassificationModel** with _regression=**True**_ which is suitable for providing a single value, in this case the similarity of two sentences.\n",
    "\n",
    "Instead of the original BERT for the pretrained model, I chose RoBERTa which uses the same engine but a different training method and more training time.\n",
    "<br>It performs reasonably well even with a trimmed-down training/eval set to allow this runnable for the project submission.\n",
    "<br>Comparatively, the original BERT base pretrained model (bert-base-cased) has a limited pretrained vocab and left lots of tokens marked as unknown \\[UNK\\]. Instead of using the BERT large I have picked the RoBERTa base (roberta-base) instead, which has a vocab of over 50k and covered most of the words used."
   ]
  },
  {
   "cell_type": "code",
   "execution_count": 1,
   "metadata": {},
   "outputs": [],
   "source": [
    "# Read back the training and eval set we have created in create_label.ipynb.\n",
    "import pandas as pd\n",
    "suffix = \"_submit\"\n",
    "train_df = pd.read_excel(f\"D:\\\\PycharmProjects\\\\ISMT-S117-project\\\\data\\\\train_df{suffix}.xlsx\")\n",
    "eval_df = pd.read_excel(f\"D:\\\\PycharmProjects\\\\ISMT-S117-project\\\\data\\\\eval_df{suffix}.xlsx\")"
   ]
  },
  {
   "cell_type": "code",
   "execution_count": 2,
   "metadata": {},
   "outputs": [
    {
     "data": {
      "text/html": [
       "<div>\n",
       "<style scoped>\n",
       "    .dataframe tbody tr th:only-of-type {\n",
       "        vertical-align: middle;\n",
       "    }\n",
       "\n",
       "    .dataframe tbody tr th {\n",
       "        vertical-align: top;\n",
       "    }\n",
       "\n",
       "    .dataframe thead th {\n",
       "        text-align: right;\n",
       "    }\n",
       "</style>\n",
       "<table border=\"1\" class=\"dataframe\">\n",
       "  <thead>\n",
       "    <tr style=\"text-align: right;\">\n",
       "      <th></th>\n",
       "      <th>Unnamed: 0</th>\n",
       "      <th>title_job</th>\n",
       "      <th>text_a</th>\n",
       "      <th>title_res</th>\n",
       "      <th>text_b</th>\n",
       "      <th>labels</th>\n",
       "    </tr>\n",
       "  </thead>\n",
       "  <tbody>\n",
       "    <tr>\n",
       "      <th>0</th>\n",
       "      <td>0</td>\n",
       "      <td>c/ c++ software engineer</td>\n",
       "      <td>LTX Credence Armenia LLC is looking for Softwa...</td>\n",
       "      <td>c,c++ developer</td>\n",
       "      <td>Languages Known: C, C++, Data Structures, \\nJa...</td>\n",
       "      <td>4.319074</td>\n",
       "    </tr>\n",
       "    <tr>\n",
       "      <th>1</th>\n",
       "      <td>4</td>\n",
       "      <td>c/ c++ software engineer</td>\n",
       "      <td>LTX Credence Armenia LLC is looking for Softwa...</td>\n",
       "      <td>c,c++ developer</td>\n",
       "      <td>Languages Known: C, C++, Data Structures, \\nJa...</td>\n",
       "      <td>4.319074</td>\n",
       "    </tr>\n",
       "    <tr>\n",
       "      <th>2</th>\n",
       "      <td>5</td>\n",
       "      <td>c/ c++ software engineer</td>\n",
       "      <td>Dom Daniel Armenia is looking for dynamic self...</td>\n",
       "      <td>c,c++ developer</td>\n",
       "      <td>Languages Known: C, C++, Data Structures, \\nJa...</td>\n",
       "      <td>4.319074</td>\n",
       "    </tr>\n",
       "    <tr>\n",
       "      <th>3</th>\n",
       "      <td>6</td>\n",
       "      <td>c/ c++ software engineer</td>\n",
       "      <td>LTX Credence Armenia LLC is looking for Softwa...</td>\n",
       "      <td>c,c++ developer</td>\n",
       "      <td>Languages Known: C, C++, Data Structures, \\nJa...</td>\n",
       "      <td>4.319074</td>\n",
       "    </tr>\n",
       "    <tr>\n",
       "      <th>4</th>\n",
       "      <td>10</td>\n",
       "      <td>java/j2ee developer</td>\n",
       "      <td>PointSource is seeking full time J2EE Develope...</td>\n",
       "      <td>sr. java / j2ee developer</td>\n",
       "      <td>Responsibilities: \\n• Involved in Requirements...</td>\n",
       "      <td>4.280726</td>\n",
       "    </tr>\n",
       "    <tr>\n",
       "      <th>...</th>\n",
       "      <td>...</td>\n",
       "      <td>...</td>\n",
       "      <td>...</td>\n",
       "      <td>...</td>\n",
       "      <td>...</td>\n",
       "      <td>...</td>\n",
       "    </tr>\n",
       "    <tr>\n",
       "      <th>3839</th>\n",
       "      <td>7611</td>\n",
       "      <td>flash/ as3 developer</td>\n",
       "      <td>NY based social and mobile games startup is ge...</td>\n",
       "      <td>developer &amp; solution analyst</td>\n",
       "      <td>Domain Banking \\nTechnology MVC, C#.net, JQuer...</td>\n",
       "      <td>1.575380</td>\n",
       "    </tr>\n",
       "    <tr>\n",
       "      <th>3840</th>\n",
       "      <td>7613</td>\n",
       "      <td>unix systems administrator</td>\n",
       "      <td>Administration of Corporate Unix servers Plan...</td>\n",
       "      <td>senior developer/ business analyst</td>\n",
       "      <td>12-Sep-2012 Present Senior Developer/ Business...</td>\n",
       "      <td>0.273131</td>\n",
       "    </tr>\n",
       "    <tr>\n",
       "      <th>3841</th>\n",
       "      <td>7614</td>\n",
       "      <td>unix systems administrator</td>\n",
       "      <td>Administration of corporate Unix Solaris Linu...</td>\n",
       "      <td>senior developer/ business analyst</td>\n",
       "      <td>12-Sep-2012 Present Senior Developer/ Business...</td>\n",
       "      <td>0.273131</td>\n",
       "    </tr>\n",
       "    <tr>\n",
       "      <th>3842</th>\n",
       "      <td>7615</td>\n",
       "      <td>unix systems administrator</td>\n",
       "      <td>ArmenTel is seeking for candidates to fulfill ...</td>\n",
       "      <td>senior developer/ business analyst</td>\n",
       "      <td>12-Sep-2012 Present Senior Developer/ Business...</td>\n",
       "      <td>0.273131</td>\n",
       "    </tr>\n",
       "    <tr>\n",
       "      <th>3843</th>\n",
       "      <td>7616</td>\n",
       "      <td>unix systems administrator</td>\n",
       "      <td>ArmenTel is looking for candidates to fulfill ...</td>\n",
       "      <td>senior developer/ business analyst</td>\n",
       "      <td>12-Sep-2012 Present Senior Developer/ Business...</td>\n",
       "      <td>0.273131</td>\n",
       "    </tr>\n",
       "  </tbody>\n",
       "</table>\n",
       "<p>3844 rows × 6 columns</p>\n",
       "</div>"
      ],
      "text/plain": [
       "      Unnamed: 0                   title_job  \\\n",
       "0              0    c/ c++ software engineer   \n",
       "1              4    c/ c++ software engineer   \n",
       "2              5    c/ c++ software engineer   \n",
       "3              6    c/ c++ software engineer   \n",
       "4             10         java/j2ee developer   \n",
       "...          ...                         ...   \n",
       "3839        7611        flash/ as3 developer   \n",
       "3840        7613  unix systems administrator   \n",
       "3841        7614  unix systems administrator   \n",
       "3842        7615  unix systems administrator   \n",
       "3843        7616  unix systems administrator   \n",
       "\n",
       "                                                 text_a  \\\n",
       "0     LTX Credence Armenia LLC is looking for Softwa...   \n",
       "1     LTX Credence Armenia LLC is looking for Softwa...   \n",
       "2     Dom Daniel Armenia is looking for dynamic self...   \n",
       "3     LTX Credence Armenia LLC is looking for Softwa...   \n",
       "4     PointSource is seeking full time J2EE Develope...   \n",
       "...                                                 ...   \n",
       "3839  NY based social and mobile games startup is ge...   \n",
       "3840   Administration of Corporate Unix servers Plan...   \n",
       "3841   Administration of corporate Unix Solaris Linu...   \n",
       "3842  ArmenTel is seeking for candidates to fulfill ...   \n",
       "3843  ArmenTel is looking for candidates to fulfill ...   \n",
       "\n",
       "                               title_res  \\\n",
       "0                        c,c++ developer   \n",
       "1                        c,c++ developer   \n",
       "2                        c,c++ developer   \n",
       "3                        c,c++ developer   \n",
       "4              sr. java / j2ee developer   \n",
       "...                                  ...   \n",
       "3839        developer & solution analyst   \n",
       "3840  senior developer/ business analyst   \n",
       "3841  senior developer/ business analyst   \n",
       "3842  senior developer/ business analyst   \n",
       "3843  senior developer/ business analyst   \n",
       "\n",
       "                                                 text_b    labels  \n",
       "0     Languages Known: C, C++, Data Structures, \\nJa...  4.319074  \n",
       "1     Languages Known: C, C++, Data Structures, \\nJa...  4.319074  \n",
       "2     Languages Known: C, C++, Data Structures, \\nJa...  4.319074  \n",
       "3     Languages Known: C, C++, Data Structures, \\nJa...  4.319074  \n",
       "4     Responsibilities: \\n• Involved in Requirements...  4.280726  \n",
       "...                                                 ...       ...  \n",
       "3839  Domain Banking \\nTechnology MVC, C#.net, JQuer...  1.575380  \n",
       "3840  12-Sep-2012 Present Senior Developer/ Business...  0.273131  \n",
       "3841  12-Sep-2012 Present Senior Developer/ Business...  0.273131  \n",
       "3842  12-Sep-2012 Present Senior Developer/ Business...  0.273131  \n",
       "3843  12-Sep-2012 Present Senior Developer/ Business...  0.273131  \n",
       "\n",
       "[3844 rows x 6 columns]"
      ]
     },
     "execution_count": 2,
     "metadata": {},
     "output_type": "execute_result"
    }
   ],
   "source": [
    "train_df"
   ]
  },
  {
   "cell_type": "code",
   "execution_count": 3,
   "metadata": {},
   "outputs": [
    {
     "data": {
      "text/plain": [
       "(1914, 6)"
      ]
     },
     "execution_count": 3,
     "metadata": {},
     "output_type": "execute_result"
    }
   ],
   "source": [
    "eval_df.shape"
   ]
  },
  {
   "cell_type": "code",
   "execution_count": 4,
   "metadata": {},
   "outputs": [
    {
     "name": "stdout",
     "output_type": "stream",
     "text": [
      "Successfully logged in to Weights & Biases!\n"
     ]
    },
    {
     "name": "stderr",
     "output_type": "stream",
     "text": [
      "wandb: Appending key for api.wandb.ai to your netrc file: C:\\Users\\kerkermui/.netrc\n"
     ]
    },
    {
     "data": {
      "text/html": [
       "\n",
       "                Logging results to <a href=\"https://wandb.com\" target=\"_blank\">Weights & Biases</a> <a href=\"https://docs.wandb.com/integrations/jupyter.html\" target=\"_blank\">(Documentation)</a>.<br/>\n",
       "                Project page: <a href=\"https://app.wandb.ai/crispin/vec2rec-roberta\" target=\"_blank\">https://app.wandb.ai/crispin/vec2rec-roberta</a><br/>\n",
       "                Run page: <a href=\"https://app.wandb.ai/crispin/vec2rec-roberta/runs/1c109ury\" target=\"_blank\">https://app.wandb.ai/crispin/vec2rec-roberta/runs/1c109ury</a><br/>\n",
       "            "
      ],
      "text/plain": [
       "<IPython.core.display.HTML object>"
      ]
     },
     "metadata": {},
     "output_type": "display_data"
    },
    {
     "data": {
      "text/plain": [
       "W&B Run: https://app.wandb.ai/crispin/vec2rec-roberta/runs/1c109ury"
      ]
     },
     "execution_count": 4,
     "metadata": {},
     "output_type": "execute_result"
    }
   ],
   "source": [
    "!wandb login 20427a748e4feb47468643e4770a018a2152cc0c\n",
    "import wandb\n",
    "id = wandb.util.generate_id()\n",
    "wandb.init(project='vec2rec-roberta', id=id, resume=\"allow\")"
   ]
  },
  {
   "cell_type": "code",
   "execution_count": 5,
   "metadata": {},
   "outputs": [
    {
     "name": "stderr",
     "output_type": "stream",
     "text": [
      "Some weights of the model checkpoint at roberta-base were not used when initializing RobertaForSequenceClassification: ['lm_head.bias', 'lm_head.dense.weight', 'lm_head.dense.bias', 'lm_head.layer_norm.weight', 'lm_head.layer_norm.bias', 'lm_head.decoder.weight']\n",
      "- This IS expected if you are initializing RobertaForSequenceClassification from the checkpoint of a model trained on another task or with another architecture (e.g. initializing a BertForSequenceClassification model from a BertForPretraining model).\n",
      "- This IS NOT expected if you are initializing RobertaForSequenceClassification from the checkpoint of a model that you expect to be exactly identical (initializing a BertForSequenceClassification model from a BertForSequenceClassification model).\n",
      "Some weights of RobertaForSequenceClassification were not initialized from the model checkpoint at roberta-base and are newly initialized: ['classifier.dense.weight', 'classifier.dense.bias', 'classifier.out_proj.weight', 'classifier.out_proj.bias']\n",
      "You should probably TRAIN this model on a down-stream task to be able to use it for predictions and inference.\n"
     ]
    },
    {
     "data": {
      "text/plain": [
       "ClassificationArgs(adam_epsilon=1e-08, best_model_dir='outputs/best_model', cache_dir='cache_dir/', custom_layer_parameters=[], custom_parameter_groups=[], train_custom_parameters_only=False, config={}, dataloader_num_workers=6, do_lower_case=False, early_stopping_consider_epochs=True, early_stopping_delta=0.001, early_stopping_metric='eval_loss', early_stopping_metric_minimize=True, early_stopping_patience=3, encoding=None, eval_batch_size=8, evaluate_during_training=True, evaluate_during_training_silent=True, evaluate_during_training_steps=200, evaluate_during_training_verbose=False, fp16=True, fp16_opt_level='O1', gradient_accumulation_steps=1, learning_rate=4e-05, local_rank=-1, logging_steps=50, manual_seed=None, max_grad_norm=1.0, max_seq_length=512, multiprocessing_chunksize=500, n_gpu=1, no_cache=False, no_save=False, num_train_epochs=5, output_dir='outputs/', overwrite_output_dir=True, process_count=6, reprocess_input_data=True, save_best_model=True, save_eval_checkpoints=False, save_model_every_epoch=True, save_steps=False, save_optimizer_and_scheduler=True, silent=False, tensorboard_dir=None, train_batch_size=6, use_cached_eval_features=False, use_early_stopping=True, use_multiprocessing=True, wandb_kwargs={'id': '1c109ury', 'resume': True}, wandb_project='vec2rec-roberta', warmup_ratio=0.06, warmup_steps=0, weight_decay=0, labels_list=[0], labels_map={}, lazy_delimiter='\\t', lazy_labels_column=1, lazy_loading=False, lazy_loading_start_line=1, lazy_text_a_column=None, lazy_text_b_column=None, lazy_text_column=0, regression=True, sliding_window=False, stride=0.8, tie_value=1)"
      ]
     },
     "execution_count": 5,
     "metadata": {},
     "output_type": "execute_result"
    }
   ],
   "source": [
    "'''\n",
    "Initialize the model. Points of note:\n",
    "1) class ClassificationModel is selected with roberta-base as the pretrained model.\n",
    "2) It will take in evaluation data to determine / save the best model under outputs/best_model, happens every 200 steps.\n",
    "3) The model is trained on GPU. If run on Kaggle GPUs, it can achieve train_batch_size of 16. My home PC can only use 6.\n",
    "4) The max_seq_length determines the max length of the sentence pairs, based on previous statistics calculated 512 is enough.\n",
    "5) The epoch is set to 5 which is often enough for larger datasets. It will also use the evaluation data performance to\n",
    "   determine whether it can be stopped if there are no additional drops in the loss function. Given the small value of epochs\n",
    "   this is also set small to avoid it from stopping prematurely.\n",
    "6) The learning rate not shown here takes the default of 4e-5. However the model will also automatically adjust lr by default.\n",
    "7) WandB is configured to plot the progress of the training (shown below).\n",
    "'''\n",
    "from simpletransformers.classification import ClassificationModel\n",
    "train_args = {\n",
    "    'reprocess_input_data': True,\n",
    "    'evaluate_during_training': True,\n",
    "    'evaluate_during_training_steps': 200,\n",
    "    'max_seq_length': 512,\n",
    "    'num_train_epochs': 5,\n",
    "    'train_batch_size': 6,\n",
    "    #'train_batch_size': 16,\n",
    "    'wandb_project': 'vec2rec-roberta',\n",
    "    'wandb_kwargs':{\"id\":id, \"resume\":True},\n",
    "    #'no-cache':True,\n",
    "    #'no_save':True,\n",
    "    #'save_model_every_epoch':False,\n",
    "    'save_eval_checkpoints':False,\n",
    "    'save_steps':False,\n",
    "    #'best_model_dir':\"/kaggle/tmp/outputs/best_model\"\n",
    "    #'output_dir':\"/kaggle/tmp/outputs/\",\n",
    "    'overwrite_output_dir':True,\n",
    "    'use_early_stopping':True,\n",
    "    'early_stopping_delta':0.001,\n",
    "    'early_stopping_consider_epochs':True,\n",
    "    'regression': True,\n",
    "}\n",
    "model = ClassificationModel('roberta', 'roberta-base', num_labels=1, args=train_args, use_cuda=True)\n",
    "model.args"
   ]
  },
  {
   "cell_type": "code",
   "execution_count": 6,
   "metadata": {},
   "outputs": [],
   "source": [
    "# The Pearson and Spearman correlations are metrics used for STS-B\n",
    "# https://gluebenchmark.com/tasks\n",
    "from scipy.stats import pearsonr, spearmanr\n",
    "\n",
    "def pearson_corr(preds, labels):\n",
    "    return pearsonr(preds, labels)[0]\n",
    "\n",
    "def spearman_corr(preds, labels):\n",
    "    return spearmanr(preds, labels)[0]"
   ]
  },
  {
   "cell_type": "code",
   "execution_count": 7,
   "metadata": {},
   "outputs": [
    {
     "name": "stdout",
     "output_type": "stream",
     "text": [
      "2020-08-04 18:35:14.768148+08:00\n"
     ]
    }
   ],
   "source": [
    "import pytz\n",
    "from datetime import datetime\n",
    "\n",
    "print(datetime.now(pytz.timezone('Hongkong')))"
   ]
  },
  {
   "cell_type": "code",
   "execution_count": 8,
   "metadata": {
    "scrolled": false
   },
   "outputs": [
    {
     "data": {
      "text/html": [
       "<iframe src=\"https://app.wandb.ai/crispin/vec2rec-roberta/runs/1c109ury?jupyter=true&state=paused\" style=\"border:none;width:100%;height:420px\">\n",
       "                </iframe>"
      ],
      "text/plain": [
       "<wandb.jupyter.Run at 0x223008f6a88>"
      ]
     },
     "metadata": {},
     "output_type": "display_data"
    },
    {
     "data": {
      "application/vnd.jupyter.widget-view+json": {
       "model_id": "1559cff79f9f41448f16b0951930a5af",
       "version_major": 2,
       "version_minor": 0
      },
      "text/plain": [
       "HBox(children=(FloatProgress(value=0.0, max=3844.0), HTML(value='')))"
      ]
     },
     "metadata": {},
     "output_type": "display_data"
    },
    {
     "name": "stdout",
     "output_type": "stream",
     "text": [
      "\n",
      "Selected optimization level O1:  Insert automatic casts around Pytorch functions and Tensor methods.\n",
      "\n",
      "Defaults for this optimization level are:\n",
      "enabled                : True\n",
      "opt_level              : O1\n",
      "cast_model_type        : None\n",
      "patch_torch_functions  : True\n",
      "keep_batchnorm_fp32    : None\n",
      "master_weights         : None\n",
      "loss_scale             : dynamic\n",
      "Processing user overrides (additional kwargs that are not None)...\n",
      "After processing overrides, optimization options are:\n",
      "enabled                : True\n",
      "opt_level              : O1\n",
      "cast_model_type        : None\n",
      "patch_torch_functions  : True\n",
      "keep_batchnorm_fp32    : None\n",
      "master_weights         : None\n",
      "loss_scale             : dynamic\n"
     ]
    },
    {
     "data": {
      "application/vnd.jupyter.widget-view+json": {
       "model_id": "0d296f3336d64ac5a0ff6e970200bc2a",
       "version_major": 2,
       "version_minor": 0
      },
      "text/plain": [
       "HBox(children=(FloatProgress(value=0.0, description='Epoch', max=5.0, style=ProgressStyle(description_width='i…"
      ]
     },
     "metadata": {},
     "output_type": "display_data"
    },
    {
     "data": {
      "text/html": [
       "\n",
       "                Logging results to <a href=\"https://wandb.com\" target=\"_blank\">Weights & Biases</a> <a href=\"https://docs.wandb.com/integrations/jupyter.html\" target=\"_blank\">(Documentation)</a>.<br/>\n",
       "                Project page: <a href=\"https://app.wandb.ai/crispin/vec2rec-roberta\" target=\"_blank\">https://app.wandb.ai/crispin/vec2rec-roberta</a><br/>\n",
       "                Run page: <a href=\"https://app.wandb.ai/crispin/vec2rec-roberta/runs/1c109ury\" target=\"_blank\">https://app.wandb.ai/crispin/vec2rec-roberta/runs/1c109ury</a><br/>\n",
       "            "
      ],
      "text/plain": [
       "<IPython.core.display.HTML object>"
      ]
     },
     "metadata": {},
     "output_type": "display_data"
    },
    {
     "data": {
      "application/vnd.jupyter.widget-view+json": {
       "model_id": "f2406e6928ab4412a1b30ccfbf275650",
       "version_major": 2,
       "version_minor": 0
      },
      "text/plain": [
       "HBox(children=(FloatProgress(value=0.0, description='Running Epoch 0 of 5', max=641.0, style=ProgressStyle(des…"
      ]
     },
     "metadata": {},
     "output_type": "display_data"
    },
    {
     "name": "stdout",
     "output_type": "stream",
     "text": [
      "Gradient overflow.  Skipping step, loss scaler 0 reducing loss scale to 32768.0\n"
     ]
    },
    {
     "name": "stderr",
     "output_type": "stream",
     "text": [
      "D:\\ProgramData\\Anaconda3\\envs\\ISMT-S117-project\\lib\\site-packages\\torch\\optim\\lr_scheduler.py:114: UserWarning: Seems like `optimizer.step()` has been overridden after learning rate scheduler initialization. Please, make sure to call `optimizer.step()` before `lr_scheduler.step()`. See more details at https://pytorch.org/docs/stable/optim.html#how-to-adjust-learning-rate\n",
      "  \"https://pytorch.org/docs/stable/optim.html#how-to-adjust-learning-rate\", UserWarning)\n"
     ]
    },
    {
     "name": "stdout",
     "output_type": "stream",
     "text": [
      "Gradient overflow.  Skipping step, loss scaler 0 reducing loss scale to 16384.0\n",
      "Gradient overflow.  Skipping step, loss scaler 0 reducing loss scale to 8192.0\n"
     ]
    },
    {
     "name": "stderr",
     "output_type": "stream",
     "text": [
      "D:\\ProgramData\\Anaconda3\\envs\\ISMT-S117-project\\lib\\site-packages\\torch\\optim\\lr_scheduler.py:231: UserWarning: To get the last learning rate computed by the scheduler, please use `get_last_lr()`.\n",
      "  warnings.warn(\"To get the last learning rate computed by the scheduler, \"\n"
     ]
    },
    {
     "name": "stdout",
     "output_type": "stream",
     "text": [
      "Gradient overflow.  Skipping step, loss scaler 0 reducing loss scale to 4096.0\n",
      "Gradient overflow.  Skipping step, loss scaler 0 reducing loss scale to 2048.0\n"
     ]
    },
    {
     "name": "stderr",
     "output_type": "stream",
     "text": [
      "D:\\ProgramData\\Anaconda3\\envs\\ISMT-S117-project\\lib\\site-packages\\torch\\optim\\lr_scheduler.py:200: UserWarning: Please also save or load the state of the optimzer when saving or loading the scheduler.\n",
      "  warnings.warn(SAVE_STATE_WARNING, UserWarning)\n"
     ]
    },
    {
     "name": "stdout",
     "output_type": "stream",
     "text": [
      "\n"
     ]
    },
    {
     "data": {
      "application/vnd.jupyter.widget-view+json": {
       "model_id": "71143ef5095e4efca64d7138f1942cc2",
       "version_major": 2,
       "version_minor": 0
      },
      "text/plain": [
       "HBox(children=(FloatProgress(value=0.0, description='Running Epoch 1 of 5', max=641.0, style=ProgressStyle(des…"
      ]
     },
     "metadata": {},
     "output_type": "display_data"
    },
    {
     "name": "stdout",
     "output_type": "stream",
     "text": [
      "\n"
     ]
    },
    {
     "data": {
      "application/vnd.jupyter.widget-view+json": {
       "model_id": "d9931646d59944e0bf2d96844c4dff1a",
       "version_major": 2,
       "version_minor": 0
      },
      "text/plain": [
       "HBox(children=(FloatProgress(value=0.0, description='Running Epoch 2 of 5', max=641.0, style=ProgressStyle(des…"
      ]
     },
     "metadata": {},
     "output_type": "display_data"
    },
    {
     "name": "stdout",
     "output_type": "stream",
     "text": [
      "\n"
     ]
    },
    {
     "data": {
      "application/vnd.jupyter.widget-view+json": {
       "model_id": "6072ec6da52c4f06b15e314a22176b23",
       "version_major": 2,
       "version_minor": 0
      },
      "text/plain": [
       "HBox(children=(FloatProgress(value=0.0, description='Running Epoch 3 of 5', max=641.0, style=ProgressStyle(des…"
      ]
     },
     "metadata": {},
     "output_type": "display_data"
    },
    {
     "name": "stdout",
     "output_type": "stream",
     "text": [
      "\n"
     ]
    },
    {
     "data": {
      "application/vnd.jupyter.widget-view+json": {
       "model_id": "22885aca2a00430aae54393edcc48814",
       "version_major": 2,
       "version_minor": 0
      },
      "text/plain": [
       "HBox(children=(FloatProgress(value=0.0, description='Running Epoch 4 of 5', max=641.0, style=ProgressStyle(des…"
      ]
     },
     "metadata": {},
     "output_type": "display_data"
    },
    {
     "name": "stdout",
     "output_type": "stream",
     "text": [
      "\n",
      "\n",
      "Wall time: 25min 22s\n"
     ]
    }
   ],
   "source": [
    "%%time\n",
    "%%wandb\n",
    "# The model is trained and timed here with statistics shown in WandB websites displayed. The sample run took around 25 mins.\n",
    "model.train_model(train_df, eval_df=eval_df, pearson_corr=pearson_corr, spearman_corr=spearman_corr)"
   ]
  },
  {
   "cell_type": "code",
   "execution_count": 9,
   "metadata": {},
   "outputs": [
    {
     "data": {
      "application/vnd.jupyter.widget-view+json": {
       "model_id": "3a93a65a7705479aab0d370baac91431",
       "version_major": 2,
       "version_minor": 0
      },
      "text/plain": [
       "HBox(children=(FloatProgress(value=0.0, max=1914.0), HTML(value='')))"
      ]
     },
     "metadata": {},
     "output_type": "display_data"
    },
    {
     "name": "stdout",
     "output_type": "stream",
     "text": [
      "\n"
     ]
    },
    {
     "data": {
      "application/vnd.jupyter.widget-view+json": {
       "model_id": "143ae85697c4470eb0f51c609e86523f",
       "version_major": 2,
       "version_minor": 0
      },
      "text/plain": [
       "HBox(children=(FloatProgress(value=0.0, description='Running Evaluation', max=240.0, style=ProgressStyle(descr…"
      ]
     },
     "metadata": {},
     "output_type": "display_data"
    },
    {
     "name": "stdout",
     "output_type": "stream",
     "text": [
      "\n"
     ]
    }
   ],
   "source": [
    "# Get the final results on the eval dataset. Given this is not a discrete value classification, we can ignore the wrong_predictions\n",
    "result, model_outputs, wrong_predictions = model.eval_model(eval_df, pearson_corr=pearson_corr, spearman_corr=spearman_corr)"
   ]
  },
  {
   "cell_type": "code",
   "execution_count": 10,
   "metadata": {},
   "outputs": [
    {
     "data": {
      "text/plain": [
       "{'pearson_corr': 0.9720077410907735,\n",
       " 'spearman_corr': 0.9408182334139678,\n",
       " 'eval_loss': 0.03978593066065817}"
      ]
     },
     "execution_count": 10,
     "metadata": {},
     "output_type": "execute_result"
    }
   ],
   "source": [
    "# The final loss is 0.039 with both correlations higher than 94% which is quite good given the small dataset\n",
    "result"
   ]
  },
  {
   "cell_type": "code",
   "execution_count": 11,
   "metadata": {},
   "outputs": [
    {
     "name": "stdout",
     "output_type": "stream",
     "text": [
      "2020-08-04 19:01:02.996000+08:00\n"
     ]
    }
   ],
   "source": [
    "import pytz\n",
    "from datetime import datetime\n",
    "\n",
    "print(datetime.now(pytz.timezone('Hongkong')))"
   ]
  },
  {
   "cell_type": "code",
   "execution_count": 12,
   "metadata": {},
   "outputs": [
    {
     "data": {
      "text/html": [
       "<div>\n",
       "<style scoped>\n",
       "    .dataframe tbody tr th:only-of-type {\n",
       "        vertical-align: middle;\n",
       "    }\n",
       "\n",
       "    .dataframe tbody tr th {\n",
       "        vertical-align: top;\n",
       "    }\n",
       "\n",
       "    .dataframe thead th {\n",
       "        text-align: right;\n",
       "    }\n",
       "</style>\n",
       "<table border=\"1\" class=\"dataframe\">\n",
       "  <thead>\n",
       "    <tr style=\"text-align: right;\">\n",
       "      <th></th>\n",
       "      <th>0</th>\n",
       "    </tr>\n",
       "  </thead>\n",
       "  <tbody>\n",
       "    <tr>\n",
       "      <th>count</th>\n",
       "      <td>1914.000000</td>\n",
       "    </tr>\n",
       "    <tr>\n",
       "      <th>mean</th>\n",
       "      <td>2.187199</td>\n",
       "    </tr>\n",
       "    <tr>\n",
       "      <th>std</th>\n",
       "      <td>0.828061</td>\n",
       "    </tr>\n",
       "    <tr>\n",
       "      <th>min</th>\n",
       "      <td>0.138184</td>\n",
       "    </tr>\n",
       "    <tr>\n",
       "      <th>25%</th>\n",
       "      <td>2.162598</td>\n",
       "    </tr>\n",
       "    <tr>\n",
       "      <th>50%</th>\n",
       "      <td>2.386719</td>\n",
       "    </tr>\n",
       "    <tr>\n",
       "      <th>75%</th>\n",
       "      <td>2.640625</td>\n",
       "    </tr>\n",
       "    <tr>\n",
       "      <th>max</th>\n",
       "      <td>4.136719</td>\n",
       "    </tr>\n",
       "  </tbody>\n",
       "</table>\n",
       "</div>"
      ],
      "text/plain": [
       "                 0\n",
       "count  1914.000000\n",
       "mean      2.187199\n",
       "std       0.828061\n",
       "min       0.138184\n",
       "25%       2.162598\n",
       "50%       2.386719\n",
       "75%       2.640625\n",
       "max       4.136719"
      ]
     },
     "execution_count": 12,
     "metadata": {},
     "output_type": "execute_result"
    }
   ],
   "source": [
    "pd.DataFrame(model_outputs).describe()"
   ]
  },
  {
   "cell_type": "code",
   "execution_count": 13,
   "metadata": {},
   "outputs": [
    {
     "data": {
      "text/html": [
       "<div>\n",
       "<style scoped>\n",
       "    .dataframe tbody tr th:only-of-type {\n",
       "        vertical-align: middle;\n",
       "    }\n",
       "\n",
       "    .dataframe tbody tr th {\n",
       "        vertical-align: top;\n",
       "    }\n",
       "\n",
       "    .dataframe thead th {\n",
       "        text-align: right;\n",
       "    }\n",
       "</style>\n",
       "<table border=\"1\" class=\"dataframe\">\n",
       "  <thead>\n",
       "    <tr style=\"text-align: right;\">\n",
       "      <th></th>\n",
       "      <th>title_job</th>\n",
       "      <th>text_a</th>\n",
       "      <th>title_res</th>\n",
       "      <th>text_b</th>\n",
       "      <th>labels</th>\n",
       "      <th>predict</th>\n",
       "      <th>compare</th>\n",
       "    </tr>\n",
       "  </thead>\n",
       "  <tbody>\n",
       "    <tr>\n",
       "      <th>0</th>\n",
       "      <td>c/ c++ software engineer</td>\n",
       "      <td>LTX Credence Armenia LLC is looking for Softwa...</td>\n",
       "      <td>c,c++ developer</td>\n",
       "      <td>Languages Known: C, C++, Data Structures, \\nJa...</td>\n",
       "      <td>4.319074</td>\n",
       "      <td>4.136719</td>\n",
       "      <td>0.182355</td>\n",
       "    </tr>\n",
       "    <tr>\n",
       "      <th>1</th>\n",
       "      <td>c/ c++ software engineer</td>\n",
       "      <td>LTX Credence Armenia LLC is looking for Softwa...</td>\n",
       "      <td>c,c++ developer</td>\n",
       "      <td>Languages Known: C, C++, Data Structures, \\nJa...</td>\n",
       "      <td>4.319074</td>\n",
       "      <td>4.136719</td>\n",
       "      <td>0.182355</td>\n",
       "    </tr>\n",
       "    <tr>\n",
       "      <th>2</th>\n",
       "      <td>c/ c++ software engineer</td>\n",
       "      <td>LTX Credence Armenia LLC is looking for Softwa...</td>\n",
       "      <td>c++ developer</td>\n",
       "      <td>Atlanta, USA Aug 2011 - Sep 2012 \\nProject Nam...</td>\n",
       "      <td>4.108096</td>\n",
       "      <td>4.093750</td>\n",
       "      <td>0.014346</td>\n",
       "    </tr>\n",
       "    <tr>\n",
       "      <th>3</th>\n",
       "      <td>c/ c++ software engineer</td>\n",
       "      <td>LTX Credence Armenia LLC is looking for Softwa...</td>\n",
       "      <td>c++ developer</td>\n",
       "      <td>Atlanta, USA Aug 2011 - Sep 2012 \\nProject Nam...</td>\n",
       "      <td>4.108096</td>\n",
       "      <td>4.097656</td>\n",
       "      <td>0.010440</td>\n",
       "    </tr>\n",
       "    <tr>\n",
       "      <th>4</th>\n",
       "      <td>c/ c++ software engineer</td>\n",
       "      <td>Dom Daniel Armenia is looking for dynamic self...</td>\n",
       "      <td>c++ developer</td>\n",
       "      <td>Environment: CPP, Linux, JavaScript, GIT , RTC...</td>\n",
       "      <td>4.108096</td>\n",
       "      <td>4.019531</td>\n",
       "      <td>0.088565</td>\n",
       "    </tr>\n",
       "    <tr>\n",
       "      <th>...</th>\n",
       "      <td>...</td>\n",
       "      <td>...</td>\n",
       "      <td>...</td>\n",
       "      <td>...</td>\n",
       "      <td>...</td>\n",
       "      <td>...</td>\n",
       "      <td>...</td>\n",
       "    </tr>\n",
       "    <tr>\n",
       "      <th>1909</th>\n",
       "      <td>java intern</td>\n",
       "      <td>Internship opportunities are currently availab...</td>\n",
       "      <td>associate software developer</td>\n",
       "      <td>• Worked in the Feature Development of SAP Ana...</td>\n",
       "      <td>0.387010</td>\n",
       "      <td>0.370361</td>\n",
       "      <td>0.016648</td>\n",
       "    </tr>\n",
       "    <tr>\n",
       "      <th>1910</th>\n",
       "      <td>java intern</td>\n",
       "      <td>Internship opportunities are currently availab...</td>\n",
       "      <td>associate software developer</td>\n",
       "      <td>LPU UMS is a smart home grown web-based ERP (E...</td>\n",
       "      <td>0.387010</td>\n",
       "      <td>0.375732</td>\n",
       "      <td>0.011277</td>\n",
       "    </tr>\n",
       "    <tr>\n",
       "      <th>1911</th>\n",
       "      <td>java intern</td>\n",
       "      <td>Internship opportunities are currently availab...</td>\n",
       "      <td>associate software developer</td>\n",
       "      <td>• Businesses to Riders Group Project– Django +...</td>\n",
       "      <td>0.387010</td>\n",
       "      <td>0.383057</td>\n",
       "      <td>0.003953</td>\n",
       "    </tr>\n",
       "    <tr>\n",
       "      <th>1912</th>\n",
       "      <td>graphic designer / customer service operator</td>\n",
       "      <td>Time to Print salon of operative printing is l...</td>\n",
       "      <td>senior developer/ business analyst</td>\n",
       "      <td>12-Sep-2012 Present Senior Developer/ Business...</td>\n",
       "      <td>1.577018</td>\n",
       "      <td>1.166992</td>\n",
       "      <td>0.410025</td>\n",
       "    </tr>\n",
       "    <tr>\n",
       "      <th>1913</th>\n",
       "      <td>java intern</td>\n",
       "      <td>Internship opportunities are currently availab...</td>\n",
       "      <td>product development as per</td>\n",
       "      <td>Joining Date 02.08.2013 Relieving Date 06.09.2...</td>\n",
       "      <td>0.541718</td>\n",
       "      <td>0.399902</td>\n",
       "      <td>0.141816</td>\n",
       "    </tr>\n",
       "  </tbody>\n",
       "</table>\n",
       "<p>1914 rows × 7 columns</p>\n",
       "</div>"
      ],
      "text/plain": [
       "                                         title_job  \\\n",
       "0                         c/ c++ software engineer   \n",
       "1                         c/ c++ software engineer   \n",
       "2                         c/ c++ software engineer   \n",
       "3                         c/ c++ software engineer   \n",
       "4                         c/ c++ software engineer   \n",
       "...                                            ...   \n",
       "1909                                   java intern   \n",
       "1910                                   java intern   \n",
       "1911                                   java intern   \n",
       "1912  graphic designer / customer service operator   \n",
       "1913                                   java intern   \n",
       "\n",
       "                                                 text_a  \\\n",
       "0     LTX Credence Armenia LLC is looking for Softwa...   \n",
       "1     LTX Credence Armenia LLC is looking for Softwa...   \n",
       "2     LTX Credence Armenia LLC is looking for Softwa...   \n",
       "3     LTX Credence Armenia LLC is looking for Softwa...   \n",
       "4     Dom Daniel Armenia is looking for dynamic self...   \n",
       "...                                                 ...   \n",
       "1909  Internship opportunities are currently availab...   \n",
       "1910  Internship opportunities are currently availab...   \n",
       "1911  Internship opportunities are currently availab...   \n",
       "1912  Time to Print salon of operative printing is l...   \n",
       "1913  Internship opportunities are currently availab...   \n",
       "\n",
       "                               title_res  \\\n",
       "0                        c,c++ developer   \n",
       "1                        c,c++ developer   \n",
       "2                          c++ developer   \n",
       "3                          c++ developer   \n",
       "4                          c++ developer   \n",
       "...                                  ...   \n",
       "1909        associate software developer   \n",
       "1910        associate software developer   \n",
       "1911        associate software developer   \n",
       "1912  senior developer/ business analyst   \n",
       "1913          product development as per   \n",
       "\n",
       "                                                 text_b    labels   predict  \\\n",
       "0     Languages Known: C, C++, Data Structures, \\nJa...  4.319074  4.136719   \n",
       "1     Languages Known: C, C++, Data Structures, \\nJa...  4.319074  4.136719   \n",
       "2     Atlanta, USA Aug 2011 - Sep 2012 \\nProject Nam...  4.108096  4.093750   \n",
       "3     Atlanta, USA Aug 2011 - Sep 2012 \\nProject Nam...  4.108096  4.097656   \n",
       "4     Environment: CPP, Linux, JavaScript, GIT , RTC...  4.108096  4.019531   \n",
       "...                                                 ...       ...       ...   \n",
       "1909  • Worked in the Feature Development of SAP Ana...  0.387010  0.370361   \n",
       "1910  LPU UMS is a smart home grown web-based ERP (E...  0.387010  0.375732   \n",
       "1911  • Businesses to Riders Group Project– Django +...  0.387010  0.383057   \n",
       "1912  12-Sep-2012 Present Senior Developer/ Business...  1.577018  1.166992   \n",
       "1913  Joining Date 02.08.2013 Relieving Date 06.09.2...  0.541718  0.399902   \n",
       "\n",
       "       compare  \n",
       "0     0.182355  \n",
       "1     0.182355  \n",
       "2     0.014346  \n",
       "3     0.010440  \n",
       "4     0.088565  \n",
       "...        ...  \n",
       "1909  0.016648  \n",
       "1910  0.011277  \n",
       "1911  0.003953  \n",
       "1912  0.410025  \n",
       "1913  0.141816  \n",
       "\n",
       "[1914 rows x 7 columns]"
      ]
     },
     "execution_count": 13,
     "metadata": {},
     "output_type": "execute_result"
    }
   ],
   "source": [
    "# Here we calculate the per row error in the eval dataset into the compare column\n",
    "compare_df = pd.concat([eval_df.loc[:, \"title_job\":\"labels\"], pd.DataFrame(model_outputs, index=eval_df.index, columns=[\"predict\"])], axis=1)\n",
    "compare_df[\"compare\"] = abs(compare_df.labels - compare_df.predict)\n",
    "compare_df"
   ]
  },
  {
   "cell_type": "code",
   "execution_count": 14,
   "metadata": {},
   "outputs": [
    {
     "name": "stdout",
     "output_type": "stream",
     "text": [
      "0.03961561556822494\n",
      "0.0647740035493982\n"
     ]
    }
   ],
   "source": [
    "# The eval loss above is essentially the mean_squared_error, while we can also calculate the mean_absolute error\n",
    "# In this case we can see that for all of the eval set on average we have an error of 0.064 on a 5 point scale, which is not bad.\n",
    "from sklearn.metrics import mean_absolute_error, mean_squared_error\n",
    "\n",
    "print(mean_squared_error(compare_df.labels, compare_df.predict))\n",
    "print(mean_absolute_error(compare_df.labels, compare_df.predict))"
   ]
  },
  {
   "cell_type": "code",
   "execution_count": 15,
   "metadata": {},
   "outputs": [
    {
     "data": {
      "text/plain": [
       "count    1914.000000\n",
       "mean        0.064774\n",
       "std         0.188251\n",
       "min         0.000002\n",
       "25%         0.005830\n",
       "50%         0.013425\n",
       "75%         0.034553\n",
       "max         2.468148\n",
       "Name: compare, dtype: float64"
      ]
     },
     "execution_count": 15,
     "metadata": {},
     "output_type": "execute_result"
    }
   ],
   "source": [
    "compare_df.compare.describe()"
   ]
  },
  {
   "cell_type": "code",
   "execution_count": 21,
   "metadata": {},
   "outputs": [
    {
     "data": {
      "text/plain": [
       "(-1.0, 0.5]    1864\n",
       "(0.5, 1.0]       32\n",
       "(1.0, 2.0]       15\n",
       "(2.0, 3.0]        3\n",
       "(4.0, 6.0]        0\n",
       "(3.0, 4.0]        0\n",
       "Name: compare, dtype: int64"
      ]
     },
     "execution_count": 21,
     "metadata": {},
     "output_type": "execute_result"
    }
   ],
   "source": [
    "# Only 40 samples have a score error > 0.5\n",
    "pd.cut(compare_df.compare, bins=[-1,0.5,1,2,3,4,6], right=True).value_counts()"
   ]
  },
  {
   "cell_type": "code",
   "execution_count": 18,
   "metadata": {
    "scrolled": true
   },
   "outputs": [
    {
     "data": {
      "text/html": [
       "<div>\n",
       "<style scoped>\n",
       "    .dataframe tbody tr th:only-of-type {\n",
       "        vertical-align: middle;\n",
       "    }\n",
       "\n",
       "    .dataframe tbody tr th {\n",
       "        vertical-align: top;\n",
       "    }\n",
       "\n",
       "    .dataframe thead th {\n",
       "        text-align: right;\n",
       "    }\n",
       "</style>\n",
       "<table border=\"1\" class=\"dataframe\">\n",
       "  <thead>\n",
       "    <tr style=\"text-align: right;\">\n",
       "      <th></th>\n",
       "      <th>title_job</th>\n",
       "      <th>text_a</th>\n",
       "      <th>title_res</th>\n",
       "      <th>text_b</th>\n",
       "      <th>labels</th>\n",
       "      <th>predict</th>\n",
       "      <th>compare</th>\n",
       "    </tr>\n",
       "  </thead>\n",
       "  <tbody>\n",
       "    <tr>\n",
       "      <th>0</th>\n",
       "      <td>c/ c++ software engineer</td>\n",
       "      <td>LTX Credence Armenia LLC is looking for Softwa...</td>\n",
       "      <td>c,c++ developer</td>\n",
       "      <td>Languages Known: C, C++, Data Structures, \\nJa...</td>\n",
       "      <td>4.319074</td>\n",
       "      <td>4.136719</td>\n",
       "      <td>0.182355</td>\n",
       "    </tr>\n",
       "    <tr>\n",
       "      <th>1</th>\n",
       "      <td>c/ c++ software engineer</td>\n",
       "      <td>LTX Credence Armenia LLC is looking for Softwa...</td>\n",
       "      <td>c,c++ developer</td>\n",
       "      <td>Languages Known: C, C++, Data Structures, \\nJa...</td>\n",
       "      <td>4.319074</td>\n",
       "      <td>4.136719</td>\n",
       "      <td>0.182355</td>\n",
       "    </tr>\n",
       "    <tr>\n",
       "      <th>2</th>\n",
       "      <td>c/ c++ software engineer</td>\n",
       "      <td>LTX Credence Armenia LLC is looking for Softwa...</td>\n",
       "      <td>c++ developer</td>\n",
       "      <td>Atlanta, USA Aug 2011 - Sep 2012 \\nProject Nam...</td>\n",
       "      <td>4.108096</td>\n",
       "      <td>4.093750</td>\n",
       "      <td>0.014346</td>\n",
       "    </tr>\n",
       "    <tr>\n",
       "      <th>3</th>\n",
       "      <td>c/ c++ software engineer</td>\n",
       "      <td>LTX Credence Armenia LLC is looking for Softwa...</td>\n",
       "      <td>c++ developer</td>\n",
       "      <td>Atlanta, USA Aug 2011 - Sep 2012 \\nProject Nam...</td>\n",
       "      <td>4.108096</td>\n",
       "      <td>4.097656</td>\n",
       "      <td>0.010440</td>\n",
       "    </tr>\n",
       "    <tr>\n",
       "      <th>4</th>\n",
       "      <td>c/ c++ software engineer</td>\n",
       "      <td>Dom Daniel Armenia is looking for dynamic self...</td>\n",
       "      <td>c++ developer</td>\n",
       "      <td>Environment: CPP, Linux, JavaScript, GIT , RTC...</td>\n",
       "      <td>4.108096</td>\n",
       "      <td>4.019531</td>\n",
       "      <td>0.088565</td>\n",
       "    </tr>\n",
       "    <tr>\n",
       "      <th>...</th>\n",
       "      <td>...</td>\n",
       "      <td>...</td>\n",
       "      <td>...</td>\n",
       "      <td>...</td>\n",
       "      <td>...</td>\n",
       "      <td>...</td>\n",
       "      <td>...</td>\n",
       "    </tr>\n",
       "    <tr>\n",
       "      <th>1909</th>\n",
       "      <td>java intern</td>\n",
       "      <td>Internship opportunities are currently availab...</td>\n",
       "      <td>associate software developer</td>\n",
       "      <td>• Worked in the Feature Development of SAP Ana...</td>\n",
       "      <td>0.387010</td>\n",
       "      <td>0.370361</td>\n",
       "      <td>0.016648</td>\n",
       "    </tr>\n",
       "    <tr>\n",
       "      <th>1910</th>\n",
       "      <td>java intern</td>\n",
       "      <td>Internship opportunities are currently availab...</td>\n",
       "      <td>associate software developer</td>\n",
       "      <td>LPU UMS is a smart home grown web-based ERP (E...</td>\n",
       "      <td>0.387010</td>\n",
       "      <td>0.375732</td>\n",
       "      <td>0.011277</td>\n",
       "    </tr>\n",
       "    <tr>\n",
       "      <th>1911</th>\n",
       "      <td>java intern</td>\n",
       "      <td>Internship opportunities are currently availab...</td>\n",
       "      <td>associate software developer</td>\n",
       "      <td>• Businesses to Riders Group Project– Django +...</td>\n",
       "      <td>0.387010</td>\n",
       "      <td>0.383057</td>\n",
       "      <td>0.003953</td>\n",
       "    </tr>\n",
       "    <tr>\n",
       "      <th>1912</th>\n",
       "      <td>graphic designer / customer service operator</td>\n",
       "      <td>Time to Print salon of operative printing is l...</td>\n",
       "      <td>senior developer/ business analyst</td>\n",
       "      <td>12-Sep-2012 Present Senior Developer/ Business...</td>\n",
       "      <td>1.577018</td>\n",
       "      <td>1.166992</td>\n",
       "      <td>0.410025</td>\n",
       "    </tr>\n",
       "    <tr>\n",
       "      <th>1913</th>\n",
       "      <td>java intern</td>\n",
       "      <td>Internship opportunities are currently availab...</td>\n",
       "      <td>product development as per</td>\n",
       "      <td>Joining Date 02.08.2013 Relieving Date 06.09.2...</td>\n",
       "      <td>0.541718</td>\n",
       "      <td>0.399902</td>\n",
       "      <td>0.141816</td>\n",
       "    </tr>\n",
       "  </tbody>\n",
       "</table>\n",
       "<p>1864 rows × 7 columns</p>\n",
       "</div>"
      ],
      "text/plain": [
       "                                         title_job  \\\n",
       "0                         c/ c++ software engineer   \n",
       "1                         c/ c++ software engineer   \n",
       "2                         c/ c++ software engineer   \n",
       "3                         c/ c++ software engineer   \n",
       "4                         c/ c++ software engineer   \n",
       "...                                            ...   \n",
       "1909                                   java intern   \n",
       "1910                                   java intern   \n",
       "1911                                   java intern   \n",
       "1912  graphic designer / customer service operator   \n",
       "1913                                   java intern   \n",
       "\n",
       "                                                 text_a  \\\n",
       "0     LTX Credence Armenia LLC is looking for Softwa...   \n",
       "1     LTX Credence Armenia LLC is looking for Softwa...   \n",
       "2     LTX Credence Armenia LLC is looking for Softwa...   \n",
       "3     LTX Credence Armenia LLC is looking for Softwa...   \n",
       "4     Dom Daniel Armenia is looking for dynamic self...   \n",
       "...                                                 ...   \n",
       "1909  Internship opportunities are currently availab...   \n",
       "1910  Internship opportunities are currently availab...   \n",
       "1911  Internship opportunities are currently availab...   \n",
       "1912  Time to Print salon of operative printing is l...   \n",
       "1913  Internship opportunities are currently availab...   \n",
       "\n",
       "                               title_res  \\\n",
       "0                        c,c++ developer   \n",
       "1                        c,c++ developer   \n",
       "2                          c++ developer   \n",
       "3                          c++ developer   \n",
       "4                          c++ developer   \n",
       "...                                  ...   \n",
       "1909        associate software developer   \n",
       "1910        associate software developer   \n",
       "1911        associate software developer   \n",
       "1912  senior developer/ business analyst   \n",
       "1913          product development as per   \n",
       "\n",
       "                                                 text_b    labels   predict  \\\n",
       "0     Languages Known: C, C++, Data Structures, \\nJa...  4.319074  4.136719   \n",
       "1     Languages Known: C, C++, Data Structures, \\nJa...  4.319074  4.136719   \n",
       "2     Atlanta, USA Aug 2011 - Sep 2012 \\nProject Nam...  4.108096  4.093750   \n",
       "3     Atlanta, USA Aug 2011 - Sep 2012 \\nProject Nam...  4.108096  4.097656   \n",
       "4     Environment: CPP, Linux, JavaScript, GIT , RTC...  4.108096  4.019531   \n",
       "...                                                 ...       ...       ...   \n",
       "1909  • Worked in the Feature Development of SAP Ana...  0.387010  0.370361   \n",
       "1910  LPU UMS is a smart home grown web-based ERP (E...  0.387010  0.375732   \n",
       "1911  • Businesses to Riders Group Project– Django +...  0.387010  0.383057   \n",
       "1912  12-Sep-2012 Present Senior Developer/ Business...  1.577018  1.166992   \n",
       "1913  Joining Date 02.08.2013 Relieving Date 06.09.2...  0.541718  0.399902   \n",
       "\n",
       "       compare  \n",
       "0     0.182355  \n",
       "1     0.182355  \n",
       "2     0.014346  \n",
       "3     0.010440  \n",
       "4     0.088565  \n",
       "...        ...  \n",
       "1909  0.016648  \n",
       "1910  0.011277  \n",
       "1911  0.003953  \n",
       "1912  0.410025  \n",
       "1913  0.141816  \n",
       "\n",
       "[1864 rows x 7 columns]"
      ]
     },
     "execution_count": 18,
     "metadata": {},
     "output_type": "execute_result"
    }
   ],
   "source": [
    "compare_df[compare_df.compare < 0.5]"
   ]
  },
  {
   "cell_type": "code",
   "execution_count": 19,
   "metadata": {
    "scrolled": true
   },
   "outputs": [
    {
     "name": "stdout",
     "output_type": "stream",
     "text": [
      "(18, 7)\n"
     ]
    },
    {
     "data": {
      "text/html": [
       "<div>\n",
       "<style scoped>\n",
       "    .dataframe tbody tr th:only-of-type {\n",
       "        vertical-align: middle;\n",
       "    }\n",
       "\n",
       "    .dataframe tbody tr th {\n",
       "        vertical-align: top;\n",
       "    }\n",
       "\n",
       "    .dataframe thead th {\n",
       "        text-align: right;\n",
       "    }\n",
       "</style>\n",
       "<table border=\"1\" class=\"dataframe\">\n",
       "  <thead>\n",
       "    <tr style=\"text-align: right;\">\n",
       "      <th></th>\n",
       "      <th>title_job</th>\n",
       "      <th>text_a</th>\n",
       "      <th>title_res</th>\n",
       "      <th>text_b</th>\n",
       "      <th>labels</th>\n",
       "      <th>predict</th>\n",
       "      <th>compare</th>\n",
       "    </tr>\n",
       "  </thead>\n",
       "  <tbody>\n",
       "    <tr>\n",
       "      <th>7</th>\n",
       "      <td>senior software developer/ technical leader</td>\n",
       "      <td>As Senior Software Developer Technical Leader the incumbent has to lead and work with developers and participate in the design and development projects he has to work with Architecture team in the organization understand product roadmaps and assume key role in the development of these products  BS MS in Computer Science Information Services or related field Minimum of 10 year extensive development experience Experience as Technical Leader on in Linux OS with in depth knowledge of software development processes Deep technical and professional skills readiness to learn new technologies Extensive programming experience with standard management and instrumentation API Ability to work independently as well as with other members in the group preferably in leadership role Ability to write technical and functional specifications and present them to the other team members and occasionally to the management thorough understanding of software development processes and methodologies and knowledge of complete product development life cycle Strong inter personal skills ability to work both independently and as part of global team and thrive on technical challenges Excellent communication and writing skills and experience in writing product specifications and technical documentation Good communication skills in English language Enthusiastic and self motivated Good team player</td>\n",
       "      <td>technical lead, developer</td>\n",
       "      <td>for 2013 aimed at Life and Pensions products, intended to bring about changes in projection rates, to be effective from January, 2014. \\n \\nRole Technical lead, Developer \\nResponsibilities \\n- Writing Technical Specification document using Class Diagrams and Sequence Diagrams \\n \\n- Technical lead to guide developers through the development, unit and integration testing, UAT phases of the project \\n \\n- Review and upgrade of code developed by team members \\n \\n- Coordinating with onsite coordinator in project testing and project implementation phases \\n \\n- Ensuring quality of deliverables to be compliant with AEGON standard and Integrated Quality Management System standard of Tata Consultancy Services, through Internal and External Quality Assurance checks \\n \\nSolution Environment Java/J2EE (Spring framework v2.5.6), SQL, Rational Application Developer, Rational Clearcase, TOAD</td>\n",
       "      <td>4.100830</td>\n",
       "      <td>2.619141</td>\n",
       "      <td>1.481689</td>\n",
       "    </tr>\n",
       "    <tr>\n",
       "      <th>8</th>\n",
       "      <td>senior software developer/ technical leader</td>\n",
       "      <td>As Senior Software Developer Technical Leader the incumbent has to lead and work with developers and participate in the design and development projects he has to work with Architecture team in the organization understand product roadmaps and assume key role in the development of these products  BS MS in Computer Science Information Services or related field Minimum of 10 year extensive development experience Experience as Technical Leader on in Linux OS with in depth knowledge of software development processes Deep technical and professional skills readiness to learn new technologies Extensive programming experience with standard management and instrumentation API Ability to work independently as well as with other members in the group preferably in leadership role Ability to write technical and functional specifications and present them to the other team members and occasionally to the management thorough understanding of software development processes and methodologies and knowledge of complete product development life cycle Strong inter personal skills ability to work both independently and as part of global team and thrive on technical challenges Excellent communication and writing skills and experience in writing product specifications and technical documentation Good communication skills in English language Enthusiastic and self motivated Good team player</td>\n",
       "      <td>technical lead, developer</td>\n",
       "      <td>Kolkata, India \\nCustomer Grameen Phone, Bangladesh \\nPeriod December 2014 - March 2016 \\nDescription \\nGrameen Phone (GP) is a telecommunication service provider in Bangladesh. Currently, the project is carrying out various Change Requests to the existing product, to name a few - Bargen - credit control information handling, Prepaid to postpaid migration - migrating existing GP prepaid plans to postpaid plans, Report segregation based on prepaid or postpaid plan rather than generating single consolidated reports, etc. \\n \\nRole Technical Lead, Developer \\nResponsibilities \\n- Writing Technical Specification document from Requirement Specification Document, using Class Diagrams and sequence Diagrams \\n \\n- Development of the new requirements using Spring MVC framework and Spring Batch, unit and integration testing, providing support during UAT phase of the project. \\n \\n- Using Tortoise SVN for version controlling. Using Oracle as RDBMS. Using Apache Maven to build projects and create requisite jars \\n \\n- Interaction with functional and business users on a daily basis to provide and obtain project status updates and feedback, defect fixing and support during User Acceptance Testing and Regression Testing \\n \\n- Ensuring quality of deliverables to be compliant with project standards \\n \\nSolution Environment \\nJava/J2EE (Spring framework v2.5.6, Spring Batch, Add-on Application development), Apache Maven 3.2.3, SQL Developer, TOAD for Oracle 9.7, Eclipse Luna, Tortoise SVN, Oxygen XML and XSLT Developer</td>\n",
       "      <td>4.100830</td>\n",
       "      <td>2.339844</td>\n",
       "      <td>1.760986</td>\n",
       "    </tr>\n",
       "    <tr>\n",
       "      <th>21</th>\n",
       "      <td>senior software developer/ technical leader</td>\n",
       "      <td>As Senior Software Developer Technical Leader the incumbent has to lead and work with developers and participate in the design and development projects he has to work with Architecture team in the organization understand product roadmaps and assume key role in the development of these products  BS MS in Computer Science Information Services or related field Minimum of 10 year extensive development experience Experience as Technical Leader on in Linux OS with in depth knowledge of software development processes Deep technical and professional skills readiness to learn new technologies Extensive programming experience with standard management and instrumentation API Ability to work independently as well as with other members in the group preferably in leadership role Ability to write technical and functional specifications and present them to the other team members and occasionally to the management thorough understanding of software development processes and methodologies and knowledge of complete product development life cycle Strong inter personal skills ability to work both independently and as part of global team and thrive on technical challenges Excellent communication and writing skills and experience in writing product specifications and technical documentation Good communication skills in English language Enthusiastic and self motivated Good team player</td>\n",
       "      <td>technical lead (full stack developer)</td>\n",
       "      <td>Currently I am working as PHP/ Nodejs/React Technical Lead and my work responsibilities are to understand project requirements, Make Technical Documents, Scrum Planning, Daily Weekly Task Management, Database Planning, Development/staging/Production environment management, Server Management, Code Deployment, Code Review, Find glitches in developed projects and improve performance, Core structure and library development.</td>\n",
       "      <td>3.637809</td>\n",
       "      <td>2.337891</td>\n",
       "      <td>1.299918</td>\n",
       "    </tr>\n",
       "    <tr>\n",
       "      <th>219</th>\n",
       "      <td>graphic designer (web/print)</td>\n",
       "      <td>This position reports to Marketing Manager and is part of Marketing Department team Design and prepare advertsing materials for web and print including online banners magazine ads brochures booklets flyers etc Create graphic elements for web sites Design and produce branding elements such as logos promotional materials etc Written and spoken English language knowledge Minimum 23 years of experience designing and producing online and print content which may include web sites banners print advertisements Ability to hand code Knowledge of HTML CSS _javascript Software skills include but are not limited to Macromedia Dreamweaver MX Flash MX Adobe Photoshop CS Illustrator CS comfortable working on PC platform Optional skills highly desired understanding of animation for web InDesign CS or Quark Express experience with pre press Awareness of and ability to design for cross browser platform compatibility and compliance with web standards Highly self motivated conceptual thinker with strong sense of typography and graphic design Ability to work under pressure with grace and to provide quick turnaround Online portfolio preferred</td>\n",
       "      <td>ui/ux designer, front end developer &amp; graphic designer</td>\n",
       "      <td>Experience in the Following) \\n• Graphic Designing (Social Media Posting) \\n• Logo Designing. \\n• Company Branding (Brochure, Visiting Card &amp; Flayer etc) \\n• UI/UX Designer. \\nSome of the live website \\n \\nhttp://www.gabrielmotorcycles.com/ \\nwww.legendsecurity.in \\nwww.safehandsskinclinic.com \\nwww.theunspokenagreements.com \\nhttp://orgstead.com/ \\nhttp://sbam.in/ \\n \\nDesigning Portfolio \\n \\nhttps://www.behance.net/maheshshelf7d5 \\n \\nI hereby state that the particulars given above are true to the best of my knowledge and belief. \\nPlace: Pune.</td>\n",
       "      <td>2.979291</td>\n",
       "      <td>0.887207</td>\n",
       "      <td>2.092084</td>\n",
       "    </tr>\n",
       "    <tr>\n",
       "      <th>261</th>\n",
       "      <td>senior software developer/ technical leader</td>\n",
       "      <td>As Senior Software Developer Technical Leader the incumbent has to lead and work with developers and participate in the design and development projects he has to work with Architecture team in the organization understand product roadmaps and assume key role in the development of these products  BS MS in Computer Science Information Services or related field Minimum of 10 year extensive development experience Experience as Technical Leader on in Linux OS with in depth knowledge of software development processes Deep technical and professional skills readiness to learn new technologies Extensive programming experience with standard management and instrumentation API Ability to work independently as well as with other members in the group preferably in leadership role Ability to write technical and functional specifications and present them to the other team members and occasionally to the management thorough understanding of software development processes and methodologies and knowledge of complete product development life cycle Strong inter personal skills ability to work both independently and as part of global team and thrive on technical challenges Excellent communication and writing skills and experience in writing product specifications and technical documentation Good communication skills in English language Enthusiastic and self motivated Good team player</td>\n",
       "      <td>senior rpa developer</td>\n",
       "      <td>Responsibilities: - \\n \\n* Implementation of RPA bots. \\n* Responsible for gathering business requirement from Subject Matter Expert. \\n* Responsible for preparing Solution design of the process. \\n* Design, Development &amp; Deployment of Automation Anywhere bots end to end. \\n* Testing on Homologation\\Production environment. \\n* Responsible for providing support post go-live of the bots. \\n* Coding for Upgrading the bots, Change requests and issues. \\n* Providing solution for the unexpected major\\minor issue. \\n* Managing User License\\activities in Control Room. \\n* Worked on Machine Learning POC use case. \\n* Developed a prototype model on credit risk analysis using python script and ML as technology. Model is integrated with Flask web framework. \\n* Cleaning, transforming, merging, reshaping data frame and server scripting using \\nPython.</td>\n",
       "      <td>2.917724</td>\n",
       "      <td>1.785156</td>\n",
       "      <td>1.132567</td>\n",
       "    </tr>\n",
       "    <tr>\n",
       "      <th>262</th>\n",
       "      <td>technical specialist/ team leader for quality improvement</td>\n",
       "      <td>Abt Associates is seeking Technical Specialist Team Leader for Quality Improvement for USAID funded project in Armenia that aims to strengthen the Armenian health system and improve the quality of health services with particular focus on primary health care maternal and child health reproductive health family planning and tuberculosis services The Technical Specialist Team Leader will provide leadership management strategic direction and technical assistance to improve the quality of clinical services in Armenia Manage team to plan and implement quality improvement activities including Provide technical assistance to help inform and refine quality improvement strategies including introducing evidence based medicine principles clinical practice guidelines quality assurance and quality improvement strategies at national marz and health facility levels Build on and enhance achievements in facility level quality improvement and health information systems as well as work in improving family medicine training programs Provide technical assistance to develop capacity building approaches and training packages for training institutions and health care professionals Provide input to draft laws policies strategies and regulations as required Provide technical assistance to the Ministry of Health to introduce workforce planning tools and mechanisms Conduct policy dialogue with key counterparts and stakeholder organizations to jointly agree on strategies and implement activities in way that increases local ownership and sustainability Maintain excellent relationships and promote effective collaboration with health sector organizations institutions as well as donors development partners and other USAID projects Provide support to international and regional consultants providing short term technical assistance on the project Develop capacity building strategies for counterpart organizations as appropriate Providing strong technical and managerial leadership for all quality improvement component activities and supervise team of dedicated professionals including project staff and local consultants as needed Contribute to project reporting including workplans quarterly and annual progress reports and progress against Performance Management Plan MD and Master degree preferred in Public Health Health Administration Public Policy Medicine Nursing or Quality years of relevant professional experience working in quality assurance workforce optimization and preparation quality improvement quality monitoring and evaluation and training Ability to design strategies involving organizations and local governments Knowledge of technical assistance and or training capacity building to local governments Experience in contributing to programmatic and technical reports Excellent facilitation networking negotiation and coordination skills Excellent organizational skills and highly developed written oral and interpersonal communication skills Fluency in English and Armenian</td>\n",
       "      <td>technical lead, developer</td>\n",
       "      <td>for 2013 aimed at Life and Pensions products, intended to bring about changes in projection rates, to be effective from January, 2014. \\n \\nRole Technical lead, Developer \\nResponsibilities \\n- Writing Technical Specification document using Class Diagrams and Sequence Diagrams \\n \\n- Technical lead to guide developers through the development, unit and integration testing, UAT phases of the project \\n \\n- Review and upgrade of code developed by team members \\n \\n- Coordinating with onsite coordinator in project testing and project implementation phases \\n \\n- Ensuring quality of deliverables to be compliant with AEGON standard and Integrated Quality Management System standard of Tata Consultancy Services, through Internal and External Quality Assurance checks \\n \\nSolution Environment Java/J2EE (Spring framework v2.5.6), SQL, Rational Application Developer, Rational Clearcase, TOAD</td>\n",
       "      <td>2.912010</td>\n",
       "      <td>1.882812</td>\n",
       "      <td>1.029197</td>\n",
       "    </tr>\n",
       "    <tr>\n",
       "      <th>263</th>\n",
       "      <td>technical specialist/ team leader for quality improvement</td>\n",
       "      <td>Abt Associates is seeking Technical Specialist Team Leader for Quality Improvement for USAID funded project in Armenia that aims to strengthen the Armenian health system and improve the quality of health services with particular focus on NCD prevention maternal and child health reproductive health family planning emergency care and tuberculosis services The Technical Specialist Team Leader for Quality Improvement will provide leadership management strategic direction and technical assistance to improve the quality of clinical services in Armenia Manage and supervise team of dedicated professionals responsible for the implementation of quality improvement activities including provision of technical assistance to inform and refine quality improvement strategies including introduction of evidence based medicine principles clinical practice guidelines quality assurance and quality improvement strategies at national marz and health facility levels Build on and enhance achievements in facility level quality improvement and health information systems specifically tackling NCD prevention issues MCH RH emergency care etc Provide technical assistance to develop capacity building approaches and training packages for training institutions and health care professionals Provide inputs to draft laws policies strategies and regulations as required Provide technical assistance to the Ministry of Health to introduce workforce planning tools and mechanisms Maintain strong and cohesive collaboration with other teams of the project as well as international organizations MOH and other key counterparts to jointly agree on strategies and implement activities in way that increases local ownership and sustainability Maintain excellent relationships and promote effective collaboration with health sector organizations institutions as well as donors development partners and other USAID projects Develop provide overall technical guidance inputs and ongoing support in all technical deliverables pertinent to the QI QA component activities of the project per project SOW and programmatic strategies Provide technical support and leadership on planned STTAs for the QI QA component of the project including drafting SOWs maintaining communication and relevant paperwork Prepare project reports including workplans quarterly and annual progress reports and progress against Performance Management Plan MD and Master Degree preferred in Public Health Health Administration Public Policy Medicine or HealthCare Quality At least years of relevant professional experience working in quality assurance workforce optimization and preparation quality improvement quality monitoring and evaluation and health services performance improvement training Ability to design strategies involving organizations and local governments Comprehensive knowledge of technical assistance programs and or training capacity building to local governments At least years of extensive managerial experience in coordinating and leading international health programs and initiatives Experience in contributing to programmatic and technical reports Excellent leadership managerial networking negotiation and coordination skills Readiness for assuming responsibility making decisions and promoting them among stakeholders Excellent organizational and time management skills and highly developed written oral and interpersonal communication skills Fluency in English Armenian languages knowledge of Russian is desirable</td>\n",
       "      <td>technical lead, developer</td>\n",
       "      <td>for 2013 aimed at Life and Pensions products, intended to bring about changes in projection rates, to be effective from January, 2014. \\n \\nRole Technical lead, Developer \\nResponsibilities \\n- Writing Technical Specification document using Class Diagrams and Sequence Diagrams \\n \\n- Technical lead to guide developers through the development, unit and integration testing, UAT phases of the project \\n \\n- Review and upgrade of code developed by team members \\n \\n- Coordinating with onsite coordinator in project testing and project implementation phases \\n \\n- Ensuring quality of deliverables to be compliant with AEGON standard and Integrated Quality Management System standard of Tata Consultancy Services, through Internal and External Quality Assurance checks \\n \\nSolution Environment Java/J2EE (Spring framework v2.5.6), SQL, Rational Application Developer, Rational Clearcase, TOAD</td>\n",
       "      <td>2.912010</td>\n",
       "      <td>1.781250</td>\n",
       "      <td>1.130760</td>\n",
       "    </tr>\n",
       "    <tr>\n",
       "      <th>332</th>\n",
       "      <td>senior software developer/ technical leader</td>\n",
       "      <td>As Senior Software Developer Technical Leader the incumbent has to lead and work with developers and participate in the design and development projects he has to work with Architecture team in the organization understand product roadmaps and assume key role in the development of these products  BS MS in Computer Science Information Services or related field Minimum of 10 year extensive development experience Experience as Technical Leader on in Linux OS with in depth knowledge of software development processes Deep technical and professional skills readiness to learn new technologies Extensive programming experience with standard management and instrumentation API Ability to work independently as well as with other members in the group preferably in leadership role Ability to write technical and functional specifications and present them to the other team members and occasionally to the management thorough understanding of software development processes and methodologies and knowledge of complete product development life cycle Strong inter personal skills ability to work both independently and as part of global team and thrive on technical challenges Excellent communication and writing skills and experience in writing product specifications and technical documentation Good communication skills in English language Enthusiastic and self motivated Good team player</td>\n",
       "      <td>technical architect and technical project manager</td>\n",
       "      <td>NOIDA (25 Jan 2008 - 25 December 2015) \\nServed various positions, including Technical team leader, Technical Architect and Technical Project Manager.</td>\n",
       "      <td>2.888618</td>\n",
       "      <td>1.630859</td>\n",
       "      <td>1.257758</td>\n",
       "    </tr>\n",
       "    <tr>\n",
       "      <th>514</th>\n",
       "      <td>technical specialist/ team leader for quality improvement</td>\n",
       "      <td>Abt Associates is seeking Technical Specialist Team Leader for Quality Improvement for USAID funded project in Armenia that aims to strengthen the Armenian health system and improve the quality of health services with particular focus on primary health care maternal and child health reproductive health family planning and tuberculosis services The Technical Specialist Team Leader will provide leadership management strategic direction and technical assistance to improve the quality of clinical services in Armenia Manage team to plan and implement quality improvement activities including Provide technical assistance to help inform and refine quality improvement strategies including introducing evidence based medicine principles clinical practice guidelines quality assurance and quality improvement strategies at national marz and health facility levels Build on and enhance achievements in facility level quality improvement and health information systems as well as work in improving family medicine training programs Provide technical assistance to develop capacity building approaches and training packages for training institutions and health care professionals Provide input to draft laws policies strategies and regulations as required Provide technical assistance to the Ministry of Health to introduce workforce planning tools and mechanisms Conduct policy dialogue with key counterparts and stakeholder organizations to jointly agree on strategies and implement activities in way that increases local ownership and sustainability Maintain excellent relationships and promote effective collaboration with health sector organizations institutions as well as donors development partners and other USAID projects Provide support to international and regional consultants providing short term technical assistance on the project Develop capacity building strategies for counterpart organizations as appropriate Providing strong technical and managerial leadership for all quality improvement component activities and supervise team of dedicated professionals including project staff and local consultants as needed Contribute to project reporting including workplans quarterly and annual progress reports and progress against Performance Management Plan MD and Master degree preferred in Public Health Health Administration Public Policy Medicine Nursing or Quality years of relevant professional experience working in quality assurance workforce optimization and preparation quality improvement quality monitoring and evaluation and training Ability to design strategies involving organizations and local governments Knowledge of technical assistance and or training capacity building to local governments Experience in contributing to programmatic and technical reports Excellent facilitation networking negotiation and coordination skills Excellent organizational skills and highly developed written oral and interpersonal communication skills Fluency in English and Armenian</td>\n",
       "      <td>analyst, technical lead, developer</td>\n",
       "      <td>Kolkata, India \\nCustomer AEGON UK \\nPeriod July 2013 - September 2013 \\nDescription \\nAdviser Tracker is a new application aimed to provide a financial adviser with a quick, read only view of the customer's policy status. The details are fetched from PEGA systems through connection to SQL server. The application was built on Spring MVC framework. \\n \\nRole Analyst, Technical lead, Developer \\nResponsibilities \\n- Creating the prototype application and discussion with clients to ensure the completeness of requirement gathering. Creating Business specification document from this understanding \\n \\n- Effort estimation of the project by analyzing the project requirements \\n \\n- Preparing Technical Specification Document using Class Diagrams and Sequence Diagrams \\n \\n- Designing and developing the new application using Spring MVC framework \\n \\n- Develop the functionalities based on Technical Specification Document \\n \\n- Interaction with developers to guide them through development and unit testing, system testing and UAT phases of the project \\n \\n- Performance/stress testing of the application created \\n \\n- Preparing project handover document to be provided to production support team, for the new application created \\n \\nSolution Environment J2EE (Spring MVC v2.5.6), SQL, Rational Application Developer, Rational Clearcase, SQL Server</td>\n",
       "      <td>2.605642</td>\n",
       "      <td>1.459961</td>\n",
       "      <td>1.145681</td>\n",
       "    </tr>\n",
       "    <tr>\n",
       "      <th>591</th>\n",
       "      <td>coop tech/ precision analog hw design engineer</td>\n",
       "      <td>This is an opportunity to work closely with engineers in the analog design group whose focus is to design precision programmable Analog and RF instrumentation for LTXC semiconductor test equipment portion of time will be spent in state of the art development lab running the systems using the latest in test equipment Realize data collection and analysis using custom coded tools Write programs to collect and analyze data Debug new printed circuit boards Prototype and test new design ideas Responsible for schematic entry Characterize and verify new instrument designs Responsible for printed circuit board layout Handle the component selection for new designs 4th year university student Good knowledge of English language Knowledge of analog mixed Signal Design using the following components Discrete Standard Logic CPLD DAC ADCs Voltage Regulators and Op Amps Some hardware experience including familiarity with electronic test equipment such as DMM oscilloscopes signal generators and logic analyzers is desired Programming experience in or is plus</td>\n",
       "      <td>technical architect and technical project manager</td>\n",
       "      <td>NOIDA (25 Jan 2008 - 25 December 2015) \\nServed various positions, including Technical team leader, Technical Architect and Technical Project Manager.</td>\n",
       "      <td>2.493492</td>\n",
       "      <td>0.721191</td>\n",
       "      <td>1.772301</td>\n",
       "    </tr>\n",
       "    <tr>\n",
       "      <th>1504</th>\n",
       "      <td>angularjs developer</td>\n",
       "      <td>Develop test and maintain websites and applications in AngularJS Read understand and modify the existing code Participate in project planning Excellent knowledge of AngularJS At least years of experience with AngularJS Knowledge of HTML5 and CSS3 Knowledge of Sass Good knowledge of the English language</td>\n",
       "      <td>3 months internship + 3 months full time</td>\n",
       "      <td>Worked on MVC based project under the guidance of Senior Developer. \\nLearned to write organized and Reusable code. \\n \\nㅡ \\n \\nProjects Resortapp Website / Shirish Productions \\nResort App Website was basically built to capture the customer data and it also allows the customers to rate their experience through it \\nAdmin will handle the customer details and can offer discounts through \\nEmailer based on the customer visits that has been captured through the website \\nPHP, Mailer, JavaScript, CSS, Bootstrap \\nRoles And Responsibilities: I was responsible for both Frontend and Backend Development. \\n \\nShivmandir Art Festival/ Shirish Productions \\nShivmandir Art Festival is a single web page was basically built for the customers to visit the Art festival. \\nHTML5, CSS, JavaScript \\nRoles And Responsibilities: I was responsible for User Interface Design \\nbased on UX provided. \\n \\nEmailer/Shirish Productions \\nSleepyHead emailer. \\n \\nBluebot / Shirish Productions \\nRoles And Responsibilities: I was responsible for correcting \\nresponsiveness of existing website based on the provided UX Design. \\nHTML5, CSS. \\n \\nThe Cakes Lady / Shirish Productions \\nThis site was under construction. I worked on developing one web page on this site. \\nHTML5, CSS, Bootstrap \\n \\nㅡ</td>\n",
       "      <td>0.448863</td>\n",
       "      <td>2.269531</td>\n",
       "      <td>1.820669</td>\n",
       "    </tr>\n",
       "    <tr>\n",
       "      <th>1568</th>\n",
       "      <td>senior c++, c# developer</td>\n",
       "      <td>Smart Tech is looking for highly motivated people for the position of Senior Developer to join its software development process  years of experience in and Net Good knowledge of Net Framework Knowledge in Networking Multi Threading WCF and MSSQL Knowledge in Boost POCO DirectShow COM and Windows Media is welcomed Good English and Russian languages skills Team player</td>\n",
       "      <td>sr. java / j2ee developer</td>\n",
       "      <td>Responsibilities: \\n• Involved in Analysis, Design, Development, UAT and Production phases of the application. \\n• Implemented navigation layer using Spring MVC components like dispatch servlets, controllers, view resolver components. \\n• Implemented business components as Spring Beans, configures using Dependency Injection and annotations. \\n• Designed and developed a REST-ful style Web Services layer to interface with a RPG and DB2 system. \\n• Worked on Core Java (Multi-Threading, Collections of type Generics, Templates) and used the core packages. \\n• Used JSP, HTML5,CSS,JQuery, JavaScript, JSON and Ajax to develop the UI layer of the application. \\n• Worked on ExtJS4.2.1 for user interface widgets with high performance scalable grids, trees and menus. \\n• Participated in development of a well responsive single page application using AngularJS. \\n• Developed Single-page Angular JS application with solid UI framework during my application. \\n• Developed the Persistence Layer using Hibernate 2.5 with JPA. \\n• Used Spring ORM/JDBC layers for integrating Hibernate/JPA and also for regular JDBC calls. \\n• Used Hibernate in persistence layer and developed POJO's, Data Access Object (DAO) to handle all database operations. \\n• Developed several Web Service stubs using AXIS 2.0 engine, SOAP UI, JAX-RPC, Documentliteral. \\n• Used Business Delegate, Singleton, Front Controller, Factory and DAO design patterns \\n• Implemented logger for debugging using Log4j. \\n• Utilized MongoDB database management system for keeping user generated data. \\n• Developed few stored procedures, triggers and sequences. \\n• Extensively used dynamic SQL, PL/SQL packages, Procedures and Database Triggers. \\n• Involved in onsite-offshore coordination, agile methodology includes daily SCRUM meetings,iteration, planning, etc. \\n• Involved in build and deployment of multiple modules of web based applications using Maven and Jenkins on JBoss. \\n• Involved in implementation of large scale Linux deployments. \\n• Used GIT as version management tool. \\n• Used ANT for building the EAR file. \\n \\nEnvironment: Java SE 7,8, J2EE 5, Core Java, AngularJS, JSP,JSON, CSS3, HTML5 ,jQuery, Spring MVC/ DI/ORM/JDBC, ANT, Log4J, JavaScript, ExtJS, JSF, Ajax, Mongo DB, Oracle10g, Hibernate/JPA ,JBoss, My Eclipse, Unix, CVS, Jenkins, Maven, Axis 2.0, DB2,Junit,RESTWeb Services, GIT.</td>\n",
       "      <td>1.216258</td>\n",
       "      <td>2.281250</td>\n",
       "      <td>1.064992</td>\n",
       "    </tr>\n",
       "    <tr>\n",
       "      <th>1612</th>\n",
       "      <td>senior software developer/ technical leader</td>\n",
       "      <td>As Senior Software Developer Technical Leader the incumbent has to lead and work with developers and participate in the design and development projects he has to work with Architecture team in the organization understand product roadmaps and assume key role in the development of these products  BS MS in Computer Science Information Services or related field Minimum of 10 year extensive development experience Experience as Technical Leader on in Linux OS with in depth knowledge of software development processes Deep technical and professional skills readiness to learn new technologies Extensive programming experience with standard management and instrumentation API Ability to work independently as well as with other members in the group preferably in leadership role Ability to write technical and functional specifications and present them to the other team members and occasionally to the management thorough understanding of software development processes and methodologies and knowledge of complete product development life cycle Strong inter personal skills ability to work both independently and as part of global team and thrive on technical challenges Excellent communication and writing skills and experience in writing product specifications and technical documentation Good communication skills in English language Enthusiastic and self motivated Good team player</td>\n",
       "      <td>dba</td>\n",
       "      <td>support in the HA production environment. Created and managed \\nresources profiles, restricted access with respective privileges. Mentored database storage structure like redo log files, data files, tablespaces.</td>\n",
       "      <td>0.193961</td>\n",
       "      <td>2.662109</td>\n",
       "      <td>2.468148</td>\n",
       "    </tr>\n",
       "    <tr>\n",
       "      <th>1613</th>\n",
       "      <td>senior software developer/ technical leader</td>\n",
       "      <td>As Senior Software Developer Technical Leader the incumbent has to lead and work with developers and participate in the design and development projects he has to work with Architecture team in the organization understand product roadmaps and assume key role in the development of these products  BS MS in Computer Science Information Services or related field Minimum of 10 year extensive development experience Experience as Technical Leader on in Linux OS with in depth knowledge of software development processes Deep technical and professional skills readiness to learn new technologies Extensive programming experience with standard management and instrumentation API Ability to work independently as well as with other members in the group preferably in leadership role Ability to write technical and functional specifications and present them to the other team members and occasionally to the management thorough understanding of software development processes and methodologies and knowledge of complete product development life cycle Strong inter personal skills ability to work both independently and as part of global team and thrive on technical challenges Excellent communication and writing skills and experience in writing product specifications and technical documentation Good communication skills in English language Enthusiastic and self motivated Good team player</td>\n",
       "      <td>dba</td>\n",
       "      <td>regular activity), Oracle RAC (configuration), patch installation, test code generation for NFT environment support of load runner to test system performance with high volume data using PL/SQL. \\nSpecial achievements: Generated all unit test cases for complete pl/sql application with the help of Quest Oracle code tester. \\n \\nOur client RSA is the premier provider of security solutions for business acceleration. As the chosen security partner of more than 90 percent of the Fortune 500, RSA helps the world's leading organizations succeed by solving their most complex and sensitive security challenges. Our developed product RSA Go ID Authentication Service (Go ID v2.0.0.2) is a network-based authentication service that allows users to protect their online accounts with the same proven one-time password technology that has helped secure corporate networks around the world. From world-class customer service and fulfillment to distribution and provisioning, Go ID provides the business processes required to help organizations service and protect their online users. \\n \\nResponsibilities \\n• Implementation of Oracle Wallet, database vault, TDE, CDC, Complex query tuning, over all DB performance enhancement, shell scripting, documentation &amp; designing, planning for application compatible schema structure \\n• Major involvement for designed data ware house schema structure based on client supporting business requirement as a DBA. \\n• Implemented Data Guard \\n• Performed all aspects of database administration including installs, builds, upgrades, object sizing, object creation, backup/recovery, patches, monitoring, export/imports and SQL loader. \\n• Complex query writing \\n• Procedure writing \\n• Database stress testing \\n• Involved in the installation, maintenance and troubleshooting of RAC on VMware, Single Instance Databases and OEM. \\n• Involved in the Design of Production Database design, Backup Strategies using RMAN, and Configuring Oracle Streams.</td>\n",
       "      <td>0.193961</td>\n",
       "      <td>2.599609</td>\n",
       "      <td>2.405648</td>\n",
       "    </tr>\n",
       "    <tr>\n",
       "      <th>1632</th>\n",
       "      <td>senior database administrator/ dba (oracle)</td>\n",
       "      <td>The incumbent will be responsible for performing database maintenance technical support supporting on going application development installation and upgrades of related applications Ensure Oracle systems uninterrupted availability Be responsible for installation tuning optimizing and troubleshooting Oracle instances Be responsible for SQL Loader Imports Exports Backup and Recovery strategies monitoring and implementation Lead server and PC configuration in reference to SQL Net Prepare SQL queries and reports years of Oracle Database Administration experience years of Technical Support experience Strong proven experience in PL SQL Knowledge of tuning and troubleshooting Oracle instances Tuning and troubleshooting Oracle instances in clustered environment is big plus Ability to install Oracle on Linux UNIX Ability to write and optimize code in PL SQL Experience in configuring and maintaining highly scalable environments Strong Knowledge of Oracle Backup Recovery Methodologies and Strategies Good UNIX Administration skills Oracle Certifications in 8i or higher is big plus Knowledge of Microsoft Windows 2000 2003 is preferred Solid knowledge of networking principles Good organizational skills Excellent communication troubleshooting written and oral skills Ability to work off hours during weekends and holidays to meet deadlines Ability to ramp up quickly on new technology or new project Degree in Computer Sciences or relevant experience Proficient with the fundamentals of Oracle server from an administration perspective Proficient with Designer 2000 Enterprise Manager Developer 2000 and OAS Experience in SQL and PL SQL Windows 95 98 NT UNIX and PERL Experience in Business Objects FTP Designer 2000 Enterprise Manager Telnet SQL Navigator Developer 2000 and OAS</td>\n",
       "      <td>technical lead (full stack developer)</td>\n",
       "      <td>Currently I am working as PHP/ Nodejs/React Technical Lead and my work responsibilities are to understand project requirements, Make Technical Documents, Scrum Planning, Daily Weekly Task Management, Database Planning, Development/staging/Production environment management, Server Management, Code Deployment, Code Review, Find glitches in developed projects and improve performance, Core structure and library development.</td>\n",
       "      <td>0.790144</td>\n",
       "      <td>2.160156</td>\n",
       "      <td>1.370012</td>\n",
       "    </tr>\n",
       "    <tr>\n",
       "      <th>1633</th>\n",
       "      <td>senior database administrator/ dba (oracle)</td>\n",
       "      <td>The incumbent will be responsible for performing database maintenance technical support supporting on going application development installation and upgrades of related applications Ensure Oracle systems uninterrupted availability Be responsible for installation tuning optimizing and troubleshooting Oracle instances Be responsible for SQL Loader Imports Exports Backup and Recovery strategies monitoring and implementation Lead server and PC configuration in reference to SQL Net Prepare SQL queries and reports years of Oracle Database Administration experience years of Technical Support experience Strong proven experience in PL SQL Knowledge of tuning and troubleshooting Oracle instances Tuning and troubleshooting Oracle instances in clustered environment is big plus Ability to install Oracle on Linux UNIX Ability to write and optimize code in PL SQL Experience in configuring and maintaining highly scalable environments Strong Knowledge of Oracle Backup Recovery Methodologies and Strategies Good UNIX Administration skills Oracle Certifications in 8i or higher is big plus Knowledge of Microsoft Windows 2000 2003 is preferred Solid knowledge of networking principles Good organizational skills Excellent communication troubleshooting written and oral skills Ability to work off hours during weekends and holidays to meet deadlines Ability to ramp up quickly on new technology or new project Degree in Computer Sciences or relevant experience Proficient with the fundamentals of Oracle server from an administration perspective Proficient with Designer 2000 Enterprise Manager Developer 2000 and OAS Experience in SQL and PL SQL Windows 95 98 NT UNIX and PERL Experience in Business Objects FTP Designer 2000 Enterprise Manager Telnet SQL Navigator Developer 2000 and OAS</td>\n",
       "      <td>technical lead (full stack developer)</td>\n",
       "      <td>• Understand project requirements with seniors. \\n• Make technical documents like wireframe, detail document, flow document. \\n• Database planning. \\n• Scrum planning and timeline preparation. \\n• Make weekly/daily plan and distribute tasks among team members. \\n• EC2 linux server setup and monitoring. \\n• Project core structure library development. \\n• Git code review. \\n• React development and training.</td>\n",
       "      <td>0.790144</td>\n",
       "      <td>2.134766</td>\n",
       "      <td>1.344622</td>\n",
       "    </tr>\n",
       "    <tr>\n",
       "      <th>1654</th>\n",
       "      <td>senior database administrator/ dba (oracle)</td>\n",
       "      <td>The incumbent will be responsible for performing database maintenance technical support supporting on going application development installation and upgrades of related applications Ensure Oracle systems uninterrupted availability Be responsible for installation tuning optimizing and troubleshooting Oracle instances Be responsible for SQL Loader Imports Exports Backup and Recovery strategies monitoring and implementation Lead server and PC configuration in reference to SQL Net Prepare SQL queries and reports years of Oracle Database Administration experience years of Technical Support experience Strong proven experience in PL SQL Knowledge of tuning and troubleshooting Oracle instances Tuning and troubleshooting Oracle instances in clustered environment is big plus Ability to install Oracle on Linux UNIX Ability to write and optimize code in PL SQL Experience in configuring and maintaining highly scalable environments Strong Knowledge of Oracle Backup Recovery Methodologies and Strategies Good UNIX Administration skills Oracle Certifications in 8i or higher is big plus Knowledge of Microsoft Windows 2000 2003 is preferred Solid knowledge of networking principles Good organizational skills Excellent communication troubleshooting written and oral skills Ability to work off hours during weekends and holidays to meet deadlines Ability to ramp up quickly on new technology or new project Degree in Computer Sciences or relevant experience Proficient with the fundamentals of Oracle server from an administration perspective Proficient with Designer 2000 Enterprise Manager Developer 2000 and OAS Experience in SQL and PL SQL Windows 95 98 NT UNIX and PERL Experience in Business Objects FTP Designer 2000 Enterprise Manager Telnet SQL Navigator Developer 2000 and OAS</td>\n",
       "      <td>sr. software associate</td>\n",
       "      <td>• Technologies/Tools: AngularJS, JavaScript, HTML, Bootstrap, CSS, Java \\n• Project Synopsis: This project is combination of lots of E-learning activities, made for Oxford University students. \\nThis is developed using AngularJS for frontend and Java at backend. Course modules have backend connectivity \\nwith RESTful services. Templates have the varieties like static, video based, audio based, match the pair, drag and drop, etc. Third party plug-ins also used to make app more robust and flexible.</td>\n",
       "      <td>0.651347</td>\n",
       "      <td>2.181641</td>\n",
       "      <td>1.530294</td>\n",
       "    </tr>\n",
       "    <tr>\n",
       "      <th>1731</th>\n",
       "      <td>it technical analyst</td>\n",
       "      <td>Lycos Armenia is seeking an IT Technical Analyst to be responsible for analysis and consultancy of the company business departments to ensure highly available services which are connected to service providers and to assist the support of the IT processes during workshops Record and implement the requirements of the company business departments Technical evaluation and consultancy for the end users regarding new requirements and existing functions Quality assurance by final inspection and verification regarding bugfixes and new developments from internal and external software suppliers Support and close collaboration with our service providers concerning comprehensive tests Analysis of problems and drafting of solutions for occurring failure situations by SQL monitoring enhanced operative reporting and its documentation Continuous process optimization Experience with analysis and optimization of business processes regarding cellular phone network or at comparable services providers Ideally experience with the areas of provisioning service providing and or mobile number portability and with the principles of the IT Infrastructure Library ITIL Excellent experience with analysis and design of complex IT sceneries Very good programming and scripting skills in Perl and Java Very good skills in using SQL tools data bases Oracle Sybase Office applications and UNIX Fluency in written and spoken English language High ability to work under pressure and high motivation Creativity and team spirit Good presentation and reporting capabilities Firm appearance when dealing with our internal customers</td>\n",
       "      <td>\"sr. software developer\" with barphani</td>\n",
       "      <td>Worked on web development \"Find-Client.com\", \"sendmoney.indiapay.com\", \\n\"BookingKiya.com\", \"app.indiapay.com\" and \"https://app.srchengine.com\" shopify app projects. \\n1. Find-Client.com is like a job portal for USA. It allows customers to search companies and apply their profile to respected persons from that companies. Track reply emails &amp; Notes. \\nMessaging functionality between recruiter &amp; customers. Adding/uploading email lists (contacts) and Sending &amp; Scheduling Email Campaign functionality. \\nURL - https://www.find-client.com \\nTechnologies: Laravel Framework PHP, JavaScript, Ajax, Bootstraps. \\n2. Remittance i.e. Sendmoney.indiapay project is to send USA dollar to various countries like \\nIndia, UAE, Pakistan, China, Nepal, etc. in their respective currency. It includes various \\nfunctionalities like User registration, add &amp; Verify USA bank account, Add &amp; Verify Receiver \\nbank account, transfer money, view updated currency rates. \\nURL - https://sendmoney.indiapay.com \\nTechnologies: Laravel Framework PHP, JavaScript, Ajax, Bootstraps. \\n3. Bookingkiya.com is for online Check-Ins system to business (doctor, salon&amp; restaurants). It \\nlets you place your name on the list at your nearby Restaurant, Salon or Doctor/Dentist and Provide you an updated estimated wait time. It includes functionalities like register, search \\nbusinesses and check their respected waiting times, Check-In to particular business, Business \\nregistration, calculating waiting time, show customers waiting list to business owners, finish \\nCheck-In, maintain Check-In History. \\nURL - http://bookingkiya.com \\nTechnologies: Laravel Framework PHP, JavaScript, Ajax, Bootstraps. \\n4. Point Of Sale (POS) system i.e. www.app.indiapay.com for Merchants (shop owners) in India \\nto manage orders and payments through UPI &amp; Cash. It includes add products inventory, add \\ncustomers inventory, manage customers account bills, request customers orders payment using \\nUPI &amp; Cash payment gateway, creating Sales &amp; purchase invoices &amp; filing GST returns using \\nClear-tax API integration. \\nURL - https://app.indiapay.com \\nTechnologies: Laravel Framework PHP, JavaScript, Ajax. \\n5. Shopify App i.e. Google AdWords Optimization by SrchEngine App. It is automation \\nplatform for Google AdWords to help you automate and tweak your ads. It allows to execute all \\nGoogle Adwords scripts, integrated Google Analytics API, integrated Swydo, integrated SpyFu \\nAPI, upload shopify products to Google Merchant Center. \\nURL- https://app.srchengine.com \\nTechnologies: Laravel Framework PHP, JavaScript, Ajax, Bootstraps</td>\n",
       "      <td>0.458106</td>\n",
       "      <td>2.224609</td>\n",
       "      <td>1.766503</td>\n",
       "    </tr>\n",
       "  </tbody>\n",
       "</table>\n",
       "</div>"
      ],
      "text/plain": [
       "                                                      title_job  \\\n",
       "7                   senior software developer/ technical leader   \n",
       "8                   senior software developer/ technical leader   \n",
       "21                  senior software developer/ technical leader   \n",
       "219                                graphic designer (web/print)   \n",
       "261                 senior software developer/ technical leader   \n",
       "262   technical specialist/ team leader for quality improvement   \n",
       "263   technical specialist/ team leader for quality improvement   \n",
       "332                 senior software developer/ technical leader   \n",
       "514   technical specialist/ team leader for quality improvement   \n",
       "591              coop tech/ precision analog hw design engineer   \n",
       "1504                                        angularjs developer   \n",
       "1568                                   senior c++, c# developer   \n",
       "1612                senior software developer/ technical leader   \n",
       "1613                senior software developer/ technical leader   \n",
       "1632                senior database administrator/ dba (oracle)   \n",
       "1633                senior database administrator/ dba (oracle)   \n",
       "1654                senior database administrator/ dba (oracle)   \n",
       "1731                                       it technical analyst   \n",
       "\n",
       "                                                                                                                                                                                                                                                                                                                                                                                                                                                                                                                                                                                                                                                                                                                                                                                                                                                                                                                                                                                                                                                                                                                                                                                                                                                                                                                                                                                                                                                                                                                                                                                                                                                                                                                                                                                                                                                                                                                                                                                                                                                                                                                                                                                                                                                                                                                                                                                                                                                                                                                                                                                                                                                                                                                                                                                                                                                                                                                                                                                                                                                                                                                                                                                                                                                                                                                                                                                                                                                                                                                                                                                                                                text_a  \\\n",
       "7                                                                                                                                                                                                                                                                                                                                                                                                                                                                                                                                                                                                                                                                                                                                                                                                                                                                                                                                                                                                                                                                                                                                                                                                                                                                                                                                                                                                                                                                                                                                                                                                                                                                                                                                                                                                                                                                                                                                                                                                                                                                                                                                                                                              As Senior Software Developer Technical Leader the incumbent has to lead and work with developers and participate in the design and development projects he has to work with Architecture team in the organization understand product roadmaps and assume key role in the development of these products  BS MS in Computer Science Information Services or related field Minimum of 10 year extensive development experience Experience as Technical Leader on in Linux OS with in depth knowledge of software development processes Deep technical and professional skills readiness to learn new technologies Extensive programming experience with standard management and instrumentation API Ability to work independently as well as with other members in the group preferably in leadership role Ability to write technical and functional specifications and present them to the other team members and occasionally to the management thorough understanding of software development processes and methodologies and knowledge of complete product development life cycle Strong inter personal skills ability to work both independently and as part of global team and thrive on technical challenges Excellent communication and writing skills and experience in writing product specifications and technical documentation Good communication skills in English language Enthusiastic and self motivated Good team player   \n",
       "8                                                                                                                                                                                                                                                                                                                                                                                                                                                                                                                                                                                                                                                                                                                                                                                                                                                                                                                                                                                                                                                                                                                                                                                                                                                                                                                                                                                                                                                                                                                                                                                                                                                                                                                                                                                                                                                                                                                                                                                                                                                                                                                                                                                              As Senior Software Developer Technical Leader the incumbent has to lead and work with developers and participate in the design and development projects he has to work with Architecture team in the organization understand product roadmaps and assume key role in the development of these products  BS MS in Computer Science Information Services or related field Minimum of 10 year extensive development experience Experience as Technical Leader on in Linux OS with in depth knowledge of software development processes Deep technical and professional skills readiness to learn new technologies Extensive programming experience with standard management and instrumentation API Ability to work independently as well as with other members in the group preferably in leadership role Ability to write technical and functional specifications and present them to the other team members and occasionally to the management thorough understanding of software development processes and methodologies and knowledge of complete product development life cycle Strong inter personal skills ability to work both independently and as part of global team and thrive on technical challenges Excellent communication and writing skills and experience in writing product specifications and technical documentation Good communication skills in English language Enthusiastic and self motivated Good team player   \n",
       "21                                                                                                                                                                                                                                                                                                                                                                                                                                                                                                                                                                                                                                                                                                                                                                                                                                                                                                                                                                                                                                                                                                                                                                                                                                                                                                                                                                                                                                                                                                                                                                                                                                                                                                                                                                                                                                                                                                                                                                                                                                                                                                                                                                                             As Senior Software Developer Technical Leader the incumbent has to lead and work with developers and participate in the design and development projects he has to work with Architecture team in the organization understand product roadmaps and assume key role in the development of these products  BS MS in Computer Science Information Services or related field Minimum of 10 year extensive development experience Experience as Technical Leader on in Linux OS with in depth knowledge of software development processes Deep technical and professional skills readiness to learn new technologies Extensive programming experience with standard management and instrumentation API Ability to work independently as well as with other members in the group preferably in leadership role Ability to write technical and functional specifications and present them to the other team members and occasionally to the management thorough understanding of software development processes and methodologies and knowledge of complete product development life cycle Strong inter personal skills ability to work both independently and as part of global team and thrive on technical challenges Excellent communication and writing skills and experience in writing product specifications and technical documentation Good communication skills in English language Enthusiastic and self motivated Good team player   \n",
       "219                                                                                                                                                                                                                                                                                                                                                                                                                                                                                                                                                                                                                                                                                                                                                                                                                                                                                                                                                                                                                                                                                                                                                                                                                                                                                                                                                                                                                                                                                                                                                                                                                                                                                                                                                                                                                                                                                                                                                                                                                                                                                                                                                                                                                                                                                                                                                                                                                                                  This position reports to Marketing Manager and is part of Marketing Department team Design and prepare advertsing materials for web and print including online banners magazine ads brochures booklets flyers etc Create graphic elements for web sites Design and produce branding elements such as logos promotional materials etc Written and spoken English language knowledge Minimum 23 years of experience designing and producing online and print content which may include web sites banners print advertisements Ability to hand code Knowledge of HTML CSS _javascript Software skills include but are not limited to Macromedia Dreamweaver MX Flash MX Adobe Photoshop CS Illustrator CS comfortable working on PC platform Optional skills highly desired understanding of animation for web InDesign CS or Quark Express experience with pre press Awareness of and ability to design for cross browser platform compatibility and compliance with web standards Highly self motivated conceptual thinker with strong sense of typography and graphic design Ability to work under pressure with grace and to provide quick turnaround Online portfolio preferred   \n",
       "261                                                                                                                                                                                                                                                                                                                                                                                                                                                                                                                                                                                                                                                                                                                                                                                                                                                                                                                                                                                                                                                                                                                                                                                                                                                                                                                                                                                                                                                                                                                                                                                                                                                                                                                                                                                                                                                                                                                                                                                                                                                                                                                                                                                            As Senior Software Developer Technical Leader the incumbent has to lead and work with developers and participate in the design and development projects he has to work with Architecture team in the organization understand product roadmaps and assume key role in the development of these products  BS MS in Computer Science Information Services or related field Minimum of 10 year extensive development experience Experience as Technical Leader on in Linux OS with in depth knowledge of software development processes Deep technical and professional skills readiness to learn new technologies Extensive programming experience with standard management and instrumentation API Ability to work independently as well as with other members in the group preferably in leadership role Ability to write technical and functional specifications and present them to the other team members and occasionally to the management thorough understanding of software development processes and methodologies and knowledge of complete product development life cycle Strong inter personal skills ability to work both independently and as part of global team and thrive on technical challenges Excellent communication and writing skills and experience in writing product specifications and technical documentation Good communication skills in English language Enthusiastic and self motivated Good team player   \n",
       "262                                                                                                                                                                                                                                                                                                                                                                                                                                                                                                                    Abt Associates is seeking Technical Specialist Team Leader for Quality Improvement for USAID funded project in Armenia that aims to strengthen the Armenian health system and improve the quality of health services with particular focus on primary health care maternal and child health reproductive health family planning and tuberculosis services The Technical Specialist Team Leader will provide leadership management strategic direction and technical assistance to improve the quality of clinical services in Armenia Manage team to plan and implement quality improvement activities including Provide technical assistance to help inform and refine quality improvement strategies including introducing evidence based medicine principles clinical practice guidelines quality assurance and quality improvement strategies at national marz and health facility levels Build on and enhance achievements in facility level quality improvement and health information systems as well as work in improving family medicine training programs Provide technical assistance to develop capacity building approaches and training packages for training institutions and health care professionals Provide input to draft laws policies strategies and regulations as required Provide technical assistance to the Ministry of Health to introduce workforce planning tools and mechanisms Conduct policy dialogue with key counterparts and stakeholder organizations to jointly agree on strategies and implement activities in way that increases local ownership and sustainability Maintain excellent relationships and promote effective collaboration with health sector organizations institutions as well as donors development partners and other USAID projects Provide support to international and regional consultants providing short term technical assistance on the project Develop capacity building strategies for counterpart organizations as appropriate Providing strong technical and managerial leadership for all quality improvement component activities and supervise team of dedicated professionals including project staff and local consultants as needed Contribute to project reporting including workplans quarterly and annual progress reports and progress against Performance Management Plan MD and Master degree preferred in Public Health Health Administration Public Policy Medicine Nursing or Quality years of relevant professional experience working in quality assurance workforce optimization and preparation quality improvement quality monitoring and evaluation and training Ability to design strategies involving organizations and local governments Knowledge of technical assistance and or training capacity building to local governments Experience in contributing to programmatic and technical reports Excellent facilitation networking negotiation and coordination skills Excellent organizational skills and highly developed written oral and interpersonal communication skills Fluency in English and Armenian   \n",
       "263   Abt Associates is seeking Technical Specialist Team Leader for Quality Improvement for USAID funded project in Armenia that aims to strengthen the Armenian health system and improve the quality of health services with particular focus on NCD prevention maternal and child health reproductive health family planning emergency care and tuberculosis services The Technical Specialist Team Leader for Quality Improvement will provide leadership management strategic direction and technical assistance to improve the quality of clinical services in Armenia Manage and supervise team of dedicated professionals responsible for the implementation of quality improvement activities including provision of technical assistance to inform and refine quality improvement strategies including introduction of evidence based medicine principles clinical practice guidelines quality assurance and quality improvement strategies at national marz and health facility levels Build on and enhance achievements in facility level quality improvement and health information systems specifically tackling NCD prevention issues MCH RH emergency care etc Provide technical assistance to develop capacity building approaches and training packages for training institutions and health care professionals Provide inputs to draft laws policies strategies and regulations as required Provide technical assistance to the Ministry of Health to introduce workforce planning tools and mechanisms Maintain strong and cohesive collaboration with other teams of the project as well as international organizations MOH and other key counterparts to jointly agree on strategies and implement activities in way that increases local ownership and sustainability Maintain excellent relationships and promote effective collaboration with health sector organizations institutions as well as donors development partners and other USAID projects Develop provide overall technical guidance inputs and ongoing support in all technical deliverables pertinent to the QI QA component activities of the project per project SOW and programmatic strategies Provide technical support and leadership on planned STTAs for the QI QA component of the project including drafting SOWs maintaining communication and relevant paperwork Prepare project reports including workplans quarterly and annual progress reports and progress against Performance Management Plan MD and Master Degree preferred in Public Health Health Administration Public Policy Medicine or HealthCare Quality At least years of relevant professional experience working in quality assurance workforce optimization and preparation quality improvement quality monitoring and evaluation and health services performance improvement training Ability to design strategies involving organizations and local governments Comprehensive knowledge of technical assistance programs and or training capacity building to local governments At least years of extensive managerial experience in coordinating and leading international health programs and initiatives Experience in contributing to programmatic and technical reports Excellent leadership managerial networking negotiation and coordination skills Readiness for assuming responsibility making decisions and promoting them among stakeholders Excellent organizational and time management skills and highly developed written oral and interpersonal communication skills Fluency in English Armenian languages knowledge of Russian is desirable   \n",
       "332                                                                                                                                                                                                                                                                                                                                                                                                                                                                                                                                                                                                                                                                                                                                                                                                                                                                                                                                                                                                                                                                                                                                                                                                                                                                                                                                                                                                                                                                                                                                                                                                                                                                                                                                                                                                                                                                                                                                                                                                                                                                                                                                                                                            As Senior Software Developer Technical Leader the incumbent has to lead and work with developers and participate in the design and development projects he has to work with Architecture team in the organization understand product roadmaps and assume key role in the development of these products  BS MS in Computer Science Information Services or related field Minimum of 10 year extensive development experience Experience as Technical Leader on in Linux OS with in depth knowledge of software development processes Deep technical and professional skills readiness to learn new technologies Extensive programming experience with standard management and instrumentation API Ability to work independently as well as with other members in the group preferably in leadership role Ability to write technical and functional specifications and present them to the other team members and occasionally to the management thorough understanding of software development processes and methodologies and knowledge of complete product development life cycle Strong inter personal skills ability to work both independently and as part of global team and thrive on technical challenges Excellent communication and writing skills and experience in writing product specifications and technical documentation Good communication skills in English language Enthusiastic and self motivated Good team player   \n",
       "514                                                                                                                                                                                                                                                                                                                                                                                                                                                                                                                    Abt Associates is seeking Technical Specialist Team Leader for Quality Improvement for USAID funded project in Armenia that aims to strengthen the Armenian health system and improve the quality of health services with particular focus on primary health care maternal and child health reproductive health family planning and tuberculosis services The Technical Specialist Team Leader will provide leadership management strategic direction and technical assistance to improve the quality of clinical services in Armenia Manage team to plan and implement quality improvement activities including Provide technical assistance to help inform and refine quality improvement strategies including introducing evidence based medicine principles clinical practice guidelines quality assurance and quality improvement strategies at national marz and health facility levels Build on and enhance achievements in facility level quality improvement and health information systems as well as work in improving family medicine training programs Provide technical assistance to develop capacity building approaches and training packages for training institutions and health care professionals Provide input to draft laws policies strategies and regulations as required Provide technical assistance to the Ministry of Health to introduce workforce planning tools and mechanisms Conduct policy dialogue with key counterparts and stakeholder organizations to jointly agree on strategies and implement activities in way that increases local ownership and sustainability Maintain excellent relationships and promote effective collaboration with health sector organizations institutions as well as donors development partners and other USAID projects Provide support to international and regional consultants providing short term technical assistance on the project Develop capacity building strategies for counterpart organizations as appropriate Providing strong technical and managerial leadership for all quality improvement component activities and supervise team of dedicated professionals including project staff and local consultants as needed Contribute to project reporting including workplans quarterly and annual progress reports and progress against Performance Management Plan MD and Master degree preferred in Public Health Health Administration Public Policy Medicine Nursing or Quality years of relevant professional experience working in quality assurance workforce optimization and preparation quality improvement quality monitoring and evaluation and training Ability to design strategies involving organizations and local governments Knowledge of technical assistance and or training capacity building to local governments Experience in contributing to programmatic and technical reports Excellent facilitation networking negotiation and coordination skills Excellent organizational skills and highly developed written oral and interpersonal communication skills Fluency in English and Armenian   \n",
       "591                                                                                                                                                                                                                                                                                                                                                                                                                                                                                                                                                                                                                                                                                                                                                                                                                                                                                                                                                                                                                                                                                                                                                                                                                                                                                                                                                                                                                                                                                                                                                                                                                                                                                                                                                                                                                                                                                                                                                                                                                                                                                                                                                                                                                                                                                                                                                                                                                                                                                                                                    This is an opportunity to work closely with engineers in the analog design group whose focus is to design precision programmable Analog and RF instrumentation for LTXC semiconductor test equipment portion of time will be spent in state of the art development lab running the systems using the latest in test equipment Realize data collection and analysis using custom coded tools Write programs to collect and analyze data Debug new printed circuit boards Prototype and test new design ideas Responsible for schematic entry Characterize and verify new instrument designs Responsible for printed circuit board layout Handle the component selection for new designs 4th year university student Good knowledge of English language Knowledge of analog mixed Signal Design using the following components Discrete Standard Logic CPLD DAC ADCs Voltage Regulators and Op Amps Some hardware experience including familiarity with electronic test equipment such as DMM oscilloscopes signal generators and logic analyzers is desired Programming experience in or is plus   \n",
       "1504                                                                                                                                                                                                                                                                                                                                                                                                                                                                                                                                                                                                                                                                                                                                                                                                                                                                                                                                                                                                                                                                                                                                                                                                                                                                                                                                                                                                                                                                                                                                                                                                                                                                                                                                                                                                                                                                                                                                                                                                                                                                                                                                                                                                                                                                                                                                                                                                                                                                                                                                                                                                                                                                                                                                                                                                                                                                                                                                                                                                                                                                                                                                                                                                                                                                                                                   Develop test and maintain websites and applications in AngularJS Read understand and modify the existing code Participate in project planning Excellent knowledge of AngularJS At least years of experience with AngularJS Knowledge of HTML5 and CSS3 Knowledge of Sass Good knowledge of the English language   \n",
       "1568                                                                                                                                                                                                                                                                                                                                                                                                                                                                                                                                                                                                                                                                                                                                                                                                                                                                                                                                                                                                                                                                                                                                                                                                                                                                                                                                                                                                                                                                                                                                                                                                                                                                                                                                                                                                                                                                                                                                                                                                                                                                                                                                                                                                                                                                                                                                                                                                                                                                                                                                                                                                                                                                                                                                                                                                                                                                                                                                                                                                                                                                                                                                                                                                                                                  Smart Tech is looking for highly motivated people for the position of Senior Developer to join its software development process  years of experience in and Net Good knowledge of Net Framework Knowledge in Networking Multi Threading WCF and MSSQL Knowledge in Boost POCO DirectShow COM and Windows Media is welcomed Good English and Russian languages skills Team player   \n",
       "1612                                                                                                                                                                                                                                                                                                                                                                                                                                                                                                                                                                                                                                                                                                                                                                                                                                                                                                                                                                                                                                                                                                                                                                                                                                                                                                                                                                                                                                                                                                                                                                                                                                                                                                                                                                                                                                                                                                                                                                                                                                                                                                                                                                                           As Senior Software Developer Technical Leader the incumbent has to lead and work with developers and participate in the design and development projects he has to work with Architecture team in the organization understand product roadmaps and assume key role in the development of these products  BS MS in Computer Science Information Services or related field Minimum of 10 year extensive development experience Experience as Technical Leader on in Linux OS with in depth knowledge of software development processes Deep technical and professional skills readiness to learn new technologies Extensive programming experience with standard management and instrumentation API Ability to work independently as well as with other members in the group preferably in leadership role Ability to write technical and functional specifications and present them to the other team members and occasionally to the management thorough understanding of software development processes and methodologies and knowledge of complete product development life cycle Strong inter personal skills ability to work both independently and as part of global team and thrive on technical challenges Excellent communication and writing skills and experience in writing product specifications and technical documentation Good communication skills in English language Enthusiastic and self motivated Good team player   \n",
       "1613                                                                                                                                                                                                                                                                                                                                                                                                                                                                                                                                                                                                                                                                                                                                                                                                                                                                                                                                                                                                                                                                                                                                                                                                                                                                                                                                                                                                                                                                                                                                                                                                                                                                                                                                                                                                                                                                                                                                                                                                                                                                                                                                                                                           As Senior Software Developer Technical Leader the incumbent has to lead and work with developers and participate in the design and development projects he has to work with Architecture team in the organization understand product roadmaps and assume key role in the development of these products  BS MS in Computer Science Information Services or related field Minimum of 10 year extensive development experience Experience as Technical Leader on in Linux OS with in depth knowledge of software development processes Deep technical and professional skills readiness to learn new technologies Extensive programming experience with standard management and instrumentation API Ability to work independently as well as with other members in the group preferably in leadership role Ability to write technical and functional specifications and present them to the other team members and occasionally to the management thorough understanding of software development processes and methodologies and knowledge of complete product development life cycle Strong inter personal skills ability to work both independently and as part of global team and thrive on technical challenges Excellent communication and writing skills and experience in writing product specifications and technical documentation Good communication skills in English language Enthusiastic and self motivated Good team player   \n",
       "1632                                                                                                                                                                                                                                                                                                                                                                                                                                                                                                                                                                                                                                                                                                                                                                                                                                                                                                                                                                                                                                                                                                                                                                                                                                                                                                                                                                                                                                                                                                                                                                                                                                                                                                                                                                          The incumbent will be responsible for performing database maintenance technical support supporting on going application development installation and upgrades of related applications Ensure Oracle systems uninterrupted availability Be responsible for installation tuning optimizing and troubleshooting Oracle instances Be responsible for SQL Loader Imports Exports Backup and Recovery strategies monitoring and implementation Lead server and PC configuration in reference to SQL Net Prepare SQL queries and reports years of Oracle Database Administration experience years of Technical Support experience Strong proven experience in PL SQL Knowledge of tuning and troubleshooting Oracle instances Tuning and troubleshooting Oracle instances in clustered environment is big plus Ability to install Oracle on Linux UNIX Ability to write and optimize code in PL SQL Experience in configuring and maintaining highly scalable environments Strong Knowledge of Oracle Backup Recovery Methodologies and Strategies Good UNIX Administration skills Oracle Certifications in 8i or higher is big plus Knowledge of Microsoft Windows 2000 2003 is preferred Solid knowledge of networking principles Good organizational skills Excellent communication troubleshooting written and oral skills Ability to work off hours during weekends and holidays to meet deadlines Ability to ramp up quickly on new technology or new project Degree in Computer Sciences or relevant experience Proficient with the fundamentals of Oracle server from an administration perspective Proficient with Designer 2000 Enterprise Manager Developer 2000 and OAS Experience in SQL and PL SQL Windows 95 98 NT UNIX and PERL Experience in Business Objects FTP Designer 2000 Enterprise Manager Telnet SQL Navigator Developer 2000 and OAS   \n",
       "1633                                                                                                                                                                                                                                                                                                                                                                                                                                                                                                                                                                                                                                                                                                                                                                                                                                                                                                                                                                                                                                                                                                                                                                                                                                                                                                                                                                                                                                                                                                                                                                                                                                                                                                                                                                          The incumbent will be responsible for performing database maintenance technical support supporting on going application development installation and upgrades of related applications Ensure Oracle systems uninterrupted availability Be responsible for installation tuning optimizing and troubleshooting Oracle instances Be responsible for SQL Loader Imports Exports Backup and Recovery strategies monitoring and implementation Lead server and PC configuration in reference to SQL Net Prepare SQL queries and reports years of Oracle Database Administration experience years of Technical Support experience Strong proven experience in PL SQL Knowledge of tuning and troubleshooting Oracle instances Tuning and troubleshooting Oracle instances in clustered environment is big plus Ability to install Oracle on Linux UNIX Ability to write and optimize code in PL SQL Experience in configuring and maintaining highly scalable environments Strong Knowledge of Oracle Backup Recovery Methodologies and Strategies Good UNIX Administration skills Oracle Certifications in 8i or higher is big plus Knowledge of Microsoft Windows 2000 2003 is preferred Solid knowledge of networking principles Good organizational skills Excellent communication troubleshooting written and oral skills Ability to work off hours during weekends and holidays to meet deadlines Ability to ramp up quickly on new technology or new project Degree in Computer Sciences or relevant experience Proficient with the fundamentals of Oracle server from an administration perspective Proficient with Designer 2000 Enterprise Manager Developer 2000 and OAS Experience in SQL and PL SQL Windows 95 98 NT UNIX and PERL Experience in Business Objects FTP Designer 2000 Enterprise Manager Telnet SQL Navigator Developer 2000 and OAS   \n",
       "1654                                                                                                                                                                                                                                                                                                                                                                                                                                                                                                                                                                                                                                                                                                                                                                                                                                                                                                                                                                                                                                                                                                                                                                                                                                                                                                                                                                                                                                                                                                                                                                                                                                                                                                                                                                          The incumbent will be responsible for performing database maintenance technical support supporting on going application development installation and upgrades of related applications Ensure Oracle systems uninterrupted availability Be responsible for installation tuning optimizing and troubleshooting Oracle instances Be responsible for SQL Loader Imports Exports Backup and Recovery strategies monitoring and implementation Lead server and PC configuration in reference to SQL Net Prepare SQL queries and reports years of Oracle Database Administration experience years of Technical Support experience Strong proven experience in PL SQL Knowledge of tuning and troubleshooting Oracle instances Tuning and troubleshooting Oracle instances in clustered environment is big plus Ability to install Oracle on Linux UNIX Ability to write and optimize code in PL SQL Experience in configuring and maintaining highly scalable environments Strong Knowledge of Oracle Backup Recovery Methodologies and Strategies Good UNIX Administration skills Oracle Certifications in 8i or higher is big plus Knowledge of Microsoft Windows 2000 2003 is preferred Solid knowledge of networking principles Good organizational skills Excellent communication troubleshooting written and oral skills Ability to work off hours during weekends and holidays to meet deadlines Ability to ramp up quickly on new technology or new project Degree in Computer Sciences or relevant experience Proficient with the fundamentals of Oracle server from an administration perspective Proficient with Designer 2000 Enterprise Manager Developer 2000 and OAS Experience in SQL and PL SQL Windows 95 98 NT UNIX and PERL Experience in Business Objects FTP Designer 2000 Enterprise Manager Telnet SQL Navigator Developer 2000 and OAS   \n",
       "1731                                                                                                                                                                                                                                                                                                                                                                                                                                                                                                                                                                                                                                                                                                                                                                                                                                                                                                                                                                                                                                                                                                                                                                                                                                                                                                                                                                                                                                                                                                                                                                                                                                                                                                                                                                                                                                                                                                                                                        Lycos Armenia is seeking an IT Technical Analyst to be responsible for analysis and consultancy of the company business departments to ensure highly available services which are connected to service providers and to assist the support of the IT processes during workshops Record and implement the requirements of the company business departments Technical evaluation and consultancy for the end users regarding new requirements and existing functions Quality assurance by final inspection and verification regarding bugfixes and new developments from internal and external software suppliers Support and close collaboration with our service providers concerning comprehensive tests Analysis of problems and drafting of solutions for occurring failure situations by SQL monitoring enhanced operative reporting and its documentation Continuous process optimization Experience with analysis and optimization of business processes regarding cellular phone network or at comparable services providers Ideally experience with the areas of provisioning service providing and or mobile number portability and with the principles of the IT Infrastructure Library ITIL Excellent experience with analysis and design of complex IT sceneries Very good programming and scripting skills in Perl and Java Very good skills in using SQL tools data bases Oracle Sybase Office applications and UNIX Fluency in written and spoken English language High ability to work under pressure and high motivation Creativity and team spirit Good presentation and reporting capabilities Firm appearance when dealing with our internal customers   \n",
       "\n",
       "                                                   title_res  \\\n",
       "7                                  technical lead, developer   \n",
       "8                                  technical lead, developer   \n",
       "21                     technical lead (full stack developer)   \n",
       "219   ui/ux designer, front end developer & graphic designer   \n",
       "261                                     senior rpa developer   \n",
       "262                                technical lead, developer   \n",
       "263                                technical lead, developer   \n",
       "332        technical architect and technical project manager   \n",
       "514                       analyst, technical lead, developer   \n",
       "591        technical architect and technical project manager   \n",
       "1504                3 months internship + 3 months full time   \n",
       "1568                               sr. java / j2ee developer   \n",
       "1612                                                     dba   \n",
       "1613                                                     dba   \n",
       "1632                   technical lead (full stack developer)   \n",
       "1633                   technical lead (full stack developer)   \n",
       "1654                                  sr. software associate   \n",
       "1731                  \"sr. software developer\" with barphani   \n",
       "\n",
       "                                                                                                                                                                                                                                                                                                                                                                                                                                                                                                                                                                                                                                                                                                                                                                                                                                                                                                                                                                                                                                                                                                                                                                                                                                                                                                                                                                                                                                                                                                                                                                                                                                                                                                                                                                                                                                                                                                                                                                                                                                                                                                                                                                                                                                                                                                                                                                                                                                                                                                                                                                                                                                                                                                             text_b  \\\n",
       "7                                                                                                                                                                                                                                                                                                                                                                                                                                                                                                                                                                                                                                                                                                                                                                                                                                                                                                                                                                                                                                                                                                                                                                                                                                                                                                                                                                                                                                                                                                                                                                                                                                                                                                                                                                                     for 2013 aimed at Life and Pensions products, intended to bring about changes in projection rates, to be effective from January, 2014. \\n \\nRole Technical lead, Developer \\nResponsibilities \\n- Writing Technical Specification document using Class Diagrams and Sequence Diagrams \\n \\n- Technical lead to guide developers through the development, unit and integration testing, UAT phases of the project \\n \\n- Review and upgrade of code developed by team members \\n \\n- Coordinating with onsite coordinator in project testing and project implementation phases \\n \\n- Ensuring quality of deliverables to be compliant with AEGON standard and Integrated Quality Management System standard of Tata Consultancy Services, through Internal and External Quality Assurance checks \\n \\nSolution Environment Java/J2EE (Spring framework v2.5.6), SQL, Rational Application Developer, Rational Clearcase, TOAD   \n",
       "8                                                                                                                                                                                                                                                                                                                                                                                                                                                                                                                                                                                                                                                                                                                                                                                                                                                                                                                                                                                                                                                                                                                          Kolkata, India \\nCustomer Grameen Phone, Bangladesh \\nPeriod December 2014 - March 2016 \\nDescription \\nGrameen Phone (GP) is a telecommunication service provider in Bangladesh. Currently, the project is carrying out various Change Requests to the existing product, to name a few - Bargen - credit control information handling, Prepaid to postpaid migration - migrating existing GP prepaid plans to postpaid plans, Report segregation based on prepaid or postpaid plan rather than generating single consolidated reports, etc. \\n \\nRole Technical Lead, Developer \\nResponsibilities \\n- Writing Technical Specification document from Requirement Specification Document, using Class Diagrams and sequence Diagrams \\n \\n- Development of the new requirements using Spring MVC framework and Spring Batch, unit and integration testing, providing support during UAT phase of the project. \\n \\n- Using Tortoise SVN for version controlling. Using Oracle as RDBMS. Using Apache Maven to build projects and create requisite jars \\n \\n- Interaction with functional and business users on a daily basis to provide and obtain project status updates and feedback, defect fixing and support during User Acceptance Testing and Regression Testing \\n \\n- Ensuring quality of deliverables to be compliant with project standards \\n \\nSolution Environment \\nJava/J2EE (Spring framework v2.5.6, Spring Batch, Add-on Application development), Apache Maven 3.2.3, SQL Developer, TOAD for Oracle 9.7, Eclipse Luna, Tortoise SVN, Oxygen XML and XSLT Developer   \n",
       "21                                                                                                                                                                                                                                                                                                                                                                                                                                                                                                                                                                                                                                                                                                                                                                                                                                                                                                                                                                                                                                                                                                                                                                                                                                                                                                                                                                                                                                                                                                                                                                                                                                                                                                                                                                                                                                                                                                                                                                                                                                                                                                                                                                                                                                                                          Currently I am working as PHP/ Nodejs/React Technical Lead and my work responsibilities are to understand project requirements, Make Technical Documents, Scrum Planning, Daily Weekly Task Management, Database Planning, Development/staging/Production environment management, Server Management, Code Deployment, Code Review, Find glitches in developed projects and improve performance, Core structure and library development.   \n",
       "219                                                                                                                                                                                                                                                                                                                                                                                                                                                                                                                                                                                                                                                                                                                                                                                                                                                                                                                                                                                                                                                                                                                                                                                                                                                                                                                                                                                                                                                                                                                                                                                                                                                                                                                                                                                                                                                                                                                                                                                                                                                                                                                                       Experience in the Following) \\n• Graphic Designing (Social Media Posting) \\n• Logo Designing. \\n• Company Branding (Brochure, Visiting Card & Flayer etc) \\n• UI/UX Designer. \\nSome of the live website \\n \\nhttp://www.gabrielmotorcycles.com/ \\nwww.legendsecurity.in \\nwww.safehandsskinclinic.com \\nwww.theunspokenagreements.com \\nhttp://orgstead.com/ \\nhttp://sbam.in/ \\n \\nDesigning Portfolio \\n \\nhttps://www.behance.net/maheshshelf7d5 \\n \\nI hereby state that the particulars given above are true to the best of my knowledge and belief. \\nPlace: Pune.   \n",
       "261                                                                                                                                                                                                                                                                                                                                                                                                                                                                                                                                                                                                                                                                                                                                                                                                                                                                                                                                                                                                                                                                                                                                                                                                                                                                                                                                                                                                                                                                                                                                                                                                                                                                                                                                                                                                                              Responsibilities: - \\n \\n* Implementation of RPA bots. \\n* Responsible for gathering business requirement from Subject Matter Expert. \\n* Responsible for preparing Solution design of the process. \\n* Design, Development & Deployment of Automation Anywhere bots end to end. \\n* Testing on Homologation\\Production environment. \\n* Responsible for providing support post go-live of the bots. \\n* Coding for Upgrading the bots, Change requests and issues. \\n* Providing solution for the unexpected major\\minor issue. \\n* Managing User License\\activities in Control Room. \\n* Worked on Machine Learning POC use case. \\n* Developed a prototype model on credit risk analysis using python script and ML as technology. Model is integrated with Flask web framework. \\n* Cleaning, transforming, merging, reshaping data frame and server scripting using \\nPython.   \n",
       "262                                                                                                                                                                                                                                                                                                                                                                                                                                                                                                                                                                                                                                                                                                                                                                                                                                                                                                                                                                                                                                                                                                                                                                                                                                                                                                                                                                                                                                                                                                                                                                                                                                                                                                                                                                                   for 2013 aimed at Life and Pensions products, intended to bring about changes in projection rates, to be effective from January, 2014. \\n \\nRole Technical lead, Developer \\nResponsibilities \\n- Writing Technical Specification document using Class Diagrams and Sequence Diagrams \\n \\n- Technical lead to guide developers through the development, unit and integration testing, UAT phases of the project \\n \\n- Review and upgrade of code developed by team members \\n \\n- Coordinating with onsite coordinator in project testing and project implementation phases \\n \\n- Ensuring quality of deliverables to be compliant with AEGON standard and Integrated Quality Management System standard of Tata Consultancy Services, through Internal and External Quality Assurance checks \\n \\nSolution Environment Java/J2EE (Spring framework v2.5.6), SQL, Rational Application Developer, Rational Clearcase, TOAD   \n",
       "263                                                                                                                                                                                                                                                                                                                                                                                                                                                                                                                                                                                                                                                                                                                                                                                                                                                                                                                                                                                                                                                                                                                                                                                                                                                                                                                                                                                                                                                                                                                                                                                                                                                                                                                                                                                   for 2013 aimed at Life and Pensions products, intended to bring about changes in projection rates, to be effective from January, 2014. \\n \\nRole Technical lead, Developer \\nResponsibilities \\n- Writing Technical Specification document using Class Diagrams and Sequence Diagrams \\n \\n- Technical lead to guide developers through the development, unit and integration testing, UAT phases of the project \\n \\n- Review and upgrade of code developed by team members \\n \\n- Coordinating with onsite coordinator in project testing and project implementation phases \\n \\n- Ensuring quality of deliverables to be compliant with AEGON standard and Integrated Quality Management System standard of Tata Consultancy Services, through Internal and External Quality Assurance checks \\n \\nSolution Environment Java/J2EE (Spring framework v2.5.6), SQL, Rational Application Developer, Rational Clearcase, TOAD   \n",
       "332                                                                                                                                                                                                                                                                                                                                                                                                                                                                                                                                                                                                                                                                                                                                                                                                                                                                                                                                                                                                                                                                                                                                                                                                                                                                                                                                                                                                                                                                                                                                                                                                                                                                                                                                                                                                                                                                                                                                                                                                                                                                                                                                                                                                                                                                                                                                                                                                                                                                                                                                                          NOIDA (25 Jan 2008 - 25 December 2015) \\nServed various positions, including Technical team leader, Technical Architect and Technical Project Manager.   \n",
       "514                                                                                                                                                                                                                                                                                                                                                                                                                                                                                                                                                                                                                                                                                                                                                                                                                                                                                                                                                                                                                                                                                                                                                                                                                                                                                                    Kolkata, India \\nCustomer AEGON UK \\nPeriod July 2013 - September 2013 \\nDescription \\nAdviser Tracker is a new application aimed to provide a financial adviser with a quick, read only view of the customer's policy status. The details are fetched from PEGA systems through connection to SQL server. The application was built on Spring MVC framework. \\n \\nRole Analyst, Technical lead, Developer \\nResponsibilities \\n- Creating the prototype application and discussion with clients to ensure the completeness of requirement gathering. Creating Business specification document from this understanding \\n \\n- Effort estimation of the project by analyzing the project requirements \\n \\n- Preparing Technical Specification Document using Class Diagrams and Sequence Diagrams \\n \\n- Designing and developing the new application using Spring MVC framework \\n \\n- Develop the functionalities based on Technical Specification Document \\n \\n- Interaction with developers to guide them through development and unit testing, system testing and UAT phases of the project \\n \\n- Performance/stress testing of the application created \\n \\n- Preparing project handover document to be provided to production support team, for the new application created \\n \\nSolution Environment J2EE (Spring MVC v2.5.6), SQL, Rational Application Developer, Rational Clearcase, SQL Server   \n",
       "591                                                                                                                                                                                                                                                                                                                                                                                                                                                                                                                                                                                                                                                                                                                                                                                                                                                                                                                                                                                                                                                                                                                                                                                                                                                                                                                                                                                                                                                                                                                                                                                                                                                                                                                                                                                                                                                                                                                                                                                                                                                                                                                                                                                                                                                                                                                                                                                                                                                                                                                                                          NOIDA (25 Jan 2008 - 25 December 2015) \\nServed various positions, including Technical team leader, Technical Architect and Technical Project Manager.   \n",
       "1504                                                                                                                                                                                                                                                                                                                                                                                                                                                                                                                                                                                                                                                                                                                                                                                                                                                                                                                                                                                                                                                                                                                                                                                                                                                                                                                                                                           Worked on MVC based project under the guidance of Senior Developer. \\nLearned to write organized and Reusable code. \\n \\nㅡ \\n \\nProjects Resortapp Website / Shirish Productions \\nResort App Website was basically built to capture the customer data and it also allows the customers to rate their experience through it \\nAdmin will handle the customer details and can offer discounts through \\nEmailer based on the customer visits that has been captured through the website \\nPHP, Mailer, JavaScript, CSS, Bootstrap \\nRoles And Responsibilities: I was responsible for both Frontend and Backend Development. \\n \\nShivmandir Art Festival/ Shirish Productions \\nShivmandir Art Festival is a single web page was basically built for the customers to visit the Art festival. \\nHTML5, CSS, JavaScript \\nRoles And Responsibilities: I was responsible for User Interface Design \\nbased on UX provided. \\n \\nEmailer/Shirish Productions \\nSleepyHead emailer. \\n \\nBluebot / Shirish Productions \\nRoles And Responsibilities: I was responsible for correcting \\nresponsiveness of existing website based on the provided UX Design. \\nHTML5, CSS. \\n \\nThe Cakes Lady / Shirish Productions \\nThis site was under construction. I worked on developing one web page on this site. \\nHTML5, CSS, Bootstrap \\n \\nㅡ   \n",
       "1568                                                                                                                                                                                                                                              Responsibilities: \\n• Involved in Analysis, Design, Development, UAT and Production phases of the application. \\n• Implemented navigation layer using Spring MVC components like dispatch servlets, controllers, view resolver components. \\n• Implemented business components as Spring Beans, configures using Dependency Injection and annotations. \\n• Designed and developed a REST-ful style Web Services layer to interface with a RPG and DB2 system. \\n• Worked on Core Java (Multi-Threading, Collections of type Generics, Templates) and used the core packages. \\n• Used JSP, HTML5,CSS,JQuery, JavaScript, JSON and Ajax to develop the UI layer of the application. \\n• Worked on ExtJS4.2.1 for user interface widgets with high performance scalable grids, trees and menus. \\n• Participated in development of a well responsive single page application using AngularJS. \\n• Developed Single-page Angular JS application with solid UI framework during my application. \\n• Developed the Persistence Layer using Hibernate 2.5 with JPA. \\n• Used Spring ORM/JDBC layers for integrating Hibernate/JPA and also for regular JDBC calls. \\n• Used Hibernate in persistence layer and developed POJO's, Data Access Object (DAO) to handle all database operations. \\n• Developed several Web Service stubs using AXIS 2.0 engine, SOAP UI, JAX-RPC, Documentliteral. \\n• Used Business Delegate, Singleton, Front Controller, Factory and DAO design patterns \\n• Implemented logger for debugging using Log4j. \\n• Utilized MongoDB database management system for keeping user generated data. \\n• Developed few stored procedures, triggers and sequences. \\n• Extensively used dynamic SQL, PL/SQL packages, Procedures and Database Triggers. \\n• Involved in onsite-offshore coordination, agile methodology includes daily SCRUM meetings,iteration, planning, etc. \\n• Involved in build and deployment of multiple modules of web based applications using Maven and Jenkins on JBoss. \\n• Involved in implementation of large scale Linux deployments. \\n• Used GIT as version management tool. \\n• Used ANT for building the EAR file. \\n \\nEnvironment: Java SE 7,8, J2EE 5, Core Java, AngularJS, JSP,JSON, CSS3, HTML5 ,jQuery, Spring MVC/ DI/ORM/JDBC, ANT, Log4J, JavaScript, ExtJS, JSF, Ajax, Mongo DB, Oracle10g, Hibernate/JPA ,JBoss, My Eclipse, Unix, CVS, Jenkins, Maven, Axis 2.0, DB2,Junit,RESTWeb Services, GIT.   \n",
       "1612                                                                                                                                                                                                                                                                                                                                                                                                                                                                                                                                                                                                                                                                                                                                                                                                                                                                                                                                                                                                                                                                                                                                                                                                                                                                                                                                                                                                                                                                                                                                                                                                                                                                                                                                                                                                                                                                                                                                                                                                                                                                                                                                                                                                                                                                                                                                                                                                                                                                                            support in the HA production environment. Created and managed \\nresources profiles, restricted access with respective privileges. Mentored database storage structure like redo log files, data files, tablespaces.   \n",
       "1613                                                                                                                                                                                                                                                                                                                                                                                                                                                                                                                                                                                                                                                       regular activity), Oracle RAC (configuration), patch installation, test code generation for NFT environment support of load runner to test system performance with high volume data using PL/SQL. \\nSpecial achievements: Generated all unit test cases for complete pl/sql application with the help of Quest Oracle code tester. \\n \\nOur client RSA is the premier provider of security solutions for business acceleration. As the chosen security partner of more than 90 percent of the Fortune 500, RSA helps the world's leading organizations succeed by solving their most complex and sensitive security challenges. Our developed product RSA Go ID Authentication Service (Go ID v2.0.0.2) is a network-based authentication service that allows users to protect their online accounts with the same proven one-time password technology that has helped secure corporate networks around the world. From world-class customer service and fulfillment to distribution and provisioning, Go ID provides the business processes required to help organizations service and protect their online users. \\n \\nResponsibilities \\n• Implementation of Oracle Wallet, database vault, TDE, CDC, Complex query tuning, over all DB performance enhancement, shell scripting, documentation & designing, planning for application compatible schema structure \\n• Major involvement for designed data ware house schema structure based on client supporting business requirement as a DBA. \\n• Implemented Data Guard \\n• Performed all aspects of database administration including installs, builds, upgrades, object sizing, object creation, backup/recovery, patches, monitoring, export/imports and SQL loader. \\n• Complex query writing \\n• Procedure writing \\n• Database stress testing \\n• Involved in the installation, maintenance and troubleshooting of RAC on VMware, Single Instance Databases and OEM. \\n• Involved in the Design of Production Database design, Backup Strategies using RMAN, and Configuring Oracle Streams.   \n",
       "1632                                                                                                                                                                                                                                                                                                                                                                                                                                                                                                                                                                                                                                                                                                                                                                                                                                                                                                                                                                                                                                                                                                                                                                                                                                                                                                                                                                                                                                                                                                                                                                                                                                                                                                                                                                                                                                                                                                                                                                                                                                                                                                                                                                                                                                                                        Currently I am working as PHP/ Nodejs/React Technical Lead and my work responsibilities are to understand project requirements, Make Technical Documents, Scrum Planning, Daily Weekly Task Management, Database Planning, Development/staging/Production environment management, Server Management, Code Deployment, Code Review, Find glitches in developed projects and improve performance, Core structure and library development.   \n",
       "1633                                                                                                                                                                                                                                                                                                                                                                                                                                                                                                                                                                                                                                                                                                                                                                                                                                                                                                                                                                                                                                                                                                                                                                                                                                                                                                                                                                                                                                                                                                                                                                                                                                                                                                                                                                                                                                                                                                                                                                                                                                                                                                                                                                                                                                                                                       • Understand project requirements with seniors. \\n• Make technical documents like wireframe, detail document, flow document. \\n• Database planning. \\n• Scrum planning and timeline preparation. \\n• Make weekly/daily plan and distribute tasks among team members. \\n• EC2 linux server setup and monitoring. \\n• Project core structure library development. \\n• Git code review. \\n• React development and training.   \n",
       "1654                                                                                                                                                                                                                                                                                                                                                                                                                                                                                                                                                                                                                                                                                                                                                                                                                                                                                                                                                                                                                                                                                                                                                                                                                                                                                                                                                                                                                                                                                                                                                                                                                                                                                                                                                                                                                                                                                                                                                                                                                                                                                                                                                                                          • Technologies/Tools: AngularJS, JavaScript, HTML, Bootstrap, CSS, Java \\n• Project Synopsis: This project is combination of lots of E-learning activities, made for Oxford University students. \\nThis is developed using AngularJS for frontend and Java at backend. Course modules have backend connectivity \\nwith RESTful services. Templates have the varieties like static, video based, audio based, match the pair, drag and drop, etc. Third party plug-ins also used to make app more robust and flexible.   \n",
       "1731  Worked on web development \"Find-Client.com\", \"sendmoney.indiapay.com\", \\n\"BookingKiya.com\", \"app.indiapay.com\" and \"https://app.srchengine.com\" shopify app projects. \\n1. Find-Client.com is like a job portal for USA. It allows customers to search companies and apply their profile to respected persons from that companies. Track reply emails & Notes. \\nMessaging functionality between recruiter & customers. Adding/uploading email lists (contacts) and Sending & Scheduling Email Campaign functionality. \\nURL - https://www.find-client.com \\nTechnologies: Laravel Framework PHP, JavaScript, Ajax, Bootstraps. \\n2. Remittance i.e. Sendmoney.indiapay project is to send USA dollar to various countries like \\nIndia, UAE, Pakistan, China, Nepal, etc. in their respective currency. It includes various \\nfunctionalities like User registration, add & Verify USA bank account, Add & Verify Receiver \\nbank account, transfer money, view updated currency rates. \\nURL - https://sendmoney.indiapay.com \\nTechnologies: Laravel Framework PHP, JavaScript, Ajax, Bootstraps. \\n3. Bookingkiya.com is for online Check-Ins system to business (doctor, salon& restaurants). It \\nlets you place your name on the list at your nearby Restaurant, Salon or Doctor/Dentist and Provide you an updated estimated wait time. It includes functionalities like register, search \\nbusinesses and check their respected waiting times, Check-In to particular business, Business \\nregistration, calculating waiting time, show customers waiting list to business owners, finish \\nCheck-In, maintain Check-In History. \\nURL - http://bookingkiya.com \\nTechnologies: Laravel Framework PHP, JavaScript, Ajax, Bootstraps. \\n4. Point Of Sale (POS) system i.e. www.app.indiapay.com for Merchants (shop owners) in India \\nto manage orders and payments through UPI & Cash. It includes add products inventory, add \\ncustomers inventory, manage customers account bills, request customers orders payment using \\nUPI & Cash payment gateway, creating Sales & purchase invoices & filing GST returns using \\nClear-tax API integration. \\nURL - https://app.indiapay.com \\nTechnologies: Laravel Framework PHP, JavaScript, Ajax. \\n5. Shopify App i.e. Google AdWords Optimization by SrchEngine App. It is automation \\nplatform for Google AdWords to help you automate and tweak your ads. It allows to execute all \\nGoogle Adwords scripts, integrated Google Analytics API, integrated Swydo, integrated SpyFu \\nAPI, upload shopify products to Google Merchant Center. \\nURL- https://app.srchengine.com \\nTechnologies: Laravel Framework PHP, JavaScript, Ajax, Bootstraps   \n",
       "\n",
       "        labels   predict   compare  \n",
       "7     4.100830  2.619141  1.481689  \n",
       "8     4.100830  2.339844  1.760986  \n",
       "21    3.637809  2.337891  1.299918  \n",
       "219   2.979291  0.887207  2.092084  \n",
       "261   2.917724  1.785156  1.132567  \n",
       "262   2.912010  1.882812  1.029197  \n",
       "263   2.912010  1.781250  1.130760  \n",
       "332   2.888618  1.630859  1.257758  \n",
       "514   2.605642  1.459961  1.145681  \n",
       "591   2.493492  0.721191  1.772301  \n",
       "1504  0.448863  2.269531  1.820669  \n",
       "1568  1.216258  2.281250  1.064992  \n",
       "1612  0.193961  2.662109  2.468148  \n",
       "1613  0.193961  2.599609  2.405648  \n",
       "1632  0.790144  2.160156  1.370012  \n",
       "1633  0.790144  2.134766  1.344622  \n",
       "1654  0.651347  2.181641  1.530294  \n",
       "1731  0.458106  2.224609  1.766503  "
      ]
     },
     "execution_count": 19,
     "metadata": {},
     "output_type": "execute_result"
    }
   ],
   "source": [
    "pd.options.display.max_colwidth = None\n",
    "print(compare_df[compare_df.compare >= 1].shape)\n",
    "compare_df[compare_df.compare >= 1]"
   ]
  }
 ],
 "metadata": {
  "kernelspec": {
   "display_name": "Python 3",
   "language": "python",
   "name": "python3"
  },
  "language_info": {
   "codemirror_mode": {
    "name": "ipython",
    "version": 3
   },
   "file_extension": ".py",
   "mimetype": "text/x-python",
   "name": "python",
   "nbconvert_exporter": "python",
   "pygments_lexer": "ipython3",
   "version": "3.7.8"
  }
 },
 "nbformat": 4,
 "nbformat_minor": 4
}
