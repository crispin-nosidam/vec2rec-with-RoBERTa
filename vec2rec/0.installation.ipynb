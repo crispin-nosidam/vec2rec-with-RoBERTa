{
 "cells": [
  {
   "cell_type": "markdown",
   "metadata": {},
   "source": [
    "# Installation Script for Colab\n",
    "Other environments may require different procedures"
   ]
  },
  {
   "cell_type": "code",
   "execution_count": null,
   "metadata": {},
   "outputs": [],
   "source": [
    "import sys\n",
    "import subprocess\n",
    "import pkg_resources\n",
    "\n",
    "required = {'spacy', 'spacy-transformers', 'scikit-learn', 'numpy', 'pandas', 'torch==1.6.0+cu101', 'matplotlib', 'transformers==3.0.2', 'simpletransformers', 'wandb', 'tokenizers==0.8.1rc1', 'tqdm==4.47.0'}\n",
    "installed = {pkg.key for pkg in pkg_resources.working_set}\n",
    "missing = required - installed\n",
    "\n",
    "if missing:\n",
    "    python = sys.executable\n",
    "    subprocess.check_call([python, '-m', 'pip', 'install', *missing], stdout=subprocess.DEVNULL)"
   ]
  },
  {
   "cell_type": "code",
   "execution_count": null,
   "metadata": {},
   "outputs": [],
   "source": [
    "# This is NOT apex in the Pyramid toolkit - version is 0.1\n",
    "# simpletransformers requires it for fp16 support. However it removed the dependency on Aug 5.\n",
    "# Install it only when there are problems\n",
    "!git clone https://github.com/NVIDIA/apex\n",
    "# No cuda installation\n",
    "#!(cd apex;pip install -v --no-cache-dir ./)\n",
    "!(cd apex;pip install -v --no-cache-dir --global-option=\"--cpp_ext\" --global-option=\"--cuda_ext\" ./)\n",
    "!pip show apex"
   ]
  },
  {
   "cell_type": "code",
   "execution_count": 2,
   "metadata": {},
   "outputs": [
    {
     "name": "stdout",
     "output_type": "stream",
     "text": [
      "^C\n"
     ]
    }
   ],
   "source": [
    "# We are still loading the BERT-base-uncased from SpaCy. This will uninstall tqdm 4.47.0 and transformers 3.0.2 so the next cell is required \n",
    "!python -m spacy download en_trf_bertbaseuncased_lg"
   ]
  },
  {
   "cell_type": "code",
   "execution_count": null,
   "metadata": {},
   "outputs": [],
   "source": [
    "import sys\n",
    "import subprocess\n",
    "import pkg_resources\n",
    "\n",
    "required = {'transformers==3.0.2', 'tqdm==4.47.0'}\n",
    "installed = {pkg.key for pkg in pkg_resources.working_set}\n",
    "missing = required - installed\n",
    "\n",
    "if missing:\n",
    "    python = sys.executable\n",
    "    subprocess.check_call([python, '-m', 'pip', 'install', *missing], stdout=subprocess.DEVNULL)"
   ]
  },
  {
   "cell_type": "code",
   "execution_count": null,
   "metadata": {},
   "outputs": [],
   "source": [
    "!pip list|egrep 'spacy|spacy-transformers|scikit-learn|numpy|pandas|torch|matplotlib|transformers|simpletransformers|tokenizers|apex|cudatoolkit|wandb|openpyxl|xlrd|bert|tqdm'"
   ]
  },
  {
   "cell_type": "markdown",
   "metadata": {},
   "source": [
    "#### Result of the grep above on Colab if successfully installed.\n",
    "Please note that pytorch, transformers, simpletransformers, and tokenizers should have the versions below to avoid problems. spaCy uses may require an older huggingface transformers version but 3.0.2 works and it is required by the simpletransformers\n",
    "\n",
    "apex                      0.1            \n",
    "en-trf-bertbaseuncased-lg 2.3.0          \n",
    "matplotlib                3.2.2          \n",
    "matplotlib-venn           0.11.5         \n",
    "numpy                     1.18.5         \n",
    "openpyxl                  2.5.9          \n",
    "pandas                    1.0.5          \n",
    "pandas-datareader         0.8.1          \n",
    "pandas-gbq                0.11.0         \n",
    "pandas-profiling          1.4.1          \n",
    "scikit-learn              0.22.2.post1   \n",
    "simpletransformers        0.46.6         \n",
    "sklearn-pandas            1.8.0          \n",
    "spacy                     2.3.2          \n",
    "spacy-transformers        0.6.2          \n",
    "tokenizers                0.8.1rc1       \n",
    "torch                     1.6.0+cu101    \n",
    "torchcontrib              0.0.2          \n",
    "torchsummary              1.5.1          \n",
    "torchtext                 0.3.1          \n",
    "torchvision               0.7.0+cu101    \n",
    "tqdm                      4.47.0         \n",
    "transformers              3.0.2          \n",
    "wandb                     0.9.4          \n",
    "xlrd                      1.1.0  "
   ]
  }
 ],
 "metadata": {
  "kernelspec": {
   "display_name": "Python 3",
   "language": "python",
   "name": "python3"
  },
  "language_info": {
   "codemirror_mode": {
    "name": "ipython",
    "version": 3
   },
   "file_extension": ".py",
   "mimetype": "text/x-python",
   "name": "python",
   "nbconvert_exporter": "python",
   "pygments_lexer": "ipython3",
   "version": "3.7.8"
  }
 },
 "nbformat": 4,
 "nbformat_minor": 1
}
